{
 "cells": [
  {
   "cell_type": "markdown",
   "id": "c8971d07-61fb-40ee-b90f-18104537b033",
   "metadata": {},
   "source": [
    "# Agenda\n",
    "\n",
    "---\n",
    "\n",
    "60 min: Overview of Association tests used in GWAS, how and when they are used\n",
    "\n",
    "We have already used example of the following: \n",
    "* $\\chi^2$ tests\n",
    "* Odds Ratio\n",
    "\n",
    "Now it is time to look at slightly more sopisticated approaches to analysis: \n",
    "\n",
    "* Linear regression (continuous trait: height, blood pressure )\n",
    "* Logistic Regression (binary trait: presence or absence of disease = case/controls)\n",
    "* Multilinear regression\n",
    "* Discussion of Covariates\n",
    "\n",
    "## Goals\n",
    "\n",
    "* Have a basic understanding of regression, association tests and one single p-value.\n",
    "* Have a basic understanding of multiple hypothesis testing and dealing with >1 million p-values simultaneously.\n",
    "\n",
    "## Dataset\n",
    "\n",
    "We will use the dataset from [Statistical Learning of Large-Scale Genetic Data: How to Run a Genome-Wide Association Study of Gene-Expression Data Using the 1000 Genomes Project Data](https://pmc.ncbi.nlm.nih.gov/articles/PMC10940486/) by  Sugolov, Emmenegger, Paterson, & Sun (2023).\n",
    "\n",
    "## Seaborn Resources\n",
    "\n",
    "In this lesson, we will use the Seaborn data visualization library. Here are some helpful resources for Seaborn:\n",
    "\n",
    "* [DataCamp Seaborn Cheat Sheet](https://s3.amazonaws.com/assets.datacamp.com/blog_assets/Python_Seaborn_Cheat_Sheet.pdf)\n",
    "* [Seaborn Tutorial](https://seaborn.pydata.org/tutorial/introduction.html)\n",
    "* [Additional Seaborn Cheat Sheet](https://cheatography.com/arshdeep/cheat-sheets/seaborn/)"
   ]
  },
  {
   "attachments": {},
   "cell_type": "markdown",
   "id": "71d07371-4d36-4ba5-ad9d-2a1c2d427e62",
   "metadata": {},
   "source": [
    "# Statistics of GWAS\n",
    "\n",
    "---\n",
    "\n",
    "The general regression equation: \n",
    "\n",
    "$$Y∼α+βX+g+e$$\n",
    "\n",
    "* Y phenotypic values\n",
    "* X genotype variant\n",
    "* $\\beta$ is effect of the SNP on the outcome\n",
    "* g∼N(0,$σ_A^2$)\n",
    "    * g is some type of correction for relatedness etc (Often first two Principal components)\n",
    "* e∼N(0,$σ_e^2$)\n",
    "    * e is random error\n",
    "\n",
    "You can see this plotted as: \n",
    "\n",
    "![Regression](https://raw.githubusercontent.com/awnorowski/BDSiC_2025/refs/heads/main/images/regressionGWAS.png)\n",
    "\n",
    "\n"
   ]
  },
  {
   "cell_type": "markdown",
   "id": "641463fa-d17c-461e-afbc-1bcf3d81249d",
   "metadata": {},
   "source": [
    "# PHENOTYPE GENOTYPE ASSOCIATION ANALYSIS\n",
    "\n",
    "---\n",
    "\n",
    "## Simple Linear Regression\n",
    "Fundamental question for this data set: does the genotype of **SNP1-5618704** (X variable; independent variable) influence the expression of **ERAP2** (Y variable; dependent variable). \n"
   ]
  },
  {
   "cell_type": "code",
   "execution_count": 1,
   "id": "89285379-7517-4c9f-a6ef-6d60ddff1b63",
   "metadata": {},
   "outputs": [],
   "source": [
    "import numpy as np\n",
    "import pandas as pd\n",
    "import matplotlib.pyplot as plt\n",
    "import seaborn as sns\n",
    "import sklearn \n",
    "import statsmodels.api as sm"
   ]
  },
  {
   "cell_type": "code",
   "execution_count": 3,
   "id": "daadd8d6-ba05-4ccb-82bd-ecd36b3e4e8f",
   "metadata": {},
   "outputs": [
    {
     "name": "stdout",
     "output_type": "stream",
     "text": [
      "    FID      IID  PID  MID  SEX     PHENO  POP SNP1-5618704 SNP1-57815437  \\\n",
      "0  1328  NA06984    0    0    1  11.49810  CEU           AA            AA   \n",
      "1  1328  NA06989    0    0    2  10.67960  CEU           AA            AA   \n",
      "2  1330  NA12340    0    0    1  10.54530  CEU           AA            AA   \n",
      "3  1330  NA12341    0    0    2  11.45550  CEU           AA            AA   \n",
      "4  1330  NA12342    0    0    1   7.98708  CEU           AA            AA   \n",
      "5  1330  NA12343    0    0    2  11.26740  CEU           AA            AA   \n",
      "6  1334  NA12144    0    0    1  12.11140  CEU           AA            AA   \n",
      "7  1334  NA12145    0    0    2  11.81990  CEU           AA            AA   \n",
      "\n",
      "  SNP1-64302980  ... SNP18-46491800 SNP18-66700491 SNP19-2446724  \\\n",
      "0            CC  ...             GG             AA            GG   \n",
      "1            CC  ...             GG             AA            AG   \n",
      "2            TT  ...             GG             AA            GG   \n",
      "3            TC  ...             GG             AA            GG   \n",
      "4            CC  ...             GG             AA            GG   \n",
      "5            CC  ...             GG             AA            AG   \n",
      "6            TC  ...             GG             AA            AG   \n",
      "7            CC  ...             GG             AA            GG   \n",
      "\n",
      "  SNP19-6387304 rs427366 SNP20-4494424 rs227134 rs4134385 SNP22-47353519  \\\n",
      "0            TC       CC            GG       AA        GA             AA   \n",
      "1            TC       TC            GG       GG        AA             AA   \n",
      "2            TC       TC            GG       GA        AA             GA   \n",
      "3            TC       CC            GG       AA        AA             AA   \n",
      "4            CC       TC            GG       GA        GA             AA   \n",
      "5            TT       TC            GG       AA        AA             GA   \n",
      "6            CC       CC            GG       GA        AA             AA   \n",
      "7            CC       CC            GG       AA        AA             AA   \n",
      "\n",
      "  SNP23-99734210  \n",
      "0             GG  \n",
      "1             AG  \n",
      "2             GG  \n",
      "3             GG  \n",
      "4             GG  \n",
      "5             AG  \n",
      "6             GG  \n",
      "7             AG  \n",
      "\n",
      "[8 rows x 107 columns]\n"
     ]
    }
   ],
   "source": [
    "# Step 1: bring data in - this data is conveniently online!\n",
    "Ex1url=\"https://www.utstat.toronto.edu/sun/data/GWAS-workshop-sample-dataset-ERAP2.txt\"\n",
    "mydata_ERAP2=pd.read_csv(Ex1url,sep='\\t')\n",
    "print(mydata_ERAP2.head(8))\n",
    "# we will not deal with PLINK, but this dataset holds the type of information that you will need when using PLINK"
   ]
  },
  {
   "cell_type": "markdown",
   "id": "c243bf85-6f55-4a08-8067-73eab71b837e",
   "metadata": {},
   "source": [
    "### Data Wrangling\n",
    "\n",
    "Now that we have brought the dataset in, we are going to do some data peeking and some wrangling.\n",
    "\n",
    "This is where we will rely heavily on Pandas!"
   ]
  },
  {
   "cell_type": "code",
   "execution_count": 4,
   "id": "14616d2f-b627-4da9-a2cf-7fe42cc75272",
   "metadata": {},
   "outputs": [
    {
     "name": "stdout",
     "output_type": "stream",
     "text": [
      "         FID  IID  PID  MID  PHENO  SNP1-5618704  SNP1-57815437  \\\n",
      "SEX POP                                                           \n",
      "1   CEU   53   53   53   53     53            53             53   \n",
      "    YRI   46   46   46   46     46            46             46   \n",
      "2   CEU   51   51   51   51     51            51             51   \n",
      "    YRI   45   45   45   45     45            45             45   \n",
      "\n",
      "         SNP1-64302980  SNP1-104336159  SNP1-151435036  ...  SNP18-46491800  \\\n",
      "SEX POP                                                 ...                   \n",
      "1   CEU             53              53              53  ...              53   \n",
      "    YRI             46              46              46  ...              46   \n",
      "2   CEU             51              51              51  ...              51   \n",
      "    YRI             45              45              45  ...              45   \n",
      "\n",
      "         SNP18-66700491  SNP19-2446724  SNP19-6387304  rs427366  \\\n",
      "SEX POP                                                           \n",
      "1   CEU              53             53             53        53   \n",
      "    YRI              46             46             46        46   \n",
      "2   CEU              51             51             51        51   \n",
      "    YRI              45             45             45        45   \n",
      "\n",
      "         SNP20-4494424  rs227134  rs4134385  SNP22-47353519  SNP23-99734210  \n",
      "SEX POP                                                                      \n",
      "1   CEU             53        53         53              53              53  \n",
      "    YRI             46        46         46              46              46  \n",
      "2   CEU             51        51         51              51              51  \n",
      "    YRI             45        45         45              45              45  \n",
      "\n",
      "[4 rows x 105 columns]\n",
      "~~~~~~~~~~~~~~~~~~~~~\n",
      "SEX  POP\n",
      "1    CEU    10.637747\n",
      "     YRI    10.857082\n",
      "2    CEU    10.809745\n",
      "     YRI    10.164929\n",
      "Name: PHENO, dtype: float64\n",
      "~~~~~~~~~~~~~~~~~~~~~\n",
      "count    195.000000\n",
      "mean      10.625360\n",
      "std        1.561035\n",
      "min        7.914240\n",
      "25%        8.842900\n",
      "50%       11.295000\n",
      "75%       11.827400\n",
      "max       13.208400\n",
      "Name: PHENO, dtype: float64\n"
     ]
    }
   ],
   "source": [
    "# male = 1, female = 2 by convention\n",
    "# CEU: Utah residents with Northern and Western European ancestry from the CEPH collection\n",
    "# YRI: Yoruba in Ibadan, Nigeria \n",
    "\n",
    "\n",
    "# Notice the difference between the following commands\n",
    "print(mydata_ERAP2.groupby([\"SEX\",\"POP\"]).count())\n",
    "print(\"~~~~~~~~~~~~~~~~~~~~~\")\n",
    "print(mydata_ERAP2.groupby([\"SEX\",\"POP\"])[\"PHENO\"].mean())\n",
    "#----------------------------------------------------\n",
    "#print(mydata_ERAP2.describe())\n",
    "print(\"~~~~~~~~~~~~~~~~~~~~~\")\n",
    "print(mydata_ERAP2[\"PHENO\"].describe())"
   ]
  },
  {
   "cell_type": "code",
   "execution_count": 5,
   "id": "1f7cef03-bfba-4916-94ff-0989e81d5919",
   "metadata": {},
   "outputs": [
    {
     "name": "stdout",
     "output_type": "stream",
     "text": [
      "0      0\n",
      "1      0\n",
      "2      0\n",
      "3      0\n",
      "4      0\n",
      "      ..\n",
      "190    2\n",
      "191    0\n",
      "192    1\n",
      "193    0\n",
      "194    2\n",
      "Name: SNP1-5618704, Length: 195, dtype: int64\n"
     ]
    }
   ],
   "source": [
    "# in order to make this tractable into a visualization, we need to do some recoding into dosages:\n",
    "# We convert the AA into 0, AC/CA into 1 and CC into 2 representing the number of C alleles\n",
    "# we are doing this via the map function and each C allele contributes 1 dose\n",
    "# The following is a simple example where only one column, SNP1-5618704, is focused on.\n",
    "# ----------\n",
    "mydata_converted= mydata_ERAP2[\"SNP1-5618704\"].map({'AA': 0, 'AC': 1, 'CA':1, 'CC': 2})\n",
    "print(mydata_converted)"
   ]
  },
  {
   "cell_type": "code",
   "execution_count": 6,
   "id": "a8d274ff-5399-4e83-ad52-0f820880e72e",
   "metadata": {},
   "outputs": [
    {
     "name": "stdout",
     "output_type": "stream",
     "text": [
      "~~~~~~~\n",
      "        PHENO  SNP1-5618704\n",
      "0    11.49810             0\n",
      "1    10.67960             0\n",
      "2    10.54530             0\n",
      "3    11.45550             0\n",
      "4     7.98708             0\n",
      "..        ...           ...\n",
      "99   11.91800             0\n",
      "100   8.11012             0\n",
      "101  12.29190             0\n",
      "102  11.55000             0\n",
      "103  10.68810             0\n",
      "\n",
      "[104 rows x 2 columns]\n"
     ]
    }
   ],
   "source": [
    "# So, now we will see a visualization of the phenotype-genotype association for CEU\n",
    "# We are pulling out the CEU individuals and the two columns from the larger dataset\n",
    "CEUCurated=mydata_ERAP2[mydata_ERAP2.POP==\"CEU\"][[\"PHENO\",\"SNP1-5618704\"]]\n",
    "#print(CEUCurated.head())\n",
    "print(\"~~~~~~~\")\n",
    "CEUNumConversion=CEUCurated[\"SNP1-5618704\"].map({'AA': 0,'AC': 1,\"CA\":1,'CC': 2})\n",
    "#print(CEUNumConversion.head())\n",
    "\n",
    "CEUCon=pd.concat([CEUCurated[\"PHENO\"],CEUNumConversion],axis=1)\n",
    "print(CEUCon)\n",
    "#print(type(CEUCon))"
   ]
  },
  {
   "cell_type": "markdown",
   "id": "bb46b6d4-f1fc-4378-9e13-d4274775121c",
   "metadata": {},
   "source": [
    "### Visualization: Simple Linear Regression"
   ]
  },
  {
   "cell_type": "code",
   "execution_count": 7,
   "id": "11224fbb-6d05-4a3d-9088-8cfe81933787",
   "metadata": {},
   "outputs": [
    {
     "name": "stdout",
     "output_type": "stream",
     "text": [
      "<class 'numpy.ndarray'>\n",
      "<class 'numpy.ndarray'>\n"
     ]
    },
    {
     "data": {
      "text/plain": [
       "[<matplotlib.lines.Line2D at 0x15b52fe50>]"
      ]
     },
     "execution_count": 7,
     "metadata": {},
     "output_type": "execute_result"
    },
    {
     "data": {
      "image/png": "[encoded data removed]",
      "text/plain": [
       "<Figure size 640x480 with 1 Axes>"
      ]
     },
     "metadata": {},
     "output_type": "display_data"
    }
   ],
   "source": [
    "# simple linear regression: average value of Y =intercept +slope*X\n",
    "x=np.array(CEUNumConversion)\n",
    "y=np.array(CEUCurated[\"PHENO\"])\n",
    "print(type(x))\n",
    "print(type(y))\n",
    "\n",
    "# there is a polyfit method in numpy that requires a degree=1 for linear, and different numbers for polynomials etc\n",
    "b,m=np.polyfit(x,y,deg=1)\n",
    "\n",
    "plt.plot(x,y,\"o\",label='scatter plot')\n",
    "#plt.ylim([5,15])\n",
    "plt.xlabel(\"Number of C alleles\")\n",
    "plt.ylabel(\"Expression of EDAR2\")\n",
    "plt.title(\"EDAR2 and SNP1-5618704 \")\n",
    "plt.plot(x,m+b*x,\"-\")"
   ]
  },
  {
   "cell_type": "markdown",
   "id": "96f62b79-b60a-43bf-b3b8-e6117a78637d",
   "metadata": {},
   "source": [
    "__Important scientific question: Does the genotype of SNP1-5618704  (X) influence the gene expression of ERAP2 (Y)? Does Y depend on X?__\n",
    "\n",
    "Descriptively it certainly seems promising. But we would need to conduct a statistical test to quantify if the regression line is significantly different from 0. \n"
   ]
  },
  {
   "cell_type": "code",
   "execution_count": 8,
   "id": "5e5d9af1-754d-4639-996e-fe3dd9ec9186",
   "metadata": {},
   "outputs": [
    {
     "name": "stdout",
     "output_type": "stream",
     "text": [
      "the intercept is:  10.799663988711169\n",
      "the slope is:  -0.8963905362182295\n"
     ]
    }
   ],
   "source": [
    "# What is the slope and is it statistically different than 0? \n",
    "print(\"the intercept is: \", m)\n",
    "print(\"the slope is: \", b)\n",
    "# We would have to use statistics to quantify how different from 0 this is, but it seems unlikely to be different. "
   ]
  },
  {
   "cell_type": "code",
   "execution_count": 9,
   "id": "ecda499e-31ad-4101-90af-de318e37e70b",
   "metadata": {},
   "outputs": [
    {
     "data": {
      "text/plain": [
       "<seaborn.axisgrid.FacetGrid at 0x15b577a10>"
      ]
     },
     "execution_count": 9,
     "metadata": {},
     "output_type": "execute_result"
    },
    {
     "data": {
      "image/png": "[encoded data removed]",
      "text/plain": [
       "<Figure size 500x500 with 1 Axes>"
      ]
     },
     "metadata": {},
     "output_type": "display_data"
    }
   ],
   "source": [
    "#seaborn produces beautiful plots that are similar to ggplot in R!\n",
    "# here is some help: https://seaborn.pydata.org/archive/0.11/tutorial/regression.html\n",
    "sns.lmplot(x=\"SNP1-5618704\",y=\"PHENO\",data=CEUCon)\n",
    "#sns.regplot(x=\"SNP1-5618704\",y=\"PHENO\",data=CEUCon)\n",
    "# --------\n",
    "# Note that sns.lmplot provides you with a confidence interval for your OLS line\n",
    "# --------"
   ]
  },
  {
   "cell_type": "markdown",
   "id": "5fa31236-2329-4513-9744-4e286afc0c64",
   "metadata": {},
   "source": [
    "### Anaylsis Practice\n",
    "\n",
    "Now, you should replicate this analysis with the Yorubi Population."
   ]
  },
  {
   "cell_type": "code",
   "execution_count": 14,
   "id": "ed6e63b5-3f6a-49be-96f6-e1db575c4a8d",
   "metadata": {},
   "outputs": [
    {
     "name": "stdout",
     "output_type": "stream",
     "text": [
      "       PHENO SNP1-5618704\n",
      "104  10.6536           CA\n",
      "105  10.3231           AA\n",
      "106  12.0274           AA\n",
      "107  11.1634           AA\n",
      "108  11.8303           AA\n",
      "~~~~~~~\n",
      "104    1\n",
      "105    0\n",
      "106    0\n",
      "107    0\n",
      "108    0\n",
      "      ..\n",
      "190    2\n",
      "191    0\n",
      "192    1\n",
      "193    0\n",
      "194    2\n",
      "Name: SNP1-5618704, Length: 91, dtype: int64\n"
     ]
    }
   ],
   "source": [
    "# Now the same thing for Yorubi\n",
    "# So, now we will see a visualization of the phenotype-genotype association\n",
    "# Pull out relevant columns: PHENO and SNP1-5618704\n",
    "# and map the genotypes into doses: AA into 0, AC/CA into 1 and CC into 2 representing the number of C alleles\n",
    "\n"
   ]
  },
  {
   "cell_type": "code",
   "execution_count": 15,
   "id": "49212ccb-eec1-4306-bced-e9b613072d11",
   "metadata": {},
   "outputs": [
    {
     "name": "stdout",
     "output_type": "stream",
     "text": [
      "<class 'numpy.ndarray'>\n",
      "<class 'numpy.ndarray'>\n"
     ]
    },
    {
     "data": {
      "text/plain": [
       "[<matplotlib.lines.Line2D at 0x17d18a210>]"
      ]
     },
     "execution_count": 15,
     "metadata": {},
     "output_type": "execute_result"
    },
    {
     "data": {
      "image/png": "[encoded data removed]",
      "text/plain": [
       "<Figure size 640x480 with 1 Axes>"
      ]
     },
     "metadata": {},
     "output_type": "display_data"
    }
   ],
   "source": [
    "# simple linear regression: average value of Y =intercept +slope*X\n",
    "# you need to pull out each column first\n"
   ]
  },
  {
   "cell_type": "code",
   "execution_count": 16,
   "id": "015844ce-ef6f-47e7-9777-dcd40b9cfd06",
   "metadata": {},
   "outputs": [
    {
     "name": "stdout",
     "output_type": "stream",
     "text": [
      "the intercept is:  10.854400719844351\n",
      "the slope is:  -0.4544540515564181\n"
     ]
    }
   ],
   "source": [
    "# What is the slope and is it statistically different than 0? \n",
    "#print(\"the intercept is: \", m_yri)\n",
    "#print(\"the slope is: \", b_yri)\n",
    "# We would have to use statistics to quantify how different from 0 this is, but it seems unlikely to be different. "
   ]
  },
  {
   "cell_type": "markdown",
   "id": "d4ac62ee-2f4b-48d8-b914-ba91e4130237",
   "metadata": {},
   "source": [
    "## Ordinary Least Squares\n",
    "\n",
    "In the above examples, we used one X to predict an outcome Y. You could also use a set of predictors $X_1,X_2,X_3,...,X_i$\n",
    "\n",
    "OLS is a strategy that places a line of best fit (regression line) that minimizes the scatter of the points around the line. The slope in this case, $\\beta$ = ($\\beta_0,\\beta_1,\\beta_2,...,\\beta_i$) will minimize the sum of the squares of the differences between the observed $y_i$ values and the predicted $\\hat{y_i}$ predicted based on the set of predictors, $x_1, x_2,...,x_i $"
   ]
  },
  {
   "cell_type": "code",
   "execution_count": 10,
   "id": "6453a37f-a0e4-4db8-aa7a-013f6edb8d8a",
   "metadata": {},
   "outputs": [
    {
     "name": "stdout",
     "output_type": "stream",
     "text": [
      "                            OLS Regression Results                            \n",
      "==============================================================================\n",
      "Dep. Variable:                      y   R-squared:                       0.035\n",
      "Model:                            OLS   Adj. R-squared:                  0.026\n",
      "Method:                 Least Squares   F-statistic:                     3.718\n",
      "Date:                Tue, 06 May 2025   Prob (F-statistic):             0.0566\n",
      "Time:                        15:20:31   Log-Likelihood:                -187.77\n",
      "No. Observations:                 104   AIC:                             379.5\n",
      "Df Residuals:                     102   BIC:                             384.8\n",
      "Df Model:                           1                                         \n",
      "Covariance Type:            nonrobust                                         \n",
      "==============================================================================\n",
      "                 coef    std err          t      P>|t|      [0.025      0.975]\n",
      "------------------------------------------------------------------------------\n",
      "const         10.7997      0.151     71.432      0.000      10.500      11.100\n",
      "x1            -0.8964      0.465     -1.928      0.057      -1.818       0.026\n",
      "==============================================================================\n",
      "Omnibus:                       17.014   Durbin-Watson:                   1.907\n",
      "Prob(Omnibus):                  0.000   Jarque-Bera (JB):               10.602\n",
      "Skew:                          -0.635   Prob(JB):                      0.00499\n",
      "Kurtosis:                       2.086   Cond. No.                         3.22\n",
      "==============================================================================\n",
      "\n",
      "Notes:\n",
      "[1] Standard Errors assume that the covariance matrix of the errors is correctly specified.\n"
     ]
    }
   ],
   "source": [
    "# back to CEU\n",
    "x=np.array(CEUNumConversion)\n",
    "y=np.array(CEUCurated[\"PHENO\"])\n",
    "x = sm.add_constant(x)\n",
    "result = sm.OLS(y, x).fit()\n",
    "print(result.summary())"
   ]
  },
  {
   "cell_type": "markdown",
   "id": "52503b85-a71f-4a9f-8acd-901aefba0840",
   "metadata": {},
   "source": [
    "Other questions that can be asked: \n",
    "* Are the genotype patterns similar between the YRI and CEU samples?\n",
    "* What is a good estimate? What is an estimate anyway?!\n",
    "* Do genotype frequencies (or allele frequencies) differ between the YRI and\n",
    "CEU populations?\n",
    "* Statistical inference is needed again!"
   ]
  },
  {
   "cell_type": "code",
   "execution_count": 20,
   "id": "07b29583-9565-4e22-8925-6bc91829bdfb",
   "metadata": {},
   "outputs": [],
   "source": [
    "# -----------------\n",
    "# Repeat the analysis above with YRI\n",
    "#"
   ]
  },
  {
   "cell_type": "markdown",
   "id": "a54c377e-adf3-4550-87ac-7f74390b245d",
   "metadata": {},
   "source": [
    "## False Positivies\n",
    "\n",
    "When you test a lot of null hypothesese simulataneously, as we are doing with GWAS analysis, you **will get false positives**. To demonstrate what I mean, I used the material from [Dr. Lei Sun at the University of Toronto](https://github.com/LeiSunUofT/How-to-Run-a-GWAS/blob/main/stat-Sun-module4-mht.pdf).\n",
    "\n",
    "**Strategy** \n",
    "* we will decouple PHENO and SNP1- by simulating the columns independently from each other. That way we know that **there is no correlation because we have broken up any that might actually exist in our sample**.\n",
    "* We will still find false positives that have a low p-value... in fact, we expect to find ~50 of them in 1000 runs ($\\alpha=0.05$)\n",
    "\n"
   ]
  },
  {
   "cell_type": "code",
   "execution_count": 11,
   "id": "c54205d7-5bf6-4654-948e-ad0bbae3fa0d",
   "metadata": {},
   "outputs": [],
   "source": [
    "from random import sample"
   ]
  },
  {
   "cell_type": "code",
   "execution_count": 12,
   "id": "aef4b52d-3151-43ac-975f-e689b22cc800",
   "metadata": {},
   "outputs": [
    {
     "name": "stdout",
     "output_type": "stream",
     "text": [
      "0      11.49810\n",
      "1      10.67960\n",
      "2      10.54530\n",
      "3      11.45550\n",
      "4       7.98708\n",
      "         ...   \n",
      "99     11.91800\n",
      "100     8.11012\n",
      "101    12.29190\n",
      "102    11.55000\n",
      "103    10.68810\n",
      "Name: PHENO, Length: 104, dtype: float64\n",
      "Here are the simulated pheno values\n",
      "47     11.39110\n",
      "15     10.70700\n",
      "74     12.13520\n",
      "62     10.94570\n",
      "100     8.11012\n",
      "         ...   \n",
      "52      8.86301\n",
      "76     12.65100\n",
      "11     12.77880\n",
      "5      11.26740\n",
      "26     12.17570\n",
      "Name: PHENO, Length: 104, dtype: float64\n",
      "        PHENO  SNP1-5618704\n",
      "47   11.39110             0\n",
      "15   10.70700             0\n",
      "74   12.13520             1\n",
      "62   10.94570             0\n",
      "100   8.11012             0\n",
      "..        ...           ...\n",
      "52    8.86301             0\n",
      "76   12.65100             0\n",
      "11   12.77880             0\n",
      "5    11.26740             0\n",
      "26   12.17570             0\n",
      "\n",
      "[104 rows x 2 columns]\n"
     ]
    }
   ],
   "source": [
    "# remember the PHENO column values\n",
    "print(CEUCurated[\"PHENO\"])\n",
    "#permute the observed y values so that we KNOW that there is no correlation between X and Y (because if there\n",
    "# was initially, we have destroyed it\n",
    "y_simulated=CEUCurated[\"PHENO\"].sample(len(CEUCurated[\"PHENO\"]))\n",
    "print(\"Here are the simulated pheno values\")\n",
    "print(y_simulated)\n",
    "#bind the columns to create new dataframe\n",
    "CEU_Simulated=pd.concat([y_simulated,CEUNumConversion],axis=1)\n",
    "print(CEU_Simulated)"
   ]
  },
  {
   "cell_type": "code",
   "execution_count": 13,
   "id": "542fe109-779b-4b55-946d-7fd0632bd5f3",
   "metadata": {},
   "outputs": [
    {
     "name": "stdout",
     "output_type": "stream",
     "text": [
      "                            OLS Regression Results                            \n",
      "==============================================================================\n",
      "Dep. Variable:                      y   R-squared:                       0.017\n",
      "Model:                            OLS   Adj. R-squared:                  0.007\n",
      "Method:                 Least Squares   F-statistic:                     1.758\n",
      "Date:                Tue, 06 May 2025   Prob (F-statistic):              0.188\n",
      "Time:                        15:50:14   Log-Likelihood:                -188.74\n",
      "No. Observations:                 104   AIC:                             381.5\n",
      "Df Residuals:                     102   BIC:                             386.8\n",
      "Df Model:                           1                                         \n",
      "Covariance Type:            nonrobust                                         \n",
      "==============================================================================\n",
      "                 coef    std err          t      P>|t|      [0.025      0.975]\n",
      "------------------------------------------------------------------------------\n",
      "const         10.6682      0.153     69.906      0.000      10.366      10.971\n",
      "x1             0.6222      0.469      1.326      0.188      -0.309       1.553\n",
      "==============================================================================\n",
      "Omnibus:                       21.733   Durbin-Watson:                   1.899\n",
      "Prob(Omnibus):                  0.000   Jarque-Bera (JB):               11.175\n",
      "Skew:                          -0.626   Prob(JB):                      0.00374\n",
      "Kurtosis:                       1.994   Cond. No.                         3.22\n",
      "==============================================================================\n",
      "\n",
      "Notes:\n",
      "[1] Standard Errors assume that the covariance matrix of the errors is correctly specified.\n"
     ]
    }
   ],
   "source": [
    "#sns.lmplot(x=\"SNP1-5618704\",y=\"PHENO\",data=CEU_Simulated)\n",
    "# back to CEU\n",
    "x=np.array(CEUNumConversion)\n",
    "y=np.array(CEU_Simulated[\"PHENO\"])\n",
    "x = sm.add_constant(x)\n",
    "result = sm.OLS(y, x).fit()\n",
    "print(result.summary())"
   ]
  },
  {
   "cell_type": "code",
   "execution_count": null,
   "id": "60409e83-12ff-4c87-928a-057e0f7fe0a8",
   "metadata": {},
   "outputs": [],
   "source": []
  }
 ],
 "metadata": {
  "kernelspec": {
   "display_name": "BDSC",
   "language": "python",
   "name": "python3"
  },
  "language_info": {
   "codemirror_mode": {
    "name": "ipython",
    "version": 3
   },
   "file_extension": ".py",
   "mimetype": "text/x-python",
   "name": "python",
   "nbconvert_exporter": "python",
   "pygments_lexer": "ipython3",
   "version": "3.13.3"
  }
 },
 "nbformat": 4,
 "nbformat_minor": 5
}
