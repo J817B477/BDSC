{
 "cells": [
  {
   "cell_type": "markdown",
   "id": "7b59147e-ff55-4d71-88c7-c0bdd72252c1",
   "metadata": {},
   "source": [
    "# Linear Regression: Additional Practice\n",
    "\n",
    "This is a similar dataset to the one we worked through in 5B, but using the _LCT_ gene, which influences the ability to digest lactose.\n",
    "\n",
    "If you want more practice (or we happen to have time), you can repeat the activities that we did in the other dataset. "
   ]
  },
  {
   "cell_type": "code",
   "execution_count": null,
   "id": "71ba580e-844e-405a-bfd5-ea010df1e2e0",
   "metadata": {},
   "outputs": [],
   "source": [
    "import numpy as np\n",
    "import pandas as pd\n",
    "import matplotlib.pyplot as plt\n",
    "import seaborn as sns\n",
    "import sklearn \n",
    "import statsmodels.api as sm"
   ]
  },
  {
   "cell_type": "code",
   "execution_count": null,
   "id": "aadee503-2d0e-4924-849f-d7f9bdfe437f",
   "metadata": {},
   "outputs": [],
   "source": [
    "Ex2url=\"https://www.utstat.toronto.edu/sun/data/GWAS-workshop-sample-dataset-LCT.txt\"\n",
    "mydata_LCT=pd.read_csv(Ex2url,sep='\\t')\n",
    "print(mydata_LCT.head(10))"
   ]
  },
  {
   "cell_type": "code",
   "execution_count": null,
   "id": "a655d6f0-d61a-4020-8c34-8bb9dff9adf0",
   "metadata": {},
   "outputs": [],
   "source": []
  },
  {
   "cell_type": "code",
   "execution_count": null,
   "id": "ff9698de-7873-4bb5-9de8-a9b3c10a45b6",
   "metadata": {},
   "outputs": [],
   "source": []
  },
  {
   "cell_type": "code",
   "execution_count": null,
   "id": "f299aac0-7c9c-4ba0-ab2b-073187232f2c",
   "metadata": {},
   "outputs": [],
   "source": []
  },
  {
   "cell_type": "code",
   "execution_count": null,
   "id": "d3d54eff-33e5-47d4-a789-e62d0fc28f29",
   "metadata": {},
   "outputs": [],
   "source": []
  },
  {
   "cell_type": "code",
   "execution_count": null,
   "id": "7c29611f-2d45-4309-8771-57c70e6f1242",
   "metadata": {},
   "outputs": [],
   "source": []
  }
 ],
 "metadata": {
  "kernelspec": {
   "display_name": "Python 3 (ipykernel)",
   "language": "python",
   "name": "python3"
  },
  "language_info": {
   "codemirror_mode": {
    "name": "ipython",
    "version": 3
   },
   "file_extension": ".py",
   "mimetype": "text/x-python",
   "name": "python",
   "nbconvert_exporter": "python",
   "pygments_lexer": "ipython3",
   "version": "3.11.5"
  }
 },
 "nbformat": 4,
 "nbformat_minor": 5
}
