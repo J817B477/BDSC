{
 "cells": [
  {
   "cell_type": "markdown",
   "id": "5b835186-735a-4e05-af6f-afe0111726ee",
   "metadata": {},
   "source": [
    "# Extra Material: Data Wrangling\n",
    "\n",
    "---"
   ]
  },
  {
   "cell_type": "markdown",
   "id": "a5c40280-4c76-432a-902b-e44602edf87e",
   "metadata": {},
   "source": [
    "## We will continue to use the ERAP2 dataset from UToronto.\n",
    "\n",
    "Genomic information files are illustrative of the challenge of transforming 2-D data, such as graphs (i.e. pedigrees and family 'trees'), into a data science friendly format. \n",
    "\n",
    "You have the typical coding of nominal data like male, female, and ancestry:\n",
    "* male = 1, female = 2 by convention\n",
    "* CEU: Utah residents with Northern and Western European ancestry from the CEPH collection\n",
    "* YRI: Yoruba in Ibadan, Nigeria \n",
    "\n",
    "In addition, the Columns are Family ID, Individual ID, Paternal ID, Maternal ID, etc which captures the position in a pedigree and tries to account for relatedness in GWAS. There is a good explanation (if you are interested, and especially if you can use \"R\") of [Wrangling decisions](https://github.com/LeiSunUofT/How-to-Run-a-GWAS/blob/main/stat-Sun-module2-data.pdf).\n",
    "\n",
    "![](https://raw.githubusercontent.com/awnorowski/BDSiC_2025/refs/heads/main/images/HowToCodePedigreeGraph.png)\n",
    "\n",
    "\n",
    "We will just do a **quick peek** at the data using histograms...\n",
    "\n",
    "This will be a quick side tangent to remind you about how to pull out columns and how to visualize data sets. "
   ]
  },
  {
   "cell_type": "code",
   "execution_count": null,
   "id": "2a5a0e86-3d57-4581-abe6-07edadeb39ad",
   "metadata": {},
   "outputs": [],
   "source": [
    "# import libraries\n",
    "import numpy as np\n",
    "import pandas as pd"
   ]
  },
  {
   "cell_type": "code",
   "execution_count": null,
   "id": "e311dbce-f720-46bd-aae7-db90d923cb57",
   "metadata": {},
   "outputs": [],
   "source": [
    "# DATA Wrangling\n",
    "# Data set one is from https://github.com/sugolov/GWAS-Workshop/tree/master \n",
    "Ex1url=\"https://www.utstat.toronto.edu/sun/data/GWAS-workshop-sample-dataset-ERAP2.txt\"\n",
    "mydata_ERAP2=pd.read_csv(Ex1url,sep='\\t')\n",
    "print(mydata_ERAP2.head(10))\n",
    "#print(mydata_ERAP2.iloc[[1,2,3,103,104,105,194],1:12])"
   ]
  },
  {
   "cell_type": "code",
   "execution_count": null,
   "id": "1bb07f11-2be8-465d-88e6-dc00e0211025",
   "metadata": {},
   "outputs": [],
   "source": [
    "print(\"~~~~~~~~~~~~~~~~~~~~~\")\n",
    "print(mydata_ERAP2.groupby([\"SEX\",\"POP\"]).count())\n",
    "print(\"~~~~~~~~~~~~~~~~~~~~~\")\n",
    "print(mydata_ERAP2.groupby([\"SEX\",\"POP\"])[\"PHENO\"].mean())"
   ]
  },
  {
   "cell_type": "markdown",
   "id": "1f4474d1-7102-4c86-b141-aa994ff9a35f",
   "metadata": {},
   "source": [
    "When visualizing your data (we'll see this in module 8), you need to identify what type of variable you have.\n",
    "* *Nominal*: SNP columns hold genotypic information. This needs to recoded into dose numbers.\n",
    "* *Numeric*: PHENO"
   ]
  },
  {
   "cell_type": "code",
   "execution_count": null,
   "id": "a4f7fe1d-738e-4a7d-9385-6558ea1b6183",
   "metadata": {},
   "outputs": [],
   "source": [
    "# We're going to focus on locus SNP1-5618704 and we will convert each dizygote into A--> 0 and C--> 1\n",
    "#mydata_converted=mydata_ERAP2[\"SNP1-5618704\"].replace({\"AA\":0,\"AC\":1,\"CA\":1,\"CC\":2})\n",
    "# we could also use the map method: \n",
    "mydata_converted= mydata_ERAP2[\"SNP1-5618704\"].map({'AA': 0, 'AC': 1, 'CA':1, 'CC': 2})\n",
    "print(mydata_converted)"
   ]
  },
  {
   "cell_type": "code",
   "execution_count": null,
   "id": "06b1e632-c59f-4244-af8b-d1117291bcec",
   "metadata": {},
   "outputs": [],
   "source": [
    "# we're going to look at the phenotype column, since that is the column of interest\n",
    "#round(mydata_ERAP2[\"PHENO\"])\n",
    "print(mydata_ERAP2[\"PHENO\"].describe())\n",
    "# We can use numpy built in plotting methods (although matplotlib is 'better')\n",
    "Pheno_hist = mydata_ERAP2[\"PHENO\"].plot.hist(bins = 40, color = 'green',xlabel='phenotype')\n",
    "# What does this histogram tell us?"
   ]
  },
  {
   "cell_type": "code",
   "execution_count": null,
   "id": "3a8758cf-ad2f-4e12-8b5d-f86e36e731cb",
   "metadata": {},
   "outputs": [],
   "source": [
    "# there are two mounds -- maybe it is a difference in expression between males and females?\n",
    "# Is the distribution of the phenotype between males and females the same? \n",
    "# I am treating the column names as attributes here\n",
    "pheno_males = mydata_ERAP2[mydata_ERAP2.SEX==1]\n",
    "pheno_males.head()\n",
    "pheno_males[\"PHENO\"].plot.hist(bins = 40, color = 'blue',xlabel='phenotype')\n",
    "print(pheno_males[\"PHENO\"].describe())\n",
    "print(\"******************\")\n",
    "pheno_females=mydata_ERAP2[mydata_ERAP2.SEX==2]\n",
    "pheno_females.tail()\n",
    "print(pheno_females[\"PHENO\"].describe())\n",
    "pheno_females[\"PHENO\"].plot.hist(bins = 40, color = 'pink',xlabel='phenotype')\n",
    "# This doesn't really look particularly worthy of exploration"
   ]
  },
  {
   "cell_type": "code",
   "execution_count": null,
   "id": "8f8ba60f-c886-4d04-bd04-244fddb446b3",
   "metadata": {},
   "outputs": [],
   "source": [
    "# maybe we can tease out the ancestries to investigate if THAT accounts for the two mounds?\n",
    "# is the distribution of the phenotype between CEU and YRI the same? \n",
    "pheno_CEU = mydata_ERAP2[mydata_ERAP2.POP==\"CEU\"]\n",
    "pheno_CEU.head()\n",
    "pheno_CEU[\"PHENO\"].plot.hist(bins = 40, color = 'green',xlabel='phenotype')\n",
    "print(pheno_CEU[\"PHENO\"].describe())\n",
    "print(\"******************\")\n",
    "pheno_YRI=mydata_ERAP2[mydata_ERAP2.POP==\"YRI\"]\n",
    "pheno_YRI.tail()\n",
    "print(pheno_YRI[\"PHENO\"].describe())\n",
    "pheno_YRI[\"PHENO\"].plot.hist(bins = 40, color = 'red',xlabel='phenotype')\n",
    "# This doesn't really look particularly worthy of exploration"
   ]
  },
  {
   "cell_type": "code",
   "execution_count": null,
   "id": "f486c0ec-f8b9-4768-9ad0-5c919176117b",
   "metadata": {},
   "outputs": [],
   "source": [
    "# So, now we will see a visualization of the phenotype-genotype association\n",
    "# we will plot out three distinct genotype-phenotypes: AA, AC/CA, and CC\n",
    "CEUdata=mydata_ERAP2[mydata_ERAP2.POP==\"CEU\"][\"SNP1-5618704\"]\n",
    "#print(CEUdata)\n",
    "#CEUAA\n",
    "CEUAA=mydata_ERAP2.loc[(mydata_ERAP2[\"POP\"]==\"CEU\")&(mydata_ERAP2[\"SNP1-5618704\"]==\"AA\")]\n",
    "print(CEUAA)\n",
    "#CEU with AC or CA\n",
    "CEUAC=mydata_ERAP2.loc[(mydata_ERAP2[\"POP\"]==\"CEU\")&((mydata_ERAP2[\"SNP1-5618704\"]==\"AC\")|(mydata_ERAP2[\"SNP1-5618704\"]==\"CA\"))]\n",
    "print(CEUAC)\n",
    "#CEU with CC\n",
    "CEUCC=mydata_ERAP2.loc[(mydata_ERAP2[\"POP\"]==\"CEU\")&((mydata_ERAP2[\"SNP1-5618704\"]==\"CC\"))]\n",
    "print(CEUCC)"
   ]
  },
  {
   "cell_type": "code",
   "execution_count": null,
   "id": "fd2151fb-d45f-4019-b00b-8ee774d022ac",
   "metadata": {},
   "outputs": [],
   "source": [
    "print(\"And now for the same analysis for the Yorubi population\")\n",
    "# Now the same thing for Yorubi\n",
    "YRIdata=mydata_ERAP2[mydata_ERAP2.POP==\"YRI\"][\"SNP1-5618704\"]\n",
    "#print(YRIdata)\n",
    "YRIAA=mydata_ERAP2.loc[(mydata_ERAP2[\"POP\"]==\"YRI\")&(mydata_ERAP2[\"SNP1-5618704\"]==\"AA\")]\n",
    "print(YRIAA)\n",
    "#CEU with AC or CA\n",
    "YRIAC=mydata_ERAP2.loc[(mydata_ERAP2[\"POP\"]==\"YRI\")&((mydata_ERAP2[\"SNP1-5618704\"]==\"AC\")|(mydata_ERAP2[\"SNP1-5618704\"]==\"CA\"))]\n",
    "#print(YRIAC)\n",
    "#YRI with CC\n",
    "YRICC=mydata_ERAP2.loc[(mydata_ERAP2[\"POP\"]==\"YRI\")&((mydata_ERAP2[\"SNP1-5618704\"]==\"CC\"))]\n",
    "print(YRICC)"
   ]
  },
  {
   "cell_type": "code",
   "execution_count": null,
   "id": "469a2c84-543a-478b-bcc6-f4dd86227ab6",
   "metadata": {},
   "outputs": [],
   "source": [
    "# Let's graph out the categorical data for AA, AC/CA, CC in CEU\n",
    "CEUAA[\"PHENO\"].plot.hist(bins = 40, color = 'yellow',xlabel='phenotype')\n",
    "CEUAC[\"PHENO\"].plot.hist(bins = 40, color = 'orange',xlabel='phenotype')\n",
    "CEUCC[\"PHENO\"].plot.hist(bins = 40, color = 'red',xlabel='phenotype')"
   ]
  },
  {
   "cell_type": "code",
   "execution_count": null,
   "id": "842d28d7-61e0-477e-aa2a-16ba4b6f5530",
   "metadata": {},
   "outputs": [],
   "source": [
    "YRIAA[\"PHENO\"].plot.hist(bins = 40, color = 'green',xlabel='phenotype')\n",
    "YRIAC[\"PHENO\"].plot.hist(bins = 40, color = 'blue',xlabel='phenotype')\n",
    "YRICC[\"PHENO\"].plot.hist(bins = 40, color = 'purple',xlabel='phenotype')"
   ]
  },
  {
   "cell_type": "code",
   "execution_count": null,
   "id": "57665aa6-d944-4d60-b99a-c28f172c758c",
   "metadata": {},
   "outputs": [],
   "source": [
    "# Genotypes of both CEU & YRI all on same graph\n",
    "CEUAA[\"PHENO\"].plot.hist(bins = 40, color = 'yellow',xlabel='phenotype')\n",
    "CEUAC[\"PHENO\"].plot.hist(bins = 40, color = 'orange',xlabel='phenotype')\n",
    "CEUCC[\"PHENO\"].plot.hist(bins = 40, color = 'red',xlabel='phenotype')\n",
    "YRIAA[\"PHENO\"].plot.hist(bins = 40, color = 'green',xlabel='phenotype')\n",
    "YRIAC[\"PHENO\"].plot.hist(bins = 40, color = 'blue',xlabel='phenotype')\n",
    "YRICC[\"PHENO\"].plot.hist(bins = 40, color = 'purple',xlabel='phenotype')"
   ]
  },
  {
   "cell_type": "code",
   "execution_count": null,
   "id": "b1a931b5-9be6-404f-8c81-ed807e5e79f4",
   "metadata": {},
   "outputs": [],
   "source": [
    "print(\" Here are the CEU Pop: AA, AC/CA, CC\")\n",
    "print(CEUAA[\"PHENO\"].describe())\n",
    "print(CEUAC[\"PHENO\"].describe())\n",
    "print(CEUCC[\"PHENO\"].describe())\n",
    "print(\" Here are the YRI Pop: AA, AC/CA, CC\")\n",
    "print(YRIAA[\"PHENO\"].describe())\n",
    "print(YRIAC[\"PHENO\"].describe())\n",
    "print(YRICC[\"PHENO\"].describe())"
   ]
  }
 ],
 "metadata": {
  "kernelspec": {
   "display_name": "Python 3 (ipykernel)",
   "language": "python",
   "name": "python3"
  },
  "language_info": {
   "codemirror_mode": {
    "name": "ipython",
    "version": 3
   },
   "file_extension": ".py",
   "mimetype": "text/x-python",
   "name": "python",
   "nbconvert_exporter": "python",
   "pygments_lexer": "ipython3",
   "version": "3.11.5"
  }
 },
 "nbformat": 4,
 "nbformat_minor": 5
}
