{
 "cells": [
  {
   "cell_type": "markdown",
   "id": "7ac93cf4-ffef-4337-a3f0-d9be0ea1570f",
   "metadata": {},
   "source": [
    "#  Summary of previous notebook \n",
    "---\n",
    "1. Lists and manipulations:\n",
    "    * What are they and why do we use them?\n",
    "    * How are they stored in memory?\n",
    "    * Methods: Adding items\n",
    "    * Methods: Removing items\n",
    "\n",
    "#  Summary of this notebook \n",
    "---\n",
    "1. Repetition with variation:\n",
    "    * loops\n",
    "    * a few more pieces of lists (including a brief peek at list comprehensions)\n",
    "2. Control Statements\n",
    "    * if/elif/else\n",
    "    * not, and, or\n",
    "    * comparators \n",
    "\n",
    "## Extra Resources: \n",
    "* CS50 in Python covers conidtions and loops (and lists, since they are highly related) in these charming videos:\n",
    "* [Conditionals](https://cs50.harvard.edu/python/2022/weeks/1/)\n",
    "* [Loops](https://cs50.harvard.edu/python/2022/weeks/2/)"
   ]
  },
  {
   "cell_type": "markdown",
   "id": "8ec0db46-7d53-49ab-b26b-193696294840",
   "metadata": {},
   "source": [
    "# Loops\n",
    "---\n",
    "\n",
    "* Repetition with variation\n",
    "* Allows us to process **lists** or **other iterable objects**  (files, for instance, can be iterated) __one element at a time__\n",
    "\n",
    "# For Loops\n",
    "---\n",
    "\n",
    "When we need/want to apply the same procedure/manipulation to a bunch of items - for instance, not coincidentally, to a bunch of elements that are in a list!\n",
    "We can iterate over each specified element in a list (we can also apply criteria/conditions to which elements are chosen)when we have a specific number of items to iterate through, we use **for** and we use **if** we don't know how many items (note: we might use while it comes with some baggage...)\n",
    "\n",
    "\n",
    "## Syntax\n",
    "\n",
    "*for __number__ in __my_list__:*\n",
    "\n",
    "    Body of the loop - do something for each element in my_list\n",
    "\n",
    "\n",
    "**Key notes on syntax:**\n",
    "* The body of the loop must have the same indentation and you can use spaces or tabs but not a combination of both - indentation errors can result!\n",
    "    * **STICK TO FOUR SPACES of indentation**\n",
    "* We can exit a particular loop with the **break** keyword\n",
    "    * Note that if you use break on an inner for loop, it will continue looping through any outer for loops; it only 'breaks' out of the for loop in its **scope**\n",
    "* You might also encounter the **pass** keyword. This is used as a place holder for future code and mostly results from Python's use of whitespace.\n",
    "\n",
    "\n",
    "## Scope\n",
    "In the example in the next cell, *i* is a temporary variable name that only exists - properly - **inside** the loop; you can't call it outside of the loop and expect it to still be iterable. If you call it outside the loop, it should just give you the last element that was called (because that is what is stored in memory).\n",
    "\n",
    "Temporary variable names (whatever variable name they have), when used with a for loop, will automatically iterate through the provided list. This means the variable is set as the next element of the list as it goes through the loop. This is markedly different from some other languages, say Java, which requires you to keep track of each iteration with an increment operator like i++ and explicitly set the initial variable to 0\n",
    "\n",
    "\n",
    "## Indentation\n",
    "In Python, you need to **indent the action in the loop.** Indentation tells Python which code is part of your for loop and which code is outside of it. Incorrect indentation will lead to indentation errors.\n",
    "\n",
    "Indentation is functionally the same as curly brackets in other languages.\n",
    "\n",
    "Aside on good programming practices: if you find yourself using more than 3 levels of indentation (so more than 3 nested conditional statements), you may need to encapsulate code into a function\n",
    "\n",
    "\n",
    "## Basic For Loop Example"
   ]
  },
  {
   "cell_type": "code",
   "execution_count": 2,
   "id": "0de29c20-b5fd-4879-8477-8e921e4d61bf",
   "metadata": {},
   "outputs": [
    {
     "name": "stdout",
     "output_type": "stream",
     "text": [
      "[]\n",
      "~~~~~~~\n",
      "['puzzles']\n",
      "We are in iteration 0.\n",
      "\n",
      "~~~~~~~\n",
      "['puzzles', '3d printing']\n",
      "We are in iteration 1.\n",
      "\n",
      "~~~~~~~\n",
      "['puzzles', '3d printing', 'fishing']\n",
      "We are in iteration 2.\n",
      "\n",
      "----------\n",
      "['puzzles', '3d printing', 'fishing']\n",
      "2\n"
     ]
    }
   ],
   "source": [
    "# this example was stolen from codeacademy many years ago. \n",
    "# This is a common approach to filling a list.\n",
    "\n",
    "# Create an empty list:\n",
    "hobbies = []\n",
    "print(hobbies)\n",
    "\n",
    "# in this example, the iterator could be almost anything. In this case, it is 'i'\n",
    "# for loops always start at '0' element unless explicitly told not to by lower bound on range. \n",
    "# range behaves different ways depending on how many arguments are provided to it. \n",
    "# This behaviour is called \"overloading\" and we will see this is more detail below.\n",
    "# For now, notice that range(3) can also be written as: range(0,3) or range(0,3,1).\n",
    "for i in range(3):\n",
    "    #uses input() which allows input from a user. It inputs everything as a string, even inputed numbers. \n",
    "    hobby=input(\"What's your hobby?: \")\n",
    "    print(\"~~~~~~~\")\n",
    "    hobbies.append(hobby)\n",
    "    print(hobbies)\n",
    "    print(\"We are in iteration \"+str(i)+\".\\n\")\n",
    "    #if this was java, we would need to add 1 to the counter for each time through a loop\n",
    "    # But it isn't java so we don't have to! Hurray!\n",
    "\n",
    "print(\"----------\")\n",
    "print(hobbies)\n",
    "print(i)"
   ]
  },
  {
   "cell_type": "code",
   "execution_count": 3,
   "id": "492761e6",
   "metadata": {},
   "outputs": [
    {
     "data": {
      "text/plain": [
       "'fishing'"
      ]
     },
     "execution_count": 3,
     "metadata": {},
     "output_type": "execute_result"
    }
   ],
   "source": [
    "hobby"
   ]
  },
  {
   "cell_type": "markdown",
   "id": "e5915902-7dd4-4bbd-b902-c48f90305a47",
   "metadata": {},
   "source": [
    "## Looping with ranges\n",
    "* `range()` is a built in function that generates lists of numbers for us to loop over\n",
    "* behaviour of `range()` is dependent on how many arguments we give it (overloading): \n",
    "    1. one number: `range(n)` --> 0 to n-1\n",
    "    2. two numbers: `range(lower number, higher number)` --> lower number to higher number-1\n",
    "    3. three numbers: `range(lower number, higher number, increment size)`\n",
    "* inclusive on lower end, exclusive on upper end "
   ]
  },
  {
   "cell_type": "code",
   "execution_count": 4,
   "id": "57c45734-841e-4c46-aa40-c46960e5f193",
   "metadata": {},
   "outputs": [
    {
     "name": "stdout",
     "output_type": "stream",
     "text": [
      "0\n",
      "1\n",
      "2\n",
      "3\n",
      "4\n",
      "5\n",
      "-----\n",
      "3\n",
      "4\n",
      "5\n",
      "6\n",
      "7\n",
      "*****\n",
      "2\n",
      "6\n",
      "10\n"
     ]
    }
   ],
   "source": [
    "#loops with ranges examples: \n",
    "#ranges\n",
    "for number in range(6):\n",
    "    print(number)\n",
    "\n",
    "print(\"-----\")\n",
    "for number in range(3, 8):\n",
    "    #print(\"Hey I am in the range(3,8) loop\")\n",
    "    print(number)\n",
    "    \n",
    "print(\"*****\")\n",
    "for number in range(2, 14, 4):\n",
    "    print(number)"
   ]
  },
  {
   "cell_type": "markdown",
   "id": "cda327e3-e1c0-4190-978f-2c682cc484d4",
   "metadata": {},
   "source": [
    "## Iteration over strings and lists\n",
    "You will iterate over a string or a list A LOT!\n",
    "* If you write a loop statement with a string, the loop will process each character in the string as an element (one character at a time)\n",
    "* Even though we don't explicitly have an enumerator in Python (like we do in C++, java etc), we sometimes need one: \n",
    "    * Built in function `enumerate()` which supplies an index to each element of the list as you go through it so you can count where each item is located"
   ]
  },
  {
   "cell_type": "code",
   "execution_count": null,
   "id": "aef5429c-f4b9-45db-932e-c2bd7b5a4b0b",
   "metadata": {},
   "outputs": [
    {
     "name": "stdout",
     "output_type": "stream",
     "text": [
      "s\n",
      "p\n",
      "a\n",
      "m\n",
      "!\n",
      "~~~~~~~\n",
      "e\n",
      "g\n",
      "g\n",
      "s\n",
      "!\n",
      "Your choices are:\n",
      "0 Spam pizza\n",
      "1 Spam & pasta\n",
      "2 Spam & salad\n",
      "3 Spam nachos\n"
     ]
    }
   ],
   "source": [
    "#Iteration over a String\n",
    "thing = \"spam!\"\n",
    "\n",
    "for c in thing:\n",
    "    print(c)\n",
    "\n",
    "print(\"~~~~~~~\")\n",
    "\n",
    "word = \"eggs!\"\n",
    "\n",
    "for a in word:\n",
    "    print(a)\n",
    "    \n",
    "# You could also iterate over a list and use the built in function enumerate to keep track of the index\n",
    "choices = [\"Spam pizza\", \"Spam & pasta\", \"Spam & salad\", \"Spam nachos\"]\n",
    "\n",
    "print(\"Your choices are:\")\n",
    "\n",
    "# enumerate indexes the collection\n",
    "for index, item in enumerate(choices):\n",
    "    print(index, item)"
   ]
  },
  {
   "cell_type": "markdown",
   "id": "e9021cda-6aa9-4f3d-8009-d9f714a1bf30",
   "metadata": {},
   "source": [
    "## Iteration over multiple lists\n",
    "Sometimes, we want to iterate over MULTIPLE lists simultaneously\n",
    "*Built in function `zip()` which creates pairs (or more) of elements when passed two (or more) lists and will stop at the shorter list"
   ]
  },
  {
   "cell_type": "code",
   "execution_count": null,
   "id": "e291aecb-1869-4922-bb7a-c2ed244c85b8",
   "metadata": {},
   "outputs": [
    {
     "name": "stdout",
     "output_type": "stream",
     "text": [
      "And now for something completely different - multiple lists: \n",
      "3\n",
      "9\n",
      "a and b are equal\n",
      "a and b are equal\n",
      "40\n"
     ]
    }
   ],
   "source": [
    "print(\"And now for something completely different - multiple lists: \")\n",
    "# iterating over multiple lists simultaneously\n",
    "list_a = [3, 9, 17, 15, 40] # limiting reactant\n",
    "list_b = [2, 4, 17, 15, 30, 40, 50, 60, 70, 80, 90]\n",
    "\n",
    "for a, b in zip(list_a, list_b):\n",
    "    # we will learn about Boolean logic soon. != means not equal to \n",
    "    if a != b:\n",
    "        if a > b:\n",
    "            print(a)\n",
    "        else:\n",
    "            print(b)\n",
    "    else:\n",
    "        print(\"a and b are equal\")"
   ]
  },
  {
   "cell_type": "markdown",
   "id": "420e4da2-a956-4cca-938d-19427fe152a6",
   "metadata": {},
   "source": [
    "## [Rosalind Problem](https://rosalind.info/problems/ini4/)\n",
    "**Problem 3C1**\n",
    "\n",
    "**Given:** Two positive integers `a` and `b` (`a` < `b` < 10000).\n",
    "\n",
    "**Return:** The sum of all odd integers from `a` through `b`, inclusively.\n",
    "\n",
    "**Sample Dataset:** a = 100, b = 200\n",
    "\n",
    "**Sample Output:** 7500"
   ]
  },
  {
   "cell_type": "code",
   "execution_count": 24,
   "id": "8e9def98",
   "metadata": {},
   "outputs": [
    {
     "data": {
      "text/plain": [
       "7500"
      ]
     },
     "execution_count": 24,
     "metadata": {},
     "output_type": "execute_result"
    }
   ],
   "source": [
    "a = 100\n",
    "b= 200\n",
    "\n",
    "count = 0\n",
    "for i in range(a, b+1):\n",
    "    if i%2 != 0:\n",
    "        count += i\n",
    "\n",
    "count        "
   ]
  },
  {
   "cell_type": "markdown",
   "id": "c429fa6d-106e-4a1c-8a87-1c3ed50ac6b4",
   "metadata": {},
   "source": [
    "# Control Statements\n",
    "---\n",
    "\n",
    "As a reminder that everyone always needs at this point in the course: Comment your code! \n",
    "<br> [Here is an excellent illustration of commenting your code](https://xkcd.com/2200/)\n",
    "\n",
    "We sometimes want our code to ‘make decisions’ based on user input etc.\n",
    "\n",
    "We can use Conditional Statements!<br>\n",
    "__`if`/`elif`/`else`__ \n",
    "\n",
    "Boolean operators!<br>\n",
    "__`not`, `and`, `or`__ \n",
    "\n",
    "Comparators!<br>\n",
    "__`==`, `!=`, `<`, `>`, `<=`, `>=`__"
   ]
  },
  {
   "cell_type": "markdown",
   "id": "f8919895-ca8d-4c35-b211-a464a09bb3eb",
   "metadata": {},
   "source": [
    "## Breaking down a problem using comparators  \n",
    "\n",
    "* Comparators provide conditions to evaluate which path to follow\n",
    "    * Statements that are `True` or `False`\n",
    "    * Examples: `==`, `>`, `<` , `>=`, `<=`, `!=`\n",
    "* Note difference between assignment and evaluation\n",
    "    * remember that `==` is a comparator NOT an assignment (which is just one `=`)\n",
    "* Note capitalization of T and F in `True` and `False` (special reserved words)"
   ]
  },
  {
   "cell_type": "markdown",
   "id": "5466c93e-b1a0-4e88-84de-d7f754155b75",
   "metadata": {},
   "source": [
    "## Conditional Statements: \n",
    "* `if condition evaluates to True:` \n",
    "    * `if` is a conditional statement that **executes a specified code after determining that the expression is `True`** \n",
    "    * Remember/notice the indentation formatting and the \":\"\n",
    "    * expression will be printed\n",
    "    * if __option a__ is True\n",
    "    \n",
    "    <br>\n",
    "    \n",
    "* `elif alternative condition evaluates to True:`\n",
    "    * An alternative branch if the paired `if` statement does not evaluate to `True` but a second condition might evaluate to `True`\n",
    "    * expression will be printed\n",
    "    * optional, allows for more than 1 alternative\n",
    "    * if __option a__ is False; __option b__ is True\n",
    "\n",
    "    <br>\n",
    "\n",
    "* `else:`\n",
    "    * An alternative branch if the paired if statement does not evaluate to true\n",
    "    * not covered by if or elif\n",
    "    * optional\n",
    "    * if __option a__ is False; __option b__ is False\n",
    "\n",
    "\n",
    "## Examples of Conditionals with Comparators:"
   ]
  },
  {
   "cell_type": "code",
   "execution_count": null,
   "id": "c5e9b844-d7c4-447a-814b-b70aaa4e9e53",
   "metadata": {},
   "outputs": [],
   "source": [
    "# if/elif/else and they can be nested!\n",
    "x=int(input(\"Type an integer: \"))\n",
    "if x < 42:\n",
    "    # remember modulo?\n",
    "    if x % 2 == 0:\n",
    "        print(\"Silly small even number\")\n",
    "    else:\n",
    "        print(\"Silly small odd number\")\n",
    "elif x == 42:\n",
    "    print(\"Secret to all happiness!\")\n",
    "else:\n",
    "    if x % 2 == 0:\n",
    "        print(\"Big & even\")\n",
    "    else:\n",
    "        print(\"Big & odd\")"
   ]
  },
  {
   "cell_type": "markdown",
   "id": "bb4b20ce-dfbf-4a7d-8799-f7ff0417abbc",
   "metadata": {},
   "source": [
    "#### Combining Conditionals and For Loops:"
   ]
  },
  {
   "cell_type": "code",
   "execution_count": null,
   "id": "00444297-8517-4970-a38c-a36a6fa2108b",
   "metadata": {},
   "outputs": [],
   "source": [
    "### For loops are useful for flow control when they are combined with conditional statements\n",
    "a = [13,12,11,10,9,8,7,6,5,4,3,2,1,0]\n",
    "\n",
    "for index,num in enumerate(a): \n",
    "    # num takes the value that is in the list at the index position --- the count through the for loop\n",
    "    print(num)\n",
    "    print(a[index])\n",
    "    # if the element in list a is even - that is, it can be divided by 2 with no remainder:\n",
    "    if a[index]%2==0:\n",
    "        print(a[index])\n",
    "    else:\n",
    "        print(str(a[index])+\" is not an even number\")\n",
    "    print(\"~~~~~~\")"
   ]
  },
  {
   "cell_type": "markdown",
   "id": "c4765b90-d868-43a9-9332-43386996078b",
   "metadata": {},
   "source": [
    "## Boolean Operators\n",
    "\n",
    "* __and__: joins conditions (both must be true)\n",
    "* __or__: if either condition is true\n",
    "* __not__: not true\n",
    "<br><br>\n",
    "* __and, or, not__ can be combined \n",
    "    * Rules about priority:\n",
    "        * Order in which they are evaluated: __NOT  >  AND  >  OR__\n",
    "    * We can include parentheses to avoid ambiguity about which condition is met\n",
    "\n",
    "<div class=\"alert alert-block alert-warning\">\n",
    "THE RULES of Boolean Operator Combinations:  \n",
    "    \n",
    "    True and True is True\n",
    "    True and False is False\n",
    "    False and True is False\n",
    "    False and False is False\n",
    "\n",
    "    True or True is True\n",
    "    True or False is True\n",
    "    False or True is True\n",
    "    False or False is False\n",
    "\n",
    "    Not True is False\n",
    "    Not False is True\n",
    "  \n",
    "\n",
    "Example: What does the following return? \n",
    "\n",
    "    True or not False and False\n"
   ]
  },
  {
   "cell_type": "markdown",
   "id": "c9d876e9",
   "metadata": {},
   "source": [
    "switch in python"
   ]
  },
  {
   "cell_type": "code",
   "execution_count": null,
   "id": "d20d1764",
   "metadata": {},
   "outputs": [],
   "source": [
    "def convert_month_number_to_name(month_number):\n",
    "    match month_number:\n",
    "        case \"1\":\n",
    "            month_name = \"January\"\n",
    "        case \"2\":\n",
    "            month_name = \"February\"\n",
    "        case \"3\":\n",
    "            month_name = \"March\"\n",
    "        case \"4\":\n",
    "            month_name = \"April\"\n",
    "        case \"5\":\n",
    "            month_name = \"May\"\n",
    "        case \"6\":\n",
    "            month_name = \"June\"\n",
    "        case \"7\":\n",
    "            month_name = \"July\"\n",
    "        case \"8\":\n",
    "            month_name = \"August\"\n",
    "        case \"9\":\n",
    "            month_name = \"September\"\n",
    "        case \"10\":\n",
    "            month_name = \"October\"\n",
    "        case \"11\":\n",
    "            month_name = \"November\"\n",
    "        case \"12\":\n",
    "            month_name = \"December\"\n",
    "        case _:\n",
    "            month_name = \"Invalid month number\"\n",
    "    return month_name\n",
    "\n",
    "month = input(\"Enter month number: \")\n",
    "print(convert_month_number_to name(month))"
   ]
  },
  {
   "cell_type": "markdown",
   "id": "62c7ee6d-a26b-4fa4-890e-9d5e706357e0",
   "metadata": {},
   "source": [
    "### Example with boolean operators"
   ]
  },
  {
   "cell_type": "code",
   "execution_count": null,
   "id": "63cf7678-5f1c-421c-947d-9d5e591dcbdf",
   "metadata": {},
   "outputs": [],
   "source": [
    "accs=[\"ab56\",\"bh84\",\"hv76\",\"ay93\",\"ap97\",\"bd72\"]\n",
    "\n",
    "for accession in accs:\n",
    "    if accession.startswith(\"a\"):                                      \n",
    "        if accession.endswith('3'):\n",
    "            print(accession)"
   ]
  },
  {
   "cell_type": "markdown",
   "id": "877f7b34-b02e-40e6-93b5-6bcb83300dfc",
   "metadata": {},
   "source": [
    "**Revising the example:** <br>\n",
    "A more elegant way of writing the above is to combine conditional statements on one line:"
   ]
  },
  {
   "cell_type": "code",
   "execution_count": null,
   "id": "1a01455a-8b38-45f2-82b0-12df41a5140d",
   "metadata": {},
   "outputs": [],
   "source": [
    "accs=[\"ab56\",\"bh84\",\"hv76\",\"ay93\",\"ap97\",\"bd72\"]\n",
    "\n",
    "for accession in accs:\n",
    "    if accession.startswith(\"a\") and accession.endswith('3'):\n",
    "        print(accession)"
   ]
  },
  {
   "cell_type": "markdown",
   "id": "e9c92e4f-cc0f-4c3d-a7ad-3d46b8ea01c3",
   "metadata": {},
   "source": [
    "**Predict: What will this print out?**"
   ]
  },
  {
   "cell_type": "code",
   "execution_count": null,
   "id": "ec2d0b96-b49b-4614-aa9e-1779f5f4538d",
   "metadata": {},
   "outputs": [],
   "source": [
    "accs=[\"ab56\",\"bh84\",\"hv76\",\"ay93\",\"ap97\",\"bd72\"]\n",
    "\n",
    "for accession in accs:\n",
    "    if accession.startswith(\"a\") and not accession.endswith('6'):\n",
    "        print(accession)"
   ]
  },
  {
   "cell_type": "markdown",
   "id": "824e66c6-f8f2-4fa8-97df-499a7fd2e392",
   "metadata": {},
   "source": [
    "# Breaks\n",
    "---\n",
    "\n",
    "* A one-line statement that results in the current loop being exited\n",
    "* Can be used with any logic loop (`if`, `for` etc) but most often with while loops (which we will see shortly) since they so easily become infinite loops\n",
    "\n",
    "**Breaks force the loop to run at least once whereas other types of loop conditions will not run even once unless the initial condition is true**\n",
    "* `for` loops may have an `else` associated with them\n",
    "    * The `else` statement is executed after the `for` but ONLY if the for ends normally\n",
    "    * Ending a for loop with a break forces a bypass of the associated else statement\n",
    "\n",
    "## Example:\n",
    "In the example below, since there is a tomato in the given list, the `if` loop will be initiated and a break will happen so the `else` will not be executed (so “A fine selection of fruits!” will not be printed). \n",
    "\n",
    "If you removed the break, what would happen?"
   ]
  },
  {
   "cell_type": "code",
   "execution_count": null,
   "id": "2b1194e8-b1af-4b6b-98c0-ae67dd7a2515",
   "metadata": {},
   "outputs": [],
   "source": [
    "fruits = ['banana', 'apple', 'orange', 'tomato', 'pear', 'grape']\n",
    "print('You have...')\n",
    "for f in fruits:\n",
    "    if f == 'tomato':\n",
    "        print('A tomato is not a fruit!') # (It actually is.)\n",
    "        break\n",
    "        print('A', f)\n",
    "else:\n",
    "    print('A fine selection of fruits!')"
   ]
  },
  {
   "cell_type": "markdown",
   "id": "392ec7ca-2405-4026-9c30-5faaa1f4a40b",
   "metadata": {},
   "source": [
    "# While Loops (the most dangerous loop of all....)\n",
    "---\n",
    "\n",
    "* Similar to an if statement – __it executes code as long as condition is true__\n",
    "* Can be dangerous since it is possible to (accidentally) create a loop that is always true, leading to an infinite loop (a loop that will never exit either because the loop condition itself is never false or what happens in the loop prevents the condition from ever being false)\n",
    "\n",
    "## Syntax: \n",
    "\n",
    "    loop_condition = True\n",
    "    \n",
    "        while loop_condition:\n",
    "            print(\"I am a loop”)\n",
    "            loop_condition = False\n",
    "\n",
    "\n",
    "## Key notes:\n",
    "\n",
    "* often used to *check that user input is appropriate* \n",
    "\n",
    "* you want a user to input only either a ‘y’ or a ‘n’ and nothing else:\n",
    "<br>\n",
    "\n",
    "        choice = input('Enjoying the course? (y/n)')\n",
    "\n",
    "        while choice !='y' and choice !='n':  \n",
    "   \n",
    "            choice = input(\"Sorry, I didn't catch that. Enter again: \")\n",
    "\n",
    "<br>\n",
    "\n",
    "* `break` is often used in conjuction with while loops so that they don't become infinite loops.\n",
    "\n",
    "## Example:"
   ]
  },
  {
   "cell_type": "code",
   "execution_count": null,
   "id": "153de11c-d017-4bdd-abb4-e078ebd69d96",
   "metadata": {},
   "outputs": [],
   "source": [
    "count=0\n",
    "while count<10:\n",
    "    print(count)\n",
    "    print(\"*\"*10)\n",
    "    count=count+1\n",
    "print(count)\n",
    "print(\"~~~~~~~~~~~~\")\n",
    "\n",
    "while count>=10:\n",
    "    print(count)\n",
    "    count+=1\n",
    "    print(\"I am just before the break\")\n",
    "    print(count)\n",
    "    #break will go through the while loop once and it will break out. \n",
    "    #WHAT WOULD HAPPEN IF THIS BREAK WASNT THERE?\n",
    "    break\n",
    "    print(\"-----------------\")"
   ]
  },
  {
   "cell_type": "markdown",
   "id": "d3710283-534b-410c-b7a9-efeaba06860f",
   "metadata": {},
   "source": [
    "# EXTRA: List Comprehensions!\n",
    "**EXTRA, but if there is time: it is worth it.**\n",
    "\n",
    "* AKA: ternary expressions\n",
    "* Generate lists according to rules and using for/in and if key words\n",
    "* __Reduces loops to one line commands__\n",
    "* Syntax is even more important than normal because they can be challenging to understand since they are 'short hand'\n",
    "* Basic format: \n",
    "        \n",
    "            L=[expression for variable in sequence]\n",
    "\n",
    "* the expression in a list comprehension will be evaluated once for every variable in a given sequence"
   ]
  },
  {
   "cell_type": "code",
   "execution_count": null,
   "id": "d0bb9aa4-d70e-45b9-b9ed-956bb4d3f2a0",
   "metadata": {},
   "outputs": [],
   "source": [
    "#1. list comprehension that creates a list of even numbers up to and including 50\n",
    "evens_to_50=[i for i in range(51) if i%2==0]\n",
    "print(evens_to_50)\n",
    "\n",
    "#2. We can revisit slicing within a list comprehension: \n",
    "l = [i ** 2 for i in range(1, 11)]\n",
    "#this is an example of slicing a list - we are only printing out a subset\n",
    "\n",
    "print(l)\n",
    "print(l[2:9:2])\n",
    "# *****************************************\n",
    "# I realized that I had not emphasized this useful point before so.....\n",
    "# As an additional point, you can slice in reverse by using -increment like so:\n",
    "print(\"List in reverse now:\")\n",
    "print(l[8:1:-2])\n",
    "# *****************************************\n",
    "#3. prints out a listof numbers that are divisible by 3 when they are doubled from 2-10. So it should result in 6. \n",
    "\n",
    "doubles_by_3 = [x*2 for x in range(1,6) if (x*2) % 3 == 0]\n",
    "print(doubles_by_3)\n",
    "\n",
    "#4. Another example: This should only print out the power of 2 for even numbers so the result will be: 4,16,36,64,100\n",
    "\n",
    "even_squares = [x**2 for x in range(1,11) if x%2 ==0]\n",
    "\n",
    "print(even_squares)"
   ]
  },
  {
   "cell_type": "code",
   "execution_count": null,
   "id": "358ac9d2-fae6-4aa7-ab0d-bcbf3ad9e176",
   "metadata": {},
   "outputs": [],
   "source": [
    "#Expanded code that explains what the 4 list comprehensions in the cell above are doing.\n",
    "#1. The larger script that is equivalent to the first list comprehension is: \n",
    "#initializing an empty list that you are going to fill using the for loop\n",
    "# evens_to_50=[i for i in range(51) if i%2==0]\n",
    "# print(evens_to_50)\n",
    "evens_to_50=[]\n",
    "# I decided to make another list that contains the odd numbers\n",
    "#odds_to_50=[]\n",
    "for i in range(51):\n",
    "    if i%2==0:\n",
    "        evens_to_50.append(i)\n",
    "    #else: \n",
    "     #   odds_to_50.append(i)\n",
    "print(evens_to_50)\n",
    "#print(odds_to_50)\n",
    "   \n",
    "#2. \n",
    "l=[]\n",
    "for i in range(1,11):\n",
    "    l.append(i**2)   \n",
    "print(l[2:9:2])\n",
    "\n",
    "#3\n",
    "doubles_by_3 = []\n",
    "for x in range(1,6):\n",
    "    if (x*2)%3 == 0:\n",
    "        doubles_by_3.append(x*2)\n",
    "#print(\"what do I expect: 6. What do I get:  \")\n",
    "print(doubles_by_3)\n",
    "\n",
    "#4\n",
    "even_squares = []\n",
    "for x in range(1,11):\n",
    "    if x%2 ==0:\n",
    "        even_squares.append(x**2)\n",
    "\n",
    "print(even_squares)"
   ]
  }
 ],
 "metadata": {
  "kernelspec": {
   "display_name": "BDSC",
   "language": "python",
   "name": "python3"
  },
  "language_info": {
   "codemirror_mode": {
    "name": "ipython",
    "version": 3
   },
   "file_extension": ".py",
   "mimetype": "text/x-python",
   "name": "python",
   "nbconvert_exporter": "python",
   "pygments_lexer": "ipython3",
   "version": "3.13.3"
  }
 },
 "nbformat": 4,
 "nbformat_minor": 5
}
