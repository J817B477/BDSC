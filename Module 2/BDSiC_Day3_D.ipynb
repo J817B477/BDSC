{
 "cells": [
  {
   "cell_type": "markdown",
   "id": "13d3727f-7a37-4100-aa49-62869ae26d19",
   "metadata": {},
   "source": [
    "# Let's discuss projects\n",
    "1. Where can you find interesting data sets? Almost anywhere, but here are some links (cell below)\n",
    "2. How will you each contribute to the project?\n",
    "3. What will the question be? "
   ]
  },
  {
   "cell_type": "markdown",
   "id": "d8daad77-18d6-4879-8947-210796b9926b",
   "metadata": {},
   "source": [
    "Project: Where to find data?\n",
    "(These are suggestions - you do not have to use any of these if you have other repositories or interests!)\n",
    "\n",
    "* [Gap minder - Hans Rosling](https://www.gapminder.org/data/)\n",
    "* [Awesome Public Datasets](https://github.com/awesomedata/awesome-public-datasets/blob/master/README.rst)\n",
    "* [Data.gov](https://catalog.data.gov/dataset)\n",
    "* [Data Is Plural](https://docs.google.com/spreadsheets/d/1wZhPLMCHKJvwOkP4juclhjFgqIY8fQFMemwKL2c64vk/edit#gid=0)\n",
    "* [Datasets | Deep Learning](http://deeplearning.net/datasets/)\n",
    "* [Stanford | Social Science Data Collection](https://data.stanford.edu/)\n",
    "* [US Census](https://www.census.gov/)\n",
    "* [Open Climate Data](http://openclimatedata.net/)\n",
    "* [Data and Story Library](https://dasl.datadescription.com/datafiles/)\n",
    "* [Kaggle](https://www.kaggle.com/)\n",
    "* [FiveThirtyEight](https://data.fivethirtyeight.com/)\n",
    "* [data.world](https://data.world/)\n",
    "* [Free Datasets - R and Data Mining ](http://www.rdatamining.com/resources/data)\n",
    "* [CIA World FactBook](https://www.cia.gov/the-world-factbook/)\n",
    "* [CANCER Data](https://seer.cancer.gov/statistics-network/explorer/)\n"
   ]
  }
 ],
 "metadata": {
  "kernelspec": {
   "display_name": "Python 3 (ipykernel)",
   "language": "python",
   "name": "python3"
  },
  "language_info": {
   "codemirror_mode": {
    "name": "ipython",
    "version": 3
   },
   "file_extension": ".py",
   "mimetype": "text/x-python",
   "name": "python",
   "nbconvert_exporter": "python",
   "pygments_lexer": "ipython3",
   "version": "3.11.5"
  }
 },
 "nbformat": 4,
 "nbformat_minor": 5
}
