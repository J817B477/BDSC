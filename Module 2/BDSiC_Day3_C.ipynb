{
 "cells": [
  {
   "cell_type": "markdown",
   "id": "765798b1-027d-49a6-a9be-915c5517844e",
   "metadata": {},
   "source": [
    "# Summary of this notebook\n",
    "---\n",
    "\n",
    "## Key points\n",
    "1. Everything in Python is an object with its own methods\n",
    "2. We are going to introduce a **file object**\n",
    "   * allows us to use, access, manipulate files\n",
    "   * like all objects, has associated methods: open() and others\n",
    "\n",
    "## Overview of this module\n",
    "1. I/O Data\n",
    "2. File Objects\n",
    "    1. Paths - where are the files we create placed?\n",
    "3. Rules of reading, writing, overwriting, appending to files\n",
    "4. Creating plain text files\n",
    "\n",
    "\n",
    "## Extra resource: \n",
    "* [CS50 in Python](https://cs50.harvard.edu/python/2022/weeks/6/) covers I/O"
   ]
  },
  {
   "cell_type": "markdown",
   "id": "5b89e863-5f10-4f5b-a96f-b068d8004b6e",
   "metadata": {},
   "source": [
    "# I/O\n",
    "---\n",
    "\n",
    "A useful program will usually require data input to manipulate and will spit out the results of this manipulation. We have learned a tiny bit of some manipulations with strings. \n",
    "\n",
    "In this module, we will learn how to open, read and write files - sometimes even multiple files at multiple locations. \n",
    "\n",
    "We will use \"flat files\" (ie. no structured relationship like there is in databases, for instance). This means text files (.txt) or comma-separated files (.csv). \n",
    "\n",
    "## Introductory Example: Creating and writing to a file\n",
    "\n",
    "**Step 1:** Go to the folder icon on the left. Click on it and navigate to \"content\" folder. Click on that. This is the default location of files that you create within a program. You should see that there are no text files there.\n",
    "\n",
    "**Step 2:** What does the following program do? "
   ]
  },
  {
   "cell_type": "code",
   "execution_count": null,
   "id": "d7f8bcfb-2520-45e2-896f-95820b0bf122",
   "metadata": {},
   "outputs": [
    {
     "name": "stdout",
     "output_type": "stream",
     "text": [
      "[1, 4, 9, 16, 25, 36, 49, 64, 81, 100]\n"
     ]
    }
   ],
   "source": [
    "# The following is called a \"List Comprehension\" and it is a way of efficiently filling a list from a loop\n",
    "# -------------------------------\n",
    "my_list = [i**2 for i in range(1,11)]\n",
    "print(my_list)\n",
    "\n",
    "f = open(\"output_data/output.txt\",  # creates file object and output file path\n",
    "         \"w+\") # 'w+' permission: write or read('+')\n",
    "\n",
    "for item in my_list:\n",
    "    f.write(str(item) + \"\\n\")\n",
    "\n",
    "f.close() # ends access to file; will not write to file without this\n",
    "\n",
    "# if you check, you will notice that there is a file in the same path as this notebook called 'output.txt'\n",
    "# to determine what this program does, we can interrogate the code.... \n",
    "# of course, you can also just open 'output.txt' file."
   ]
  },
  {
   "cell_type": "code",
   "execution_count": null,
   "id": "def36889-1de3-48e7-b530-6ac6a6e7b901",
   "metadata": {},
   "outputs": [],
   "source": [
    "my_list2=[\"AT\",\"CG\",\"cg\"]\n",
    "# what happens if you use this line, where \"w\" isn't specified? Try it with w, r, a and see which one allows you to create a new file etc\n",
    "f = open(\"output_data/output_test_1.txt\", \"w+\")\n",
    "\n",
    "#Does this provide a hint about what \"w\" is doing?\n",
    "f = open(\"output_data/output_2.txt\",\"w+\")\n",
    "# ---------------------\n",
    "# CHECK YOUR FOLDER AND SEE IF THERE IS A NEWLY CREATED FILE CALLED output_2.txt\n",
    "# ---------------------\n",
    "for item in my_list2:\n",
    "    f.write(item + \"\\n\")\n",
    "f.close()"
   ]
  },
  {
   "cell_type": "markdown",
   "id": "39fe81f8-bf41-4968-a71e-721884f2ea71",
   "metadata": {},
   "source": [
    "## File Objects\n",
    "A file object allow us to access and manipulate data.\n",
    "* `open(file_address, access_mode)` is a file object method that includes two arguments: `file_address`, `access_mode`\n",
    "    * access mode (sometimes called \"file permissions\"):\n",
    "        1. r/r+  - cursor is at the beginning of the file; read only/read and write\n",
    "        2. w/w+  - cursor is at the beginning of the file; write only/read and write\n",
    "        3. a/a+  - cursor is the end of the file (for appending); append only/read and append\n",
    "    * other methods (not exhaustive, there are other methods associated with files):\n",
    "        * `file_object_name.read(size)`: if size argument is omitted, it reads until **end of file (EOF)**\n",
    "        * `file_object_name.readline(size)`: returns string of first line (until newline or EOF is encountered)\n",
    "        * `file_object_name.readlines(size)`: returns list\n",
    "        * `file_object_name.write()`: writes strings to a file\n",
    "        * `file_object_name.close()`: a file cannot be read from or written to until it is opened again"
   ]
  },
  {
   "cell_type": "code",
   "execution_count": 9,
   "id": "c247d161-c50f-4d3e-90b5-db812dadddec",
   "metadata": {},
   "outputs": [],
   "source": [
    "# How do we open a file?\n",
    "#-------------------------------\n",
    "# the format that we use is:\n",
    "# variable_name = open(path_if_necessary_and_file_name,mode) \n",
    "# where mode = append, read, write\n",
    "# ---------------------------\n",
    "\n",
    "f = open(\"output_data/output.txt\", \"r+\") # writes over file; 'r+' keeps the contents\n",
    "\n",
    "#the command above created a textfile called 'output.txt' in 'w' mode. However, in the cell above, we created an output.txt file, too. What happened?\n",
    "# you should be able to check that there is now a file called output.txt\n",
    "# the new file **object** is stored as the f file object which now has **attributes and methods**\n",
    "# instead of a filename,\"output.txt\", you can insert a path name - although we won't worry about that so far in this course\n",
    "\n",
    "f.write(\"Hello JAX!\"+\"\\n\")\n",
    "f.close()"
   ]
  },
  {
   "cell_type": "markdown",
   "id": "5ae068c4-19d5-4f97-afb6-cbef4731de42",
   "metadata": {},
   "source": [
    "### File objects vs. file names vs. file contents\n",
    "\n",
    "The subtle differences between file name, file object and file contents:\n",
    "\n",
    "**File object** <--Represents the file itself. You use methods like .read on file objects and ONLY on file objects (you will get an attribute error term if you attempt to use .read method on something that isn't a file object)\n",
    "\n",
    "**File name** <--String with the name of the file\n",
    "\n",
    "**File content** <--String that stores text of the file itself; .read()"
   ]
  },
  {
   "cell_type": "code",
   "execution_count": 11,
   "id": "6535b124-8190-41bf-9b78-363cc5d771e2",
   "metadata": {},
   "outputs": [
    {
     "name": "stdout",
     "output_type": "stream",
     "text": [
      "dna.txt\n",
      "<_io.TextIOWrapper name='output_data/dna.txt' mode='r' encoding='utf-8'>\n",
      "ATTGTCCCGTu\n",
      "\n"
     ]
    }
   ],
   "source": [
    "f = open(\"output_data/dna.txt\", \"w\")\n",
    "#the command above created a textfile called 'dna.txt' in 'w' mode. \n",
    "# you should be able to check that there is now a file called dna.txt\n",
    "# -------------------\n",
    "# since we used \"w\" and not \"w+\" as the access mode, we should get an exceptionIO raised if we attempt to read the contents of the file\n",
    "# as we do in the next line - currently hashed out. If we changed the w to w+, we could read the contents of the file to the screen.\n",
    "# -------------------\n",
    "#f.read()\n",
    "f.write(\"ATTGTCCCGTu\"+\"\\n\")\n",
    "f.close()\n",
    "# ---------------------------------------\n",
    "my_file_name = \"dna.txt\"\n",
    "# Note: you can just create a PLAIN TEXT FILE with a random sequence in it or you can create the file using the technique above\n",
    "print(my_file_name)\n",
    "\n",
    "#my_file_pointer is the pointer\n",
    "my_file_pointer = open(f\"output_data/{my_file_name}\")\n",
    "print(my_file_pointer)\n",
    "#read my file contents\n",
    "my_file_contents = my_file_pointer.read()\n",
    "print(my_file_contents)\n",
    "my_file_pointer.close()"
   ]
  },
  {
   "cell_type": "code",
   "execution_count": 14,
   "id": "c7cdd9a8-359a-47cb-863c-8e1041263ba4",
   "metadata": {},
   "outputs": [
    {
     "name": "stdout",
     "output_type": "stream",
     "text": [
      "source_data/MusAgouti.txt\n",
      "-----------\n",
      "<_io.TextIOWrapper name='source_data/MusAgouti.txt' mode='r' encoding='utf-8'>\n",
      "~~~~~~~~~~~~~~~\n",
      ">NM_001271\n",
      "*******\n"
     ]
    }
   ],
   "source": [
    "# NOTE: THIS WILL BE DIFFERENT FOR GCP/HPC. The following is what happens when you are using your local memory\n",
    "# that is: running this notebook on your laptop rather than on the cloud. \n",
    "# ______________________________________\n",
    "# my suggestion is that if are using a file to put it in the same directory/folder as the jupyter notebook that is accessing it.\n",
    "# If not, you can always type the full path to the file, it is just a bit more complicated on the first step. \n",
    "# Note the file path will look different if you are on a PC.\n",
    "# ------------------------------------\n",
    "# The file path below is for my mac os. \n",
    "#my_file_test = \"/Users/presgd/MyPythonFiles/dna.csv\"\n",
    "my_file_test=\"source_data/MusAgouti.txt\"\n",
    "# the same file path for windows should look something like this: \n",
    "#my_file_test = \"C:\\Users\\presgd\\mypython\\dna.csv\"\n",
    "\n",
    "print(my_file_test)\n",
    "print(\"-----------\")\n",
    "# we are creating the file object my_file_test_pointer\n",
    "my_file_test_pointer = open(my_file_test)\n",
    "print(my_file_test_pointer)\n",
    "print(\"~\"*15)\n",
    "# the unimaginably named my_file_test_contents should regurgitate what is \n",
    "# actually in your file\n",
    "my_file_test_contents = my_file_test_pointer.read()[0:10]\n",
    "print(my_file_test_contents)\n",
    "print(\"*******\")"
   ]
  },
  {
   "cell_type": "markdown",
   "id": "1ca66a4f-cd75-4ba9-8605-30997b1c60a2",
   "metadata": {},
   "source": [
    "## Reading/Writing Text from Files\n",
    "\n",
    "**The _major_ tasks that we want to be able to do when manipulating text files include:**\n",
    "\n",
    "1. Double check that the file exists manually *and that it is in the correct path* **or** that you can create a file\n",
    "2. Open the file \n",
    "3. Read file (or write to the file, or a different file, or read and write to the file)\n",
    "    * These are all **methods for file object**\n",
    "4. Close file\n",
    "    * **method for file object**\n",
    "\n",
    "### Procedure \n",
    "1. Check file exists\n",
    "2. Open file\n",
    "3. Read file or _Append_ text to end of existing file or _Write_ to a file (this will OVERWRITE anything at the beginning of the file)\n",
    "4. Close file\n"
   ]
  },
  {
   "cell_type": "markdown",
   "id": "2b2eefe3-9f7a-476b-bae4-68c687c28b0d",
   "metadata": {},
   "source": [
    "### Writing to an output file\n",
    "The steps involved in writing to a file: \n",
    "\n",
    "1. Open/create file and specify access (or Python will assume r and you won't be able to write to it)\n",
    "2. Write to file:  `.write()`\n",
    "3. Close file: `.close()` – ensures that output to a file is flushed"
   ]
  },
  {
   "cell_type": "code",
   "execution_count": null,
   "id": "58cfaa42-a1b9-43af-b986-997cc4c717d0",
   "metadata": {},
   "outputs": [],
   "source": [
    "#remember the first example we gave and we asked what it did?\n",
    "# Here it is again but this time you know what it does!\n",
    "my_list = [i**2 for i in range(1,11)]\n",
    "\n",
    "my_file = open(\"output.txt\", \"w\")\n",
    "\n",
    "for each in my_list:\n",
    "    my_file.write(str(each)+\"\\n\")\n",
    "\n",
    "# After running this cell, you could try running it again with the following line hashed out. \n",
    "# When you open output.txt, what happens when the .close() is hashed out? \n",
    "my_file.close()"
   ]
  },
  {
   "cell_type": "markdown",
   "id": "e5b0711a-2744-4181-bd60-5e9fb398adf6",
   "metadata": {},
   "source": [
    "### Appending to a file\n",
    "The steps involved in writing to a file: \n",
    "\n",
    "1. Open file and specify **append** access (or Python will assume r)\n",
    "2. Write to file: `.write()`\n",
    "3. Close file: `.close()`"
   ]
  },
  {
   "cell_type": "code",
   "execution_count": 15,
   "id": "1a8f24f1-cacd-4817-99b7-5a3e6e022b7d",
   "metadata": {},
   "outputs": [],
   "source": [
    "# List comprehension\n",
    "my_list = [i**2 for i in range(1,11)]\n",
    "# recreate the original output.txt file: \n",
    "# ---------------------------------\n",
    "f = open(\"output_data/output.txt\",\"w+\")\n",
    "for item in my_list:\n",
    "    # convert each number to string since write takes string objects. \n",
    "    f.write(str(item) + \"\\n\")\n",
    "f.close()\n",
    "# ---------------------------------\n",
    "# let's use the permission a+. What does this do to our output? Run it and check the output.txt file\n",
    "# After you have checked the file, change the a+ to r+ and see how that changes the output.txt file\n",
    "\n",
    "my_file=open(\"output_data/output.txt\",\"a+\")\n",
    "my_file.write(\"Hello JAX!\"+\"\\n\")\n",
    "my_file.close()"
   ]
  },
  {
   "cell_type": "markdown",
   "id": "3e01a066-9aaa-4b63-8f30-6c3733b5cd36",
   "metadata": {},
   "source": [
    "### Reading from a file\n",
    "1. Open file \n",
    "2. Read file \n",
    "   1. read one line at a time from file. First time it is called, it reads first line, second time it is called, it reads second line etc. <br>\n",
    "            `.readline()`\n",
    "   2. read entire file contents <br>\n",
    "            `.readlines()`\n",
    "3. Close file"
   ]
  },
  {
   "cell_type": "code",
   "execution_count": null,
   "id": "144fe239-d3df-4ce2-af23-aa625c7ea908",
   "metadata": {},
   "outputs": [],
   "source": [
    "#All contents of file are read at once\n",
    "my_file=open(\"output.txt\",\"r\")\n",
    "# you could print off only the first 5 characters -- including the \\n\n",
    "print(my_file.read(5))\n",
    "my_file.close()\n",
    "print(\"------------\")\n",
    "#one line at a time of the file contents are read\n",
    "# the difference between readlines() and readline() methods.\n",
    "my_file=open(\"output.txt\",\"r\")\n",
    "print(my_file.readlines())\n",
    "#print(my_file.readline())\n",
    "#print(my_file.readline())\n",
    "#print(my_file.readline())\n",
    "my_file.close()"
   ]
  },
  {
   "cell_type": "markdown",
   "id": "722f3a5e-403c-4066-8999-d64cdb7f0114",
   "metadata": {},
   "source": [
    "## [Rosalind Problem](https://rosalind.info/problems/ini5/)\n",
    "**Problem 3B1**\n",
    "\n",
    "**Given:** A file containing at most 1000 lines.\n",
    "\n",
    "**Return:** A file containing all the even-numbered lines from the original file. Assume 1-based numbering of lines.\n",
    "\n",
    "**Sample Dataset:**\n",
    "\n",
    "> Bravely bold Sir Robin rode forth from Camelot\n",
    "\n",
    "> Yes, brave Sir Robin turned about\n",
    "\n",
    "> He was not afraid to die, O brave Sir Robin\n",
    "\n",
    "> And gallantly he chickened out\n",
    "\n",
    "> He was not at all afraid to be killed in nasty ways\n",
    "\n",
    "> Bravely talking to his feet\n",
    "\n",
    "> Brave, brave, brave, brave Sir Robin\n",
    "\n",
    "> He beat a very brave retreat\n",
    "\n",
    "**Sample Output:**\n",
    "\n",
    "> Yes, brave Sir Robin turned about\n",
    "\n",
    "> And gallantly he chickened out\n",
    "\n",
    "> Bravely talking to his feet\n",
    "\n",
    "> He beat a very brave retreat"
   ]
  },
  {
   "cell_type": "code",
   "execution_count": null,
   "id": "bad6a535",
   "metadata": {},
   "outputs": [],
   "source": [
    "f = open(\"source_data/Rosalind_3C1.txt\", \"r\")\n",
    "stuff = f.readlines()[1:] # line index O is not even\n",
    "f.close()\n",
    "\n",
    "o = open(\"output_data/Rosalind_3C1_out.txt\", \"w+\")\n",
    "for i, line in enumerate(stuff):\n",
    "    if i % 2 == 0:\n",
    "        o.write(line)\n",
    "\n",
    "o.close()"
   ]
  },
  {
   "cell_type": "markdown",
   "id": "b0228764-42df-4363-ad52-835f6b319b24",
   "metadata": {},
   "source": [
    "# [Rosalind Problem](https://rosalind.info/problems/gc/)\n",
    "\n",
    "**Problem 3B2**\n",
    "\n",
    "The GC-content of a DNA string is given by the percentage of symbols in the string that are 'C' or 'G'. For example, the GC-content of \"AGCTATAG\" is 37.5%. Note that the reverse complement of any DNA string has the same GC-content.\n",
    "\n",
    "DNA strings must be labeled when they are consolidated into a database. A commonly used method of string labeling is called [FASTA](https://en.wikipedia.org/wiki/FASTA_format). In this format, the string is introduced by a line that begins with '>', followed by some labeling information. Subsequent lines contain the string itself; the first line to begin with '>' indicates the label of the next string.\n",
    "\n",
    "In Rosalind's implementation, a string in FASTA format will be labeled by the ID \"Rosalind_xxxx\", where \"xxxx\" denotes a four-digit code between 0000 and 9999.\n",
    "\n",
    "**Given:** At most 10 DNA strings in FASTA format (of length at most 1 kbp each).\n",
    "\n",
    "**Return:** The ID of the string having the highest GC-content, followed by the GC-content of that string. Rosalind allows for a default error of 0.001 in all decimal answers unless otherwise stated; please see the note on absolute error below.\n",
    "\n",
    "**Sample Dataset:**\n",
    "\n",
    "\\>Rosalind_6404\n",
    "\n",
    "CCTGCGGAAGATCGGCACTAGAATAGCCAGAACCGTTTCTCTGAGGCTTCCGGCCTTCCCTCCCACTAATAATTCTGAGG\n",
    "\n",
    "\\>Rosalind_5959\n",
    "\n",
    "CCATCGGTAGCGCATCCTTAGTCCAATTAAGTCCCTATCCAGGCGCTCCGCCGAAGGTCTATATCCATTTGTCAGCAGACACGC\n",
    "\n",
    "\\>Rosalind_0808\n",
    "\n",
    "CCACCCTCGTGGTATGGCTAGGCATTCAGGAACCGGAGAACGCTTCAGACCAGCCCGGACTGGGAACCTGCGGGCAGTAGGTGGAAT\n",
    "\n",
    "**Sample Output:**\n",
    "\n",
    "Rosalind_0808\n",
    "\n",
    "60.919540\n"
   ]
  },
  {
   "cell_type": "markdown",
   "id": "cdfad561-a81a-40a5-bc80-120d9903121b",
   "metadata": {},
   "source": [
    "## Extracting file contents: .rstrip()\n",
    "\n",
    "Opening files can sometimes require something _extra_.\n",
    "\n",
    "For instance, files can contain **hidden** characters such as **\\n** (which means start a newline) which need to be removed. A straightforward way to do this is to use the string method: **`.rstrip(\"\\n\")`**\n",
    "\n",
    "There is also a separate method for removing hidden characters from the left side of the string called `.lstrip()`. However, that generally isn't relevant for I/O so I mention it merely for completeness."
   ]
  },
  {
   "cell_type": "code",
   "execution_count": 30,
   "id": "62cef973-6d0b-486d-98ea-1cc3b59ee643",
   "metadata": {},
   "outputs": [
    {
     "name": "stdout",
     "output_type": "stream",
     "text": [
      "Sequence is ATTGTCCCGTu and the length is 11 bp\n"
     ]
    }
   ],
   "source": [
    "#open the file that we created above. Notice: when we originally created dna.txt, we gave it access 'w', but\n",
    "# when we open the file again, we can specify different access. Here we have not given any access mode so \n",
    "# the default of Python is to assume \"r\" as access mode\n",
    "# -----------------------\n",
    "my_file=open(\"output_data/dna.txt\")\n",
    "\n",
    "# #read contents - you could do this in two lines:\n",
    "# # 1. read in files contents\n",
    "# my_file_contents= my_file.read()\n",
    "# # 2. put file contents into variable WITHOUT the .rstrip(), see what happens: \n",
    "# my_DNA=my_file_contents\n",
    "\n",
    "# or 2. put file contents into variable WITH the .rstrip(), see what happens:\n",
    "#my_DNA=my_file_contents.rstrip(\"\\n\")\n",
    "\n",
    "# -----------------------------\n",
    "#notice that you can BE MORE EFFICIENT AND append the .rstrip method to the read method.\n",
    "# --------------------------\n",
    "my_DNA = my_file.read().rstrip(\"\\n\")\n",
    "#calculate length by using built in function len(). We will see this method A LOT. \n",
    "dna_length=len(my_DNA) # returns 12 w/out .rstrip(\"\\n\")\n",
    "#print output\n",
    "print(\"Sequence is \"+my_DNA+\" and the length is \"+str(dna_length) +\" bp\")\n",
    "my_file.close()"
   ]
  },
  {
   "cell_type": "markdown",
   "id": "3a47ca9b-c209-4b7d-a3e0-c7c25dff9962",
   "metadata": {},
   "source": [
    "## Aside: Why do we need to *__close__* our files? \n",
    "Data is buffered during the I/O process which means it is held in a temporary location before being written to the file. \n",
    "\n",
    "Python doesn’t flush the buffer (write the buffer to the file) until it is sure that you are done writing so you must close the file or the data won’t be transferred to the correct file.\n",
    "\n",
    "Digression for when you want to use Python in the wild: \n",
    "* Python can automatically close your files for you by using context managers: the two built in methods: __enter__(); __exit__()\n",
    "    * We won't discuss them in this course\n"
   ]
  },
  {
   "cell_type": "code",
   "execution_count": null,
   "id": "5b6f1c02-471f-44f9-a2d5-001171374452",
   "metadata": {},
   "outputs": [],
   "source": [
    "# create a file and open the file for writing\n",
    "write_file = open(\"dummy.txt\", \"w\")\n",
    "# Write to the file\n",
    "write_file.write(\"Not closing files is VERY BAD.\")\n",
    "# if we hash out the next line, the buffer won't know to read the line into our dummy.txt file\n",
    "write_file.close()"
   ]
  }
 ],
 "metadata": {
  "kernelspec": {
   "display_name": "BDSC",
   "language": "python",
   "name": "python3"
  },
  "language_info": {
   "codemirror_mode": {
    "name": "ipython",
    "version": 3
   },
   "file_extension": ".py",
   "mimetype": "text/x-python",
   "name": "python",
   "nbconvert_exporter": "python",
   "pygments_lexer": "ipython3",
   "version": "3.13.3"
  }
 },
 "nbformat": 4,
 "nbformat_minor": 5
}
