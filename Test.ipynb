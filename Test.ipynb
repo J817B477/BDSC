{
  "cells": [
    {
      "cell_type": "markdown",
      "id": "138baddd",
      "metadata": {
        "id": "138baddd"
      },
      "source": [
        "# Test Notebook"
      ]
    },
    {
      "cell_type": "markdown",
      "id": "QlbX17nF7qTn",
      "metadata": {
        "id": "QlbX17nF7qTn"
      },
      "source": [
        "here's some text to update from colab"
      ]
    },
    {
      "cell_type": "code",
      "execution_count": 1,
      "id": "6add8ca1",
      "metadata": {
        "id": "6add8ca1"
      },
      "outputs": [
        {
          "name": "stdout",
          "output_type": "stream",
          "text": [
            "hello\n"
          ]
        }
      ],
      "source": [
        "print(\"hello\")"
      ]
    }
  ],
  "metadata": {
    "colab": {
      "provenance": []
    },
    "kernelspec": {
      "display_name": "BDSC",
      "language": "python",
      "name": "python3"
    },
    "language_info": {
      "codemirror_mode": {
        "name": "ipython",
        "version": 3
      },
      "file_extension": ".py",
      "mimetype": "text/x-python",
      "name": "python",
      "nbconvert_exporter": "python",
      "pygments_lexer": "ipython3",
      "version": "3.13.3"
    }
  },
  "nbformat": 4,
  "nbformat_minor": 5
}
