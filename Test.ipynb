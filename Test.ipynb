{
  "cells": [
    {
      "cell_type": "markdown",
      "id": "138baddd",
      "metadata": {
        "id": "138baddd"
      },
      "source": [
        "# Test Notebook"
      ]
    },
    {
      "cell_type": "markdown",
      "source": [
        "here's some text to update from colab"
      ],
      "metadata": {
        "id": "QlbX17nF7qTn"
      },
      "id": "QlbX17nF7qTn"
    },
    {
      "cell_type": "markdown",
      "id": "6add8ca1",
      "metadata": {
        "id": "6add8ca1"
      },
      "source": []
    }
  ],
  "metadata": {
    "language_info": {
      "name": "python"
    },
    "colab": {
      "provenance": []
    }
  },
  "nbformat": 4,
  "nbformat_minor": 5
}