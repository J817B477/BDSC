{
 "cells": [
  {
   "cell_type": "markdown",
   "id": "7581f799",
   "metadata": {},
   "source": [
    "   __For the sequence given below:__\n",
    "\n",
    " **5’- ATCGATCGATCGATCGACTGACTAATCATAGCTATGCATGCTACTCGATCGATCGATCGATCGATCGATCGATCGATCGATCATGCTAACATCGATCGATATCGATGCATCGACTAGTACTAT-3'**\n",
    "\n",
    "Introns are the noncoding parts of a DNA sequence that are spliced out (removed) from the sequence before it is translated into a chain of amino acids. In the following sequence, there are **two exons** and **one intron**. The first exon runs from the **start** of the sequence to the **63rd** character. The second exon runs from the **91st** character to the **end** of the sequence. (hint: in the following sequence of numbers what would the 3rd character: 0 1 2 3 4)\n",
    "\n",
    "1. Write a program that prints out JUST the coding regions of the DNA sequence to the screen (ie. removes the introns)\n",
    "2. Using the results of 1, write a program that will calculate what percentage of the DNA sequence that is coding.\n",
    "3. Write a program that will print out the original genomic DNA sequence coding bases in UPPERCASE letters and the intronic (non-coding) bases in lowercase.  (Hint: Built-in methods can make solving this problem more straight forward and efficient)\n",
    "4. Write a program that will split the genomic DNA into coding and non-coding  parts."
   ]
  },
  {
   "cell_type": "code",
   "execution_count": 1,
   "id": "0fa330a4",
   "metadata": {},
   "outputs": [],
   "source": [
    "DNA_seq = \"ATCGATCGATCGATCGACTGACTAATCATAGCTATGCATGCTACTCGATCGATCGATCGATCGATCGATCGATCGATCGATCATGCTAACATCGATCGATATCGATGCATCGACTAGTACTAT\""
   ]
  },
  {
   "cell_type": "code",
   "execution_count": 3,
   "id": "12a7f04e",
   "metadata": {},
   "outputs": [
    {
     "data": {
      "text/plain": [
       "'ATCGATCGATCGATCGACTGACTAATCATAGCTATGCATGCTACTCGATCGATCGATCGATCATCGATCGATATCGATGCATCGACTAGTACTAT'"
      ]
     },
     "execution_count": 3,
     "metadata": {},
     "output_type": "execute_result"
    }
   ],
   "source": [
    "expressed = DNA_seq[0:62] + DNA_seq[90:len(DNA_seq)]\n",
    "expressed"
   ]
  },
  {
   "cell_type": "code",
   "execution_count": 4,
   "id": "eaeb7bd1",
   "metadata": {},
   "outputs": [
    {
     "data": {
      "text/plain": [
       "77.23577235772358"
      ]
     },
     "execution_count": 4,
     "metadata": {},
     "output_type": "execute_result"
    }
   ],
   "source": [
    "percent_exp = len(expressed)/len(DNA_seq) * 100\n",
    "percent_exp"
   ]
  },
  {
   "cell_type": "code",
   "execution_count": null,
   "id": "96f8ff6f",
   "metadata": {},
   "outputs": [],
   "source": []
  }
 ],
 "metadata": {
  "kernelspec": {
   "display_name": "BDSC",
   "language": "python",
   "name": "python3"
  },
  "language_info": {
   "codemirror_mode": {
    "name": "ipython",
    "version": 3
   },
   "file_extension": ".py",
   "mimetype": "text/x-python",
   "name": "python",
   "nbconvert_exporter": "python",
   "pygments_lexer": "ipython3",
   "version": "3.13.3"
  }
 },
 "nbformat": 4,
 "nbformat_minor": 5
}
