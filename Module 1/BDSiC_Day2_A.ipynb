{
 "cells": [
  {
   "attachments": {},
   "cell_type": "markdown",
   "id": "ca18c757-4c1d-4e49-b041-2856ebe6819d",
   "metadata": {},
   "source": [
    "## Jupyter\n",
    "\n",
    "__LO: Learners use and manipulate Jupyter notebooks: evaluating, and adding cells, and switching between Markdown and Coding cells__\n",
    "\n",
    "Overview of Jupyter Notebooks:\n",
    " - Notebooks contain chunks that are in a programming language (JUlia, PYThon, R) or in Markdown language.\n",
    " - Variables, assignment, and memory\n"
   ]
  },
  {
   "cell_type": "markdown",
   "id": "0c5202ba-838b-4c4b-95f5-3692089fb8d2",
   "metadata": {},
   "source": [
    "# Jupyter\n",
    "\n",
    "## What is Jupyter?\n",
    "\n",
    "Jupyter is an integrated environment with Markdown language and Python cells (IPython is what is running under the hood).\n",
    "\n",
    "* Jupyter (**JU**\\[lia] **PYT**\\[hon] e **R**) allows for cells with multiple languages (so you could have one cell that is written in Python and the next cell could be written in R, for example), but you need to switch between kernels (the engines of the coding chunks) \n",
    "  * **Note:** We will only use Python in this course\n",
    "* Anaconda/Miniconda makes it easy to download packages (it is technically a package manager rather than a program)\n",
    "\n",
    "## Shortcuts\n",
    "Jupyter has a host of useful shortcuts:\n",
    "\n",
    "* __tab completion__\n",
    "    * Begin to type a variable name (or command or module or file path) and press the tab key to get completion suggestions\n",
    "<br></br>\n",
    "* __introspection__\n",
    "    * Use ? before or after any command and Jupyter will define it for you\n",
    "    * Use ?? to get a function's source code\n",
    "<br></br>\n",
    "* __magic commands__ that facilitate common tasks.\n",
    "    * Magic commands are prefixed by % and they can be thought of command-line programs that can be run within the Jupyter cells. \n",
    "    * %magic (this will pop up the definition and description of ALL available magic commands)\n",
    "<br></br>\n",
    "* other keyboard short cuts that you will discover yourself (or you can google them and play around with them)\n",
    "  1.  [Jupyter Keyboard Navigation Tips](https://jupyter-notebook.readthedocs.io/en/stable/examples/Notebook/Notebook%20Basics.html#Keyboard-Navigation)\n",
    "  2.  [Dataquest Jupyter Tutorial](https://www.dataquest.io/blog/jupyter-notebook-tutorial/)"
   ]
  },
  {
   "cell_type": "markdown",
   "id": "d383b068-7e3c-435d-b8a0-d823e5a5f2c9",
   "metadata": {},
   "source": [
    "## Let's take a quick tour of the basics of a Jupyter notebook\n",
    "\n",
    "- Pull down menu for File\n",
    "    - Save and checkpoint\n",
    "    - Rename\n",
    "- Insert and Cell\n",
    "- Markdown chunks and coding chunks\n",
    "- Kernel\n",
    "    - What language is a particular chunk going to use?\n",
    "    - In this course, we'll stick to Python but you could use Python in one chunk, R in the next and Julia in the next one."
   ]
  },
  {
   "cell_type": "markdown",
   "id": "d9041658",
   "metadata": {},
   "source": [
    "# Here is a Heading\n",
    "1. there are a **few** syntax components\n",
    "1. ...\n",
    "\n",
    "- unnumbered\n",
    "- list\n"
   ]
  },
  {
   "cell_type": "markdown",
   "id": "4c3912c7-415c-4c35-a846-5f7e9792903f",
   "metadata": {},
   "source": [
    "## We are going to open a new Notebook (file) and save it!\n",
    "\n",
    "1. First, ensure you have a folder called MyPythonFiles (or something similar) and that you are saving your notebooks to an appropriate path.\n",
    "2. Save as LASTNAME_FirstInitial_BDSiC_Day1.ipynb\n",
    "    * Why should it be saved as \"ipynb\"?\n",
    "3. Copy the contents of the next chunk into a Markdown chunk in your new file.\n",
    "    * This is your assignment for Module 1 that you will eventually hand-in. We don't know how to solve this yet, but will have the tools to do so by the end of Module 1B!\n",
    "\n",
    "<br>\n",
    "\n",
    "Note that for your Rosalind problems:\n",
    "* Markdown cells should include: the assignment question, interpretation and outline of your solution, etc. \n",
    "* Coding chunks should include: code and hashed out comments describing the code\n",
    " -------------------------------------"
   ]
  },
  {
   "cell_type": "markdown",
   "id": "9e9513b3-692a-4e1b-9124-df6bc70019fe",
   "metadata": {},
   "source": [
    "   __For the sequence given below:__\n",
    "\n",
    " **5’- ATCGATCGATCGATCGACTGACTAATCATAGCTATGCATGCTACTCGATCGATCGATCGATCGATCGATCGATCGATCGATCATGCTAACATCGATCGATATCGATGCATCGACTAGTACTAT-3'**\n",
    "\n",
    "Introns are the noncoding parts of a DNA sequence that are spliced out (removed) from the sequence before it is translated into a chain of amino acids. In the following sequence, there are **two exons** and **one intron**. The first exon runs from the **start** of the sequence to the **63rd** character. The second exon runs from the **91st** character to the **end** of the sequence. (hint: in the following sequence of numbers what would the 3rd character: 0 1 2 3 4)\n",
    "\n",
    "1. Write a program that prints out JUST the coding regions of the DNA sequence to the screen (ie. removes the introns)\n",
    "2. Using the results of 1, write a program that will calculate what percentage of the DNA sequence that is coding.\n",
    "3. Write a program that will print out the original genomic DNA sequence coding bases in UPPERCASE letters and the intronic (non-coding) bases in lowercase.  (Hint: Built-in methods can make solving this problem more straight forward and efficient)\n",
    "4. Write a program that will split the genomic DNA into coding and non-coding  parts."
   ]
  },
  {
   "cell_type": "markdown",
   "id": "9f62054f-9426-4b42-8612-60455bb4a631",
   "metadata": {},
   "source": [
    "## Save a second notebook\n",
    "Take a moment to create a new notebook for your Module 2 assignment containing the question in the next Markdown block.\n",
    "\n",
    "Same format: LASTNAME_Firstinitial_PS2.ipynb\n",
    "\n",
    " -------------------------------------"
   ]
  },
  {
   "cell_type": "markdown",
   "id": "57733cc8-2091-44bf-bf8a-a2a0bb90c82b",
   "metadata": {},
   "source": [
    "1. Open the Module2_Example.txt file, remove the first line of the FASTA file.\n",
    "\n",
    "    If you get stuck, you can hand-in pseudocode that includes a breakdown of the logic of how you are trying to solve the problem along with some pieces of code. We will discuss expectations for pseudocode in lecture.\n",
    "\n",
    "    The file will now contain only the following sequence (from Assignment 1): \n",
    "\n",
    "    **5’- ATCGATCGATCGATCGACTGACTAATCATAGCTATGCATGCTACTCGATCGATCGATCGATCGATCGATCGATCGATCGATCATGCTAACATCGATCGATATCGATGCATCGACTAGTACTAT-3'**\n",
    "\n",
    "    Introns are the noncoding parts of a DNA sequence that are spliced out (removed) from the sequence before it is translated into a chain of amino acids. In the following sequence, there are **two exons** and **one intron**. The first exon runs from the **start** of the sequence to the **63rd** character. The second exon runs from the **91st** character to the **end** of the sequence. (hint: in the following sequence of numbers what would the 3rd character: 0 1 2 3 4). \n",
    "\n",
    "2. Write a program that will split the genomic DNA into coding and non-coding (intron) parts and write these to two different files (a file for exons/coding and a file for the spliced out introns/non-coding). You should be able to have a flexible program that works with any sequence provided by a user but you can assume that the user knows the positions (locations) where the intron/exons are located. "
   ]
  },
  {
   "cell_type": "markdown",
   "id": "add135ff-560e-4c82-afbc-ca8befca66e1",
   "metadata": {},
   "source": [
    "**Once you finish, you can go ahead and make notebooks for additional days if you want.**"
   ]
  },
  {
   "cell_type": "markdown",
   "id": "4bee7a3b-f37a-410d-ba5c-5a5504eeed4e",
   "metadata": {},
   "source": [
    "Here are some basics of Markdown\n",
    "------------------------------------------\n",
    "\n",
    "# This would be a title\n",
    "## Slightly smaller subtitle can go here - see how this title has two hashtags instead of one?\n",
    "### Even SMALLER subtitle\n",
    "> __Note__ that just because we can surround our code with text explanations, we will still need to comment our code within each code cell"
   ]
  },
  {
   "cell_type": "markdown",
   "id": "c370d384-5462-443e-a460-1ab6ff5ee8d3",
   "metadata": {},
   "source": [
    "# Additional Resources\n",
    "\n",
    "### Jupyter Resources: \n",
    "* [DataCamp Jupyter Notebook Cheat Sheet](https://s3.amazonaws.com/assets.datacamp.com/blog_assets/Jupyter_Notebook_Cheat_Sheet.pdf)\n",
    "* [DataCamp Jupyter Notebook Tutorial](https://www.datacamp.com/tutorial/tutorial-jupyter-notebook)\n",
    "* [edureka! Jupyter Notebook Cheat Sheet](https://www.edureka.co/blog/cheatsheets/Jupyter-Notebook-Cheat-Sheet)\n",
    "\n",
    "### Markdown Language Resources:\n",
    "* [Markdown for Jupyter Cheat Sheet](https://medium.com/ibm-data-science-experience/markdown-for-jupyter-notebooks-cheatsheet-386c05aeebed)\n",
    "* [Markdown Guide: Cheat Sheet](https://www.markdownguide.org/cheat-sheet/) "
   ]
  }
 ],
 "metadata": {
  "kernelspec": {
   "display_name": "BDSC",
   "language": "python",
   "name": "python3"
  },
  "language_info": {
   "codemirror_mode": {
    "name": "ipython",
    "version": 3
   },
   "file_extension": ".py",
   "mimetype": "text/x-python",
   "name": "python",
   "nbconvert_exporter": "python",
   "pygments_lexer": "ipython3",
   "version": "3.13.3"
  }
 },
 "nbformat": 4,
 "nbformat_minor": 5
}
