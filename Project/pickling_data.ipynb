{
 "cells": [
  {
   "cell_type": "code",
   "execution_count": 2,
   "id": "cc2c5080",
   "metadata": {},
   "outputs": [],
   "source": [
    "import pandas as pd\n",
    "import pickle as pk"
   ]
  },
  {
   "cell_type": "markdown",
   "id": "f0e8437b",
   "metadata": {},
   "source": [
    "Files as of 8:30 am 5/31/25"
   ]
  },
  {
   "cell_type": "code",
   "execution_count": 6,
   "id": "8114fe80",
   "metadata": {},
   "outputs": [
    {
     "name": "stderr",
     "output_type": "stream",
     "text": [
      "C:\\Users\\entro\\AppData\\Local\\Temp\\ipykernel_940\\476102277.py:6: DtypeWarning: Columns (2,4,11,14,15) have mixed types. Specify dtype option on import or set low_memory=False.\n",
      "  \"methylation.csv\": pd.read_csv(\"source_data/methylation.csv\")}\n"
     ]
    }
   ],
   "source": [
    "# List of CSV files you want to read\n",
    "files_dict = {\"output_data\":{\n",
    "    \"beta_values.csv\": pd.read_csv(\"output_files/beta_values.csv\")\n",
    "    },\n",
    "    \"source_data\": {\"GEOmetadata.csv\": pd.read_csv(\"source_data/GEOmetadata.csv\"),\n",
    "                    \"methylation.csv\": pd.read_csv(\"source_data/methylation.csv\")}\n",
    "    }\n",
    "\n",
    "\n",
    "# Save the dictionary to a pickle file\n",
    "with open(\"project_data.pkl\", \"wb\") as f:\n",
    "    pk.dump(files_dict, f)"
   ]
  }
 ],
 "metadata": {
  "kernelspec": {
   "display_name": "BDSC",
   "language": "python",
   "name": "python3"
  },
  "language_info": {
   "codemirror_mode": {
    "name": "ipython",
    "version": 3
   },
   "file_extension": ".py",
   "mimetype": "text/x-python",
   "name": "python",
   "nbconvert_exporter": "python",
   "pygments_lexer": "ipython3",
   "version": "3.13.3"
  }
 },
 "nbformat": 4,
 "nbformat_minor": 5
}
