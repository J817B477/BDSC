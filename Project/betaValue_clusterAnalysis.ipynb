{
 "cells": [
  {
   "cell_type": "markdown",
   "id": "1db98864",
   "metadata": {},
   "source": [
    "___\n",
    "# Part1 : setup\n",
    "___"
   ]
  },
  {
   "cell_type": "markdown",
   "id": "48c339ce",
   "metadata": {},
   "source": [
    "Imports libraries"
   ]
  },
  {
   "cell_type": "code",
   "execution_count": null,
   "id": "dddf31e1",
   "metadata": {},
   "outputs": [],
   "source": [
    "import pandas as pd\n",
    "from sklearn.cluster import KMeans\n",
    "from sklearn.decomposition import PCA\n",
    "import matplotlib.pyplot as plt\n",
    "import numpy as np\n"
   ]
  },
  {
   "cell_type": "markdown",
   "id": "8c00da60",
   "metadata": {},
   "source": [
    "Gets data"
   ]
  },
  {
   "cell_type": "code",
   "execution_count": null,
   "id": "1ea1974f",
   "metadata": {},
   "outputs": [],
   "source": [
    "df = pd.read_csv(\"output_files/meta_beta_values.csv\")"
   ]
  },
  {
   "cell_type": "code",
   "execution_count": null,
   "id": "3a6de93b",
   "metadata": {},
   "outputs": [
    {
     "data": {
      "application/vnd.microsoft.datawrangler.viewer.v0+json": {
       "columns": [
        {
         "name": "index",
         "rawType": "object",
         "type": "string"
        },
        {
         "name": "0",
         "rawType": "int64",
         "type": "integer"
        }
       ],
       "ref": "418b6312-86e3-48d2-a73f-f165894d9bcd",
       "rows": [
        [
         "ID_REF",
         "0"
        ],
        [
         "GSM4409578",
         "0"
        ],
        [
         "GSM4409579",
         "0"
        ],
        [
         "GSM4409580",
         "0"
        ],
        [
         "GSM4409581",
         "0"
        ],
        [
         "GSM4409582",
         "0"
        ],
        [
         "GSM4409583",
         "0"
        ],
        [
         "GSM4409584",
         "0"
        ],
        [
         "GSM4409585",
         "0"
        ],
        [
         "GSM4409586",
         "0"
        ],
        [
         "GSM4409587",
         "0"
        ],
        [
         "GSM4409588",
         "0"
        ],
        [
         "GSM4409589",
         "0"
        ],
        [
         "GSM4409590",
         "0"
        ],
        [
         "GSM4409591",
         "0"
        ],
        [
         "GSM4409592",
         "0"
        ],
        [
         "GSM4409593",
         "0"
        ],
        [
         "GSM4409594",
         "0"
        ],
        [
         "GSM4409595",
         "0"
        ],
        [
         "GSM4409596",
         "0"
        ],
        [
         "GSM4409597",
         "0"
        ],
        [
         "GSM4409598",
         "0"
        ],
        [
         "GSM4409599",
         "0"
        ],
        [
         "GSM4409600",
         "0"
        ],
        [
         "GSM4409601",
         "0"
        ],
        [
         "GSM4409602",
         "0"
        ],
        [
         "GSM4409603",
         "0"
        ],
        [
         "GSM4409604",
         "0"
        ],
        [
         "GSM4409605",
         "0"
        ],
        [
         "GSM4409606",
         "0"
        ],
        [
         "GSM4409607",
         "0"
        ],
        [
         "GSM4409608",
         "0"
        ],
        [
         "GSM4409609",
         "0"
        ],
        [
         "GSM4409610",
         "0"
        ],
        [
         "GSM4409611",
         "0"
        ],
        [
         "GSM4409612",
         "0"
        ],
        [
         "GSM4409613",
         "0"
        ],
        [
         "GSM4409615",
         "0"
        ],
        [
         "GSM4409616",
         "0"
        ],
        [
         "GSM4409617",
         "0"
        ],
        [
         "GSM4409618",
         "0"
        ],
        [
         "GSM4409619",
         "0"
        ],
        [
         "GSM4409620",
         "0"
        ],
        [
         "GSM4409621",
         "0"
        ],
        [
         "GSM4409622",
         "0"
        ],
        [
         "GSM4409623",
         "0"
        ],
        [
         "GSM4409624",
         "0"
        ],
        [
         "GSM4409625",
         "0"
        ],
        [
         "GSM4409626",
         "0"
        ],
        [
         "GSM4409627",
         "0"
        ]
       ],
       "shape": {
        "columns": 1,
        "rows": 76
       }
      },
      "text/plain": [
       "ID_REF        0\n",
       "GSM4409578    0\n",
       "GSM4409579    0\n",
       "GSM4409580    0\n",
       "GSM4409581    0\n",
       "             ..\n",
       "GSM4409649    0\n",
       "GSM4409650    0\n",
       "GSM4409651    0\n",
       "GSM4409652    0\n",
       "GSM4409653    0\n",
       "Length: 76, dtype: int64"
      ]
     },
     "execution_count": 4,
     "metadata": {},
     "output_type": "execute_result"
    }
   ],
   "source": [
    "df.isna().sum()"
   ]
  },
  {
   "cell_type": "markdown",
   "id": "bd21f2c5",
   "metadata": {},
   "source": [
    "___\n",
    "## 1. Preprocessing: filters data first for confounding attributes and then filters based on variance\n",
    "___"
   ]
  },
  {
   "cell_type": "code",
   "execution_count": null,
   "id": "eb732374",
   "metadata": {},
   "outputs": [],
   "source": [
    "pca = PCA() #need number of components?\n",
    "\n",
    "# transposition\n",
    "Tbeta_df = df[1:].T\n",
    "pca.fit(Tbeta_df)\n",
    "\n",
    "# loadings \n",
    "loadings = pd.DataFrame(\n",
    "    np.abs(pca.components_.T),\n",
    "    index=beta_values.index,\n",
    "    columns=[] # needs pc's \n",
    ")\n",
    "\n",
    "# sum contributions across top PCs, or just use PC1\n",
    "loadings['combined'] = loadings[[]].sum(axis=1) # needs pcs\n",
    "\n",
    "# get top contributing CpGs\n",
    "top_cpgs = loadings['combined'].sort_values(ascending=False).head(10000)\n",
    "subset_beta = df.loc[top_cpgs.index]"
   ]
  },
  {
   "cell_type": "markdown",
   "id": "6620a3e1",
   "metadata": {},
   "source": [
    "___\n",
    "# Sandboxing\n",
    "___"
   ]
  },
  {
   "cell_type": "markdown",
   "id": "9e7b7360",
   "metadata": {},
   "source": [
    "filtering CpG sites"
   ]
  },
  {
   "cell_type": "code",
   "execution_count": null,
   "id": "22bc84d5",
   "metadata": {},
   "outputs": [
    {
     "data": {
      "text/plain": [
       "0.20603791402868246"
      ]
     },
     "execution_count": 63,
     "metadata": {},
     "output_type": "execute_result"
    }
   ],
   "source": [
    "# df_measures = df.iloc[:,1:len(df.columns)]\n",
    "\n",
    "# means = []\n",
    "\n",
    "# for row in df_measures.itertuples():\n",
    "\n",
    "#     ave = sum(row)/len(row)\n",
    "#     means.append(ave)\n",
    "\n",
    "# min(means)\n",
    "# # df_measures['beta_mean'] = "
   ]
  },
  {
   "cell_type": "code",
   "execution_count": null,
   "id": "6ef73d58",
   "metadata": {},
   "outputs": [
    {
     "ename": "NameError",
     "evalue": "name 'df_measures' is not defined",
     "output_type": "error",
     "traceback": [
      "\u001b[31m---------------------------------------------------------------------------\u001b[39m",
      "\u001b[31mNameError\u001b[39m                                 Traceback (most recent call last)",
      "\u001b[36mCell\u001b[39m\u001b[36m \u001b[39m\u001b[32mIn[54]\u001b[39m\u001b[32m, line 1\u001b[39m\n\u001b[32m----> \u001b[39m\u001b[32m1\u001b[39m row_variances = \u001b[43mdf_measures\u001b[49m.var(axis=\u001b[32m1\u001b[39m)\n",
      "\u001b[31mNameError\u001b[39m: name 'df_measures' is not defined"
     ]
    }
   ],
   "source": [
    "# row_variances = df_measures.var(axis=1)"
   ]
  },
  {
   "cell_type": "code",
   "execution_count": null,
   "id": "e20dffc4",
   "metadata": {},
   "outputs": [
    {
     "data": {
      "text/plain": [
       "1.735985020136081e-05"
      ]
     },
     "execution_count": 67,
     "metadata": {},
     "output_type": "execute_result"
    }
   ],
   "source": [
    "\n",
    "# min(row_variances)"
   ]
  },
  {
   "cell_type": "code",
   "execution_count": null,
   "id": "84788941",
   "metadata": {},
   "outputs": [],
   "source": [
    "# beta_matrix = df.iloc[:,1:len(df.columns)].to_numpy()\n",
    "# km = KMeans(n_clusters = 100, random_state = 0, n_init=\"auto\")\n"
   ]
  },
  {
   "cell_type": "code",
   "execution_count": null,
   "id": "3a32886c",
   "metadata": {},
   "outputs": [
    {
     "data": {
      "text/plain": [
       "np.int64(0)"
      ]
     },
     "execution_count": 8,
     "metadata": {},
     "output_type": "execute_result"
    }
   ],
   "source": [
    "# np.isnan(beta_matrix).sum()"
   ]
  },
  {
   "cell_type": "markdown",
   "id": "b8ec2762",
   "metadata": {},
   "source": [
    "___\n",
    " #### next 2 sandbox cells: these gets a single cluster\n",
    "___"
   ]
  },
  {
   "cell_type": "markdown",
   "id": "8a823dfa",
   "metadata": {},
   "source": [
    "creates df of a single cluster"
   ]
  },
  {
   "cell_type": "code",
   "execution_count": 9,
   "id": "f1a8ae1d",
   "metadata": {},
   "outputs": [
    {
     "data": {
      "application/vnd.microsoft.datawrangler.viewer.v0+json": {
       "columns": [
        {
         "name": "index",
         "rawType": "int64",
         "type": "integer"
        },
        {
         "name": "ID_REF",
         "rawType": "object",
         "type": "string"
        },
        {
         "name": "GSM4409578",
         "rawType": "float64",
         "type": "float"
        },
        {
         "name": "GSM4409579",
         "rawType": "float64",
         "type": "float"
        },
        {
         "name": "GSM4409580",
         "rawType": "float64",
         "type": "float"
        },
        {
         "name": "GSM4409581",
         "rawType": "float64",
         "type": "float"
        },
        {
         "name": "GSM4409582",
         "rawType": "float64",
         "type": "float"
        },
        {
         "name": "GSM4409583",
         "rawType": "float64",
         "type": "float"
        },
        {
         "name": "GSM4409584",
         "rawType": "float64",
         "type": "float"
        },
        {
         "name": "GSM4409585",
         "rawType": "float64",
         "type": "float"
        },
        {
         "name": "GSM4409586",
         "rawType": "float64",
         "type": "float"
        },
        {
         "name": "GSM4409587",
         "rawType": "float64",
         "type": "float"
        },
        {
         "name": "GSM4409588",
         "rawType": "float64",
         "type": "float"
        },
        {
         "name": "GSM4409589",
         "rawType": "float64",
         "type": "float"
        },
        {
         "name": "GSM4409590",
         "rawType": "float64",
         "type": "float"
        },
        {
         "name": "GSM4409591",
         "rawType": "float64",
         "type": "float"
        },
        {
         "name": "GSM4409592",
         "rawType": "float64",
         "type": "float"
        },
        {
         "name": "GSM4409593",
         "rawType": "float64",
         "type": "float"
        },
        {
         "name": "GSM4409594",
         "rawType": "float64",
         "type": "float"
        },
        {
         "name": "GSM4409595",
         "rawType": "float64",
         "type": "float"
        },
        {
         "name": "GSM4409596",
         "rawType": "float64",
         "type": "float"
        },
        {
         "name": "GSM4409597",
         "rawType": "float64",
         "type": "float"
        },
        {
         "name": "GSM4409598",
         "rawType": "float64",
         "type": "float"
        },
        {
         "name": "GSM4409599",
         "rawType": "float64",
         "type": "float"
        },
        {
         "name": "GSM4409600",
         "rawType": "float64",
         "type": "float"
        },
        {
         "name": "GSM4409601",
         "rawType": "float64",
         "type": "float"
        },
        {
         "name": "GSM4409602",
         "rawType": "float64",
         "type": "float"
        },
        {
         "name": "GSM4409603",
         "rawType": "float64",
         "type": "float"
        },
        {
         "name": "GSM4409604",
         "rawType": "float64",
         "type": "float"
        },
        {
         "name": "GSM4409605",
         "rawType": "float64",
         "type": "float"
        },
        {
         "name": "GSM4409606",
         "rawType": "float64",
         "type": "float"
        },
        {
         "name": "GSM4409607",
         "rawType": "float64",
         "type": "float"
        },
        {
         "name": "GSM4409608",
         "rawType": "float64",
         "type": "float"
        },
        {
         "name": "GSM4409609",
         "rawType": "float64",
         "type": "float"
        },
        {
         "name": "GSM4409610",
         "rawType": "float64",
         "type": "float"
        },
        {
         "name": "GSM4409611",
         "rawType": "float64",
         "type": "float"
        },
        {
         "name": "GSM4409612",
         "rawType": "float64",
         "type": "float"
        },
        {
         "name": "GSM4409613",
         "rawType": "float64",
         "type": "float"
        },
        {
         "name": "GSM4409615",
         "rawType": "float64",
         "type": "float"
        },
        {
         "name": "GSM4409616",
         "rawType": "float64",
         "type": "float"
        },
        {
         "name": "GSM4409617",
         "rawType": "float64",
         "type": "float"
        },
        {
         "name": "GSM4409618",
         "rawType": "float64",
         "type": "float"
        },
        {
         "name": "GSM4409619",
         "rawType": "float64",
         "type": "float"
        },
        {
         "name": "GSM4409620",
         "rawType": "float64",
         "type": "float"
        },
        {
         "name": "GSM4409621",
         "rawType": "float64",
         "type": "float"
        },
        {
         "name": "GSM4409622",
         "rawType": "float64",
         "type": "float"
        },
        {
         "name": "GSM4409623",
         "rawType": "float64",
         "type": "float"
        },
        {
         "name": "GSM4409624",
         "rawType": "float64",
         "type": "float"
        },
        {
         "name": "GSM4409625",
         "rawType": "float64",
         "type": "float"
        },
        {
         "name": "GSM4409626",
         "rawType": "float64",
         "type": "float"
        },
        {
         "name": "GSM4409627",
         "rawType": "float64",
         "type": "float"
        },
        {
         "name": "GSM4409628",
         "rawType": "float64",
         "type": "float"
        },
        {
         "name": "GSM4409629",
         "rawType": "float64",
         "type": "float"
        },
        {
         "name": "GSM4409630",
         "rawType": "float64",
         "type": "float"
        },
        {
         "name": "GSM4409631",
         "rawType": "float64",
         "type": "float"
        },
        {
         "name": "GSM4409632",
         "rawType": "float64",
         "type": "float"
        },
        {
         "name": "GSM4409633",
         "rawType": "float64",
         "type": "float"
        },
        {
         "name": "GSM4409634",
         "rawType": "float64",
         "type": "float"
        },
        {
         "name": "GSM4409635",
         "rawType": "float64",
         "type": "float"
        },
        {
         "name": "GSM4409636",
         "rawType": "float64",
         "type": "float"
        },
        {
         "name": "GSM4409637",
         "rawType": "float64",
         "type": "float"
        },
        {
         "name": "GSM4409638",
         "rawType": "float64",
         "type": "float"
        },
        {
         "name": "GSM4409639",
         "rawType": "float64",
         "type": "float"
        },
        {
         "name": "GSM4409640",
         "rawType": "float64",
         "type": "float"
        },
        {
         "name": "GSM4409641",
         "rawType": "float64",
         "type": "float"
        },
        {
         "name": "GSM4409642",
         "rawType": "float64",
         "type": "float"
        },
        {
         "name": "GSM4409643",
         "rawType": "float64",
         "type": "float"
        },
        {
         "name": "GSM4409644",
         "rawType": "float64",
         "type": "float"
        },
        {
         "name": "GSM4409645",
         "rawType": "float64",
         "type": "float"
        },
        {
         "name": "GSM4409646",
         "rawType": "float64",
         "type": "float"
        },
        {
         "name": "GSM4409647",
         "rawType": "float64",
         "type": "float"
        },
        {
         "name": "GSM4409648",
         "rawType": "float64",
         "type": "float"
        },
        {
         "name": "GSM4409649",
         "rawType": "float64",
         "type": "float"
        },
        {
         "name": "GSM4409650",
         "rawType": "float64",
         "type": "float"
        },
        {
         "name": "GSM4409651",
         "rawType": "float64",
         "type": "float"
        },
        {
         "name": "GSM4409652",
         "rawType": "float64",
         "type": "float"
        },
        {
         "name": "GSM4409653",
         "rawType": "float64",
         "type": "float"
        },
        {
         "name": "labels",
         "rawType": "int32",
         "type": "integer"
        }
       ],
       "ref": "ea41d5ca-388e-4969-b3e3-1f9065c0d871",
       "rows": [
        [
         "0",
         "cg00000029",
         "0.651094007636644",
         "0.650451176503783",
         "0.634303067857264",
         "0.62098262381056",
         "0.599297720300415",
         "0.566118595186442",
         "0.675059085523565",
         "0.600194101454152",
         "0.615173695797544",
         "0.68401486947292",
         "0.56017394396704",
         "0.57470569904976",
         "0.619646651030951",
         "0.679913163276732",
         "0.635172820986728",
         "0.629852456632958",
         "0.640025010370683",
         "0.635244024802723",
         "0.582300199601329",
         "0.575718920527619",
         "0.648277071237095",
         "0.588828469766186",
         "0.574584928625274",
         "0.641929595440056",
         "0.651852064662258",
         "0.659263527362786",
         "0.624999997946451",
         "0.583514973472742",
         "0.591203995306787",
         "0.652899399694239",
         "0.653556313165679",
         "0.580863924322879",
         "0.607251897075004",
         "0.66675478512399",
         "0.648393163272411",
         "0.658892874510554",
         "0.605016482481449",
         "0.635805876897675",
         "0.568486356645441",
         "0.654251863777546",
         "0.676180726178944",
         "0.653042925858755",
         "0.624438014966715",
         "0.708534477821939",
         "0.656689966874661",
         "0.662240418681927",
         "0.631902758481916",
         "0.624383468079412",
         "0.56534341197159",
         "0.602183082816452",
         "0.622983674566402",
         "0.635717265098621",
         "0.654020040497853",
         "0.602320740311683",
         "0.658684840159938",
         "0.671437597396931",
         "0.680332214549619",
         "0.612687743977475",
         "0.627701284375156",
         "0.61377299875169",
         "0.658825827007412",
         "0.630879197450719",
         "0.629143568706872",
         "0.668024464791117",
         "0.661724797311999",
         "0.651122659277912",
         "0.615824834867372",
         "0.62734285881683",
         "0.660676221298279",
         "0.654224217186118",
         "0.640788664558086",
         "0.613980433605174",
         "0.643256687781406",
         "0.631592581264414",
         "0.646609023995102",
         "92"
        ],
        [
         "1",
         "cg00000108",
         "0.960433589598101",
         "0.954876823993357",
         "0.957124194656029",
         "0.948438367772717",
         "0.950021835119159",
         "0.949573832915606",
         "0.950393235068734",
         "0.950260038386042",
         "0.947326495626536",
         "0.959113889554928",
         "0.956902439041707",
         "0.959691660884463",
         "0.954624825513615",
         "0.953997414194673",
         "0.957858647066496",
         "0.960547563138878",
         "0.949810032078934",
         "0.957451653518808",
         "0.949057812862518",
         "0.947127221871748",
         "0.948399387594621",
         "0.957955538604055",
         "0.953511403914118",
         "0.957527245880143",
         "0.950682608615913",
         "0.957206918783146",
         "0.954530889947673",
         "0.956993075093813",
         "0.951409053080866",
         "0.944506294960534",
         "0.946600089399112",
         "0.944524996571364",
         "0.954788289091959",
         "0.957706153413668",
         "0.953041786254886",
         "0.947592160853496",
         "0.952335322432985",
         "0.947594312858152",
         "0.950956891663547",
         "0.95590193714977",
         "0.96178095745779",
         "0.958481818293541",
         "0.955955262097307",
         "0.957972652047912",
         "0.959005217705233",
         "0.96139071138042",
         "0.961436733016156",
         "0.957524610748736",
         "0.951833318836328",
         "0.951566056277348",
         "0.958449642179561",
         "0.946273172165407",
         "0.952807905396983",
         "0.955989645814996",
         "0.952536872371322",
         "0.958794489803535",
         "0.956664628544377",
         "0.955726585790984",
         "0.959023717062068",
         "0.957867787130027",
         "0.956717556874234",
         "0.958289153798033",
         "0.956404091353837",
         "0.959873685129373",
         "0.954516234328984",
         "0.953564974045552",
         "0.958739238958531",
         "0.953260813559321",
         "0.952710492270734",
         "0.951572766660936",
         "0.958349940714019",
         "0.955655488967618",
         "0.951421833178422",
         "0.955815737453127",
         "0.950132824258236",
         "65"
        ],
        [
         "2",
         "cg00000109",
         "0.89928365640727",
         "0.835353823279535",
         "0.886725061061939",
         "0.872380565744343",
         "0.872987238744474",
         "0.867568623427171",
         "0.892893149481496",
         "0.867971743472454",
         "0.861312279343191",
         "0.902645829875571",
         "0.883504053957517",
         "0.896928541081744",
         "0.886846071689201",
         "0.887705172795947",
         "0.89001575758755",
         "0.903249246496519",
         "0.860210652842306",
         "0.896986052256213",
         "0.870134360289836",
         "0.873155479814882",
         "0.876679071991267",
         "0.882312580905966",
         "0.885697411159216",
         "0.895379625515916",
         "0.875014027347811",
         "0.893407139629294",
         "0.87734328034676",
         "0.894355320209812",
         "0.877434610627135",
         "0.86380839217202",
         "0.867260813899974",
         "0.84337530874135",
         "0.884539969051538",
         "0.885175590000426",
         "0.880357917159141",
         "0.867845108419603",
         "0.886927580073636",
         "0.86684661707306",
         "0.86685748577848",
         "0.889530336563429",
         "0.912186168281406",
         "0.88427214818672",
         "0.895942357276982",
         "0.895485832589929",
         "0.895424213765956",
         "0.902338268887729",
         "0.908228300804018",
         "0.889355557891993",
         "0.880042806341324",
         "0.883746109593498",
         "0.893471529684008",
         "0.871666385839561",
         "0.892779771611589",
         "0.894760638770917",
         "0.867766438583641",
         "0.899919206264105",
         "0.885777743707021",
         "0.886180715092561",
         "0.897196617654385",
         "0.893197490678066",
         "0.877045811752422",
         "0.894786363566065",
         "0.899552471189613",
         "0.901587506419915",
         "0.87720324942278",
         "0.868460557889942",
         "0.896486909071965",
         "0.880992951161935",
         "0.889052601058041",
         "0.865207200483267",
         "0.893210658163127",
         "0.884844094387438",
         "0.886243117610072",
         "0.885892104381459",
         "0.884257833663999",
         "1"
        ],
        [
         "3",
         "cg00000165",
         "0.162039019348683",
         "0.155513071829648",
         "0.145876299326517",
         "0.172293179270257",
         "0.188915072773518",
         "0.154112182217088",
         "0.15155460297493",
         "0.168012096330393",
         "0.143774336658023",
         "0.169009819955182",
         "0.150164781420026",
         "0.141384686186971",
         "0.203303884969014",
         "0.199838259462645",
         "0.185010940083888",
         "0.163152715474457",
         "0.174647370797968",
         "0.164014957565345",
         "0.173516523354458",
         "0.154090958267317",
         "0.180076014199453",
         "0.171694901147288",
         "0.165579643554211",
         "0.151814721728334",
         "0.188139933356541",
         "0.153620823338264",
         "0.174887632685282",
         "0.142331330644293",
         "0.149414503241184",
         "0.204626649907885",
         "0.175356081450067",
         "0.157186650878474",
         "0.140571710564324",
         "0.180563003605758",
         "0.185030847824357",
         "0.189234914140212",
         "0.156444462584089",
         "0.200112281189439",
         "0.184276374360173",
         "0.167598616051205",
         "0.168175705197386",
         "0.171337333326609",
         "0.14695860881175",
         "0.198035652716942",
         "0.16965402276307",
         "0.169616386547604",
         "0.168719114974563",
         "0.161918852597479",
         "0.159438035191746",
         "0.168841269169776",
         "0.135541560000041",
         "0.143270083744385",
         "0.148252291316202",
         "0.142736895153411",
         "0.174267108211721",
         "0.169424794444043",
         "0.173579254472479",
         "0.171996757674031",
         "0.148340504246016",
         "0.139690376657473",
         "0.186326488312566",
         "0.166214776499552",
         "0.165530892143438",
         "0.146221377104855",
         "0.198206457553077",
         "0.169950371514753",
         "0.151251985043549",
         "0.158670580828161",
         "0.18823060424275",
         "0.191992374032695",
         "0.163816013127309",
         "0.184145519930111",
         "0.153688532342366",
         "0.160870083135039",
         "0.194933142915307",
         "4"
        ],
        [
         "4",
         "cg00000236",
         "0.859468196841663",
         "0.842829803774191",
         "0.84689967518539",
         "0.841603058286997",
         "0.841440949734827",
         "0.830109658707856",
         "0.847721439206096",
         "0.835056482312884",
         "0.833632888659081",
         "0.860562864317593",
         "0.838892691623484",
         "0.836253778938845",
         "0.838011446776857",
         "0.850105453970318",
         "0.861732163708243",
         "0.859412207199595",
         "0.843226492675885",
         "0.856325453766031",
         "0.839117638752579",
         "0.819268788635086",
         "0.838740380309277",
         "0.844253560710043",
         "0.840492234388263",
         "0.852121368773661",
         "0.834101131414953",
         "0.869645084424212",
         "0.838695889497853",
         "0.847337488842864",
         "0.836945489684794",
         "0.835699425037242",
         "0.842933899699443",
         "0.823038874673755",
         "0.849258086001827",
         "0.857430560768468",
         "0.840976770924284",
         "0.833094454578935",
         "0.841883058925297",
         "0.831998593906794",
         "0.813742842892479",
         "0.868886853299585",
         "0.878354327608552",
         "0.849307277972321",
         "0.836965207814942",
         "0.869863172926954",
         "0.85642467905625",
         "0.862106366540482",
         "0.879220284776735",
         "0.868776679815398",
         "0.833807111362411",
         "0.837352175826898",
         "0.846046936310911",
         "0.842551795705805",
         "0.848109526961725",
         "0.850645689137704",
         "0.830609265926231",
         "0.851558051385928",
         "0.854203286225217",
         "0.834189631467996",
         "0.873170676493223",
         "0.858860607751661",
         "0.846541736071671",
         "0.848966182593722",
         "0.852099820781377",
         "0.859957349550505",
         "0.870044558476417",
         "0.859548811689379",
         "0.859449044125776",
         "0.846701720619481",
         "0.846130288880022",
         "0.853704136174084",
         "0.863566640762355",
         "0.834594582445037",
         "0.854180804702049",
         "0.863500365640995",
         "0.847537477563749",
         "51"
        ]
       ],
       "shape": {
        "columns": 77,
        "rows": 5
       }
      },
      "text/html": [
       "<div>\n",
       "<style scoped>\n",
       "    .dataframe tbody tr th:only-of-type {\n",
       "        vertical-align: middle;\n",
       "    }\n",
       "\n",
       "    .dataframe tbody tr th {\n",
       "        vertical-align: top;\n",
       "    }\n",
       "\n",
       "    .dataframe thead th {\n",
       "        text-align: right;\n",
       "    }\n",
       "</style>\n",
       "<table border=\"1\" class=\"dataframe\">\n",
       "  <thead>\n",
       "    <tr style=\"text-align: right;\">\n",
       "      <th></th>\n",
       "      <th>ID_REF</th>\n",
       "      <th>GSM4409578</th>\n",
       "      <th>GSM4409579</th>\n",
       "      <th>GSM4409580</th>\n",
       "      <th>GSM4409581</th>\n",
       "      <th>GSM4409582</th>\n",
       "      <th>GSM4409583</th>\n",
       "      <th>GSM4409584</th>\n",
       "      <th>GSM4409585</th>\n",
       "      <th>GSM4409586</th>\n",
       "      <th>...</th>\n",
       "      <th>GSM4409645</th>\n",
       "      <th>GSM4409646</th>\n",
       "      <th>GSM4409647</th>\n",
       "      <th>GSM4409648</th>\n",
       "      <th>GSM4409649</th>\n",
       "      <th>GSM4409650</th>\n",
       "      <th>GSM4409651</th>\n",
       "      <th>GSM4409652</th>\n",
       "      <th>GSM4409653</th>\n",
       "      <th>labels</th>\n",
       "    </tr>\n",
       "  </thead>\n",
       "  <tbody>\n",
       "    <tr>\n",
       "      <th>0</th>\n",
       "      <td>cg00000029</td>\n",
       "      <td>0.651094</td>\n",
       "      <td>0.650451</td>\n",
       "      <td>0.634303</td>\n",
       "      <td>0.620983</td>\n",
       "      <td>0.599298</td>\n",
       "      <td>0.566119</td>\n",
       "      <td>0.675059</td>\n",
       "      <td>0.600194</td>\n",
       "      <td>0.615174</td>\n",
       "      <td>...</td>\n",
       "      <td>0.615825</td>\n",
       "      <td>0.627343</td>\n",
       "      <td>0.660676</td>\n",
       "      <td>0.654224</td>\n",
       "      <td>0.640789</td>\n",
       "      <td>0.613980</td>\n",
       "      <td>0.643257</td>\n",
       "      <td>0.631593</td>\n",
       "      <td>0.646609</td>\n",
       "      <td>92</td>\n",
       "    </tr>\n",
       "    <tr>\n",
       "      <th>1</th>\n",
       "      <td>cg00000108</td>\n",
       "      <td>0.960434</td>\n",
       "      <td>0.954877</td>\n",
       "      <td>0.957124</td>\n",
       "      <td>0.948438</td>\n",
       "      <td>0.950022</td>\n",
       "      <td>0.949574</td>\n",
       "      <td>0.950393</td>\n",
       "      <td>0.950260</td>\n",
       "      <td>0.947326</td>\n",
       "      <td>...</td>\n",
       "      <td>0.958739</td>\n",
       "      <td>0.953261</td>\n",
       "      <td>0.952710</td>\n",
       "      <td>0.951573</td>\n",
       "      <td>0.958350</td>\n",
       "      <td>0.955655</td>\n",
       "      <td>0.951422</td>\n",
       "      <td>0.955816</td>\n",
       "      <td>0.950133</td>\n",
       "      <td>65</td>\n",
       "    </tr>\n",
       "    <tr>\n",
       "      <th>2</th>\n",
       "      <td>cg00000109</td>\n",
       "      <td>0.899284</td>\n",
       "      <td>0.835354</td>\n",
       "      <td>0.886725</td>\n",
       "      <td>0.872381</td>\n",
       "      <td>0.872987</td>\n",
       "      <td>0.867569</td>\n",
       "      <td>0.892893</td>\n",
       "      <td>0.867972</td>\n",
       "      <td>0.861312</td>\n",
       "      <td>...</td>\n",
       "      <td>0.896487</td>\n",
       "      <td>0.880993</td>\n",
       "      <td>0.889053</td>\n",
       "      <td>0.865207</td>\n",
       "      <td>0.893211</td>\n",
       "      <td>0.884844</td>\n",
       "      <td>0.886243</td>\n",
       "      <td>0.885892</td>\n",
       "      <td>0.884258</td>\n",
       "      <td>1</td>\n",
       "    </tr>\n",
       "    <tr>\n",
       "      <th>3</th>\n",
       "      <td>cg00000165</td>\n",
       "      <td>0.162039</td>\n",
       "      <td>0.155513</td>\n",
       "      <td>0.145876</td>\n",
       "      <td>0.172293</td>\n",
       "      <td>0.188915</td>\n",
       "      <td>0.154112</td>\n",
       "      <td>0.151555</td>\n",
       "      <td>0.168012</td>\n",
       "      <td>0.143774</td>\n",
       "      <td>...</td>\n",
       "      <td>0.151252</td>\n",
       "      <td>0.158671</td>\n",
       "      <td>0.188231</td>\n",
       "      <td>0.191992</td>\n",
       "      <td>0.163816</td>\n",
       "      <td>0.184146</td>\n",
       "      <td>0.153689</td>\n",
       "      <td>0.160870</td>\n",
       "      <td>0.194933</td>\n",
       "      <td>4</td>\n",
       "    </tr>\n",
       "    <tr>\n",
       "      <th>4</th>\n",
       "      <td>cg00000236</td>\n",
       "      <td>0.859468</td>\n",
       "      <td>0.842830</td>\n",
       "      <td>0.846900</td>\n",
       "      <td>0.841603</td>\n",
       "      <td>0.841441</td>\n",
       "      <td>0.830110</td>\n",
       "      <td>0.847721</td>\n",
       "      <td>0.835056</td>\n",
       "      <td>0.833633</td>\n",
       "      <td>...</td>\n",
       "      <td>0.859449</td>\n",
       "      <td>0.846702</td>\n",
       "      <td>0.846130</td>\n",
       "      <td>0.853704</td>\n",
       "      <td>0.863567</td>\n",
       "      <td>0.834595</td>\n",
       "      <td>0.854181</td>\n",
       "      <td>0.863500</td>\n",
       "      <td>0.847537</td>\n",
       "      <td>51</td>\n",
       "    </tr>\n",
       "  </tbody>\n",
       "</table>\n",
       "<p>5 rows × 77 columns</p>\n",
       "</div>"
      ],
      "text/plain": [
       "       ID_REF  GSM4409578  GSM4409579  GSM4409580  GSM4409581  GSM4409582  \\\n",
       "0  cg00000029    0.651094    0.650451    0.634303    0.620983    0.599298   \n",
       "1  cg00000108    0.960434    0.954877    0.957124    0.948438    0.950022   \n",
       "2  cg00000109    0.899284    0.835354    0.886725    0.872381    0.872987   \n",
       "3  cg00000165    0.162039    0.155513    0.145876    0.172293    0.188915   \n",
       "4  cg00000236    0.859468    0.842830    0.846900    0.841603    0.841441   \n",
       "\n",
       "   GSM4409583  GSM4409584  GSM4409585  GSM4409586  ...  GSM4409645  \\\n",
       "0    0.566119    0.675059    0.600194    0.615174  ...    0.615825   \n",
       "1    0.949574    0.950393    0.950260    0.947326  ...    0.958739   \n",
       "2    0.867569    0.892893    0.867972    0.861312  ...    0.896487   \n",
       "3    0.154112    0.151555    0.168012    0.143774  ...    0.151252   \n",
       "4    0.830110    0.847721    0.835056    0.833633  ...    0.859449   \n",
       "\n",
       "   GSM4409646  GSM4409647  GSM4409648  GSM4409649  GSM4409650  GSM4409651  \\\n",
       "0    0.627343    0.660676    0.654224    0.640789    0.613980    0.643257   \n",
       "1    0.953261    0.952710    0.951573    0.958350    0.955655    0.951422   \n",
       "2    0.880993    0.889053    0.865207    0.893211    0.884844    0.886243   \n",
       "3    0.158671    0.188231    0.191992    0.163816    0.184146    0.153689   \n",
       "4    0.846702    0.846130    0.853704    0.863567    0.834595    0.854181   \n",
       "\n",
       "   GSM4409652  GSM4409653  labels  \n",
       "0    0.631593    0.646609      92  \n",
       "1    0.955816    0.950133      65  \n",
       "2    0.885892    0.884258       1  \n",
       "3    0.160870    0.194933       4  \n",
       "4    0.863500    0.847537      51  \n",
       "\n",
       "[5 rows x 77 columns]"
      ]
     },
     "execution_count": 9,
     "metadata": {},
     "output_type": "execute_result"
    }
   ],
   "source": [
    "# run once to get set of labels \n",
    "labels = km.fit_predict(beta_matrix)\n",
    "labels\n",
    "df['labels'] = labels\n",
    "df.head()\n"
   ]
  },
  {
   "cell_type": "code",
   "execution_count": 10,
   "id": "61aa1f73",
   "metadata": {},
   "outputs": [
    {
     "data": {
      "text/plain": [
       "295"
      ]
     },
     "execution_count": 10,
     "metadata": {},
     "output_type": "execute_result"
    }
   ],
   "source": [
    "# run for each cluster id number\n",
    "cluster_df = df[df['labels'] == 3] # if looping; make this general\n",
    "\n",
    "len(cluster_df)"
   ]
  },
  {
   "cell_type": "code",
   "execution_count": null,
   "id": "fd6041d8",
   "metadata": {},
   "outputs": [],
   "source": [
    "# labels = KMeans(n_clusters = 15, random_state = 0, n_init=\"auto\").fit_predict(beta_matrix)\n",
    "\n",
    "# nested_dict = {\n",
    "#     'labels': labels,\n",
    "#     'distortion': distortion\n",
    "#     }\n",
    "\n",
    "# candidates_dict[15] = nested_dict\n",
    "# candidates_dict"
   ]
  },
  {
   "cell_type": "markdown",
   "id": "4886dc72",
   "metadata": {},
   "source": [
    "___\n",
    "# Part 3: CpG modules\n",
    "___"
   ]
  },
  {
   "cell_type": "code",
   "execution_count": 49,
   "id": "e9cfb7ab",
   "metadata": {},
   "outputs": [
    {
     "name": "stdout",
     "output_type": "stream",
     "text": [
      "[ 1  2  3  4  5  6  7  8  9 10]\n",
      "[ 16  32  64 128 256 512]\n",
      "[  1   2   3   4   5   6   7   8   9  10  16  32  64 128 256 512]\n"
     ]
    }
   ],
   "source": [
    "lin = np.arange(1, 11)\n",
    "xp = 2**np.arange(4,10).astype(int)\n",
    "\n",
    "print(lin)\n",
    "print(xp)\n",
    "\n",
    "k_candidates = np.concatenate([lin, xp])\n",
    "print(k_candidates)\n",
    "\n",
    "candidates_dict = {}\n",
    "\n",
    "for k in k_candidates:\n",
    "    model = KMeans(n_clusters = k, random_state = 0, n_init=\"auto\")\n",
    "    labels = model.fit_predict(beta_matrix)\n",
    "    distortion = model.inertia_\n",
    "    \n",
    "    nested_dict = {\n",
    "    'labels': labels,\n",
    "    'distortion': distortion\n",
    "    }\n",
    "\n",
    "    candidates_dict[k] = nested_dict"
   ]
  },
  {
   "cell_type": "code",
   "execution_count": 50,
   "id": "66729b39",
   "metadata": {},
   "outputs": [
    {
     "data": {
      "text/plain": [
       "{np.int64(1): {'labels': array([0, 0, 0, ..., 0, 0, 0], shape=(485512,), dtype=int32),\n",
       "  'distortion': 5377201.921572283},\n",
       " np.int64(2): {'labels': array([1, 1, 1, ..., 0, 0, 0], shape=(485512,), dtype=int32),\n",
       "  'distortion': 511588.59914099344},\n",
       " np.int64(3): {'labels': array([2, 1, 1, ..., 0, 0, 0], shape=(485512,), dtype=int32),\n",
       "  'distortion': 230650.53625823342},\n",
       " np.int64(4): {'labels': array([2, 1, 1, ..., 0, 0, 0], shape=(485512,), dtype=int32),\n",
       "  'distortion': 135524.27331523778},\n",
       " np.int64(5): {'labels': array([3, 1, 1, ..., 0, 0, 0], shape=(485512,), dtype=int32),\n",
       "  'distortion': 92963.46958041575},\n",
       " np.int64(6): {'labels': array([2, 1, 1, ..., 0, 0, 0], shape=(485512,), dtype=int32),\n",
       "  'distortion': 70331.77598189516},\n",
       " np.int64(7): {'labels': array([2, 6, 1, ..., 0, 0, 0], shape=(485512,), dtype=int32),\n",
       "  'distortion': 56348.43439611523},\n",
       " np.int64(8): {'labels': array([3, 6, 1, ..., 0, 0, 0], shape=(485512,), dtype=int32),\n",
       "  'distortion': 47343.1768732036},\n",
       " np.int64(9): {'labels': array([5, 6, 1, ..., 0, 0, 0], shape=(485512,), dtype=int32),\n",
       "  'distortion': 41158.530765974654},\n",
       " np.int64(10): {'labels': array([3, 6, 1, ..., 0, 0, 7], shape=(485512,), dtype=int32),\n",
       "  'distortion': 36517.45095675447},\n",
       " np.int64(16): {'labels': array([15, 12,  1, ...,  0,  0, 10], shape=(485512,), dtype=int32),\n",
       "  'distortion': 24032.282972247544},\n",
       " np.int64(32): {'labels': array([ 3,  6, 11, ..., 19, 21, 12], shape=(485512,), dtype=int32),\n",
       "  'distortion': 15951.060401498464},\n",
       " np.int64(64): {'labels': array([25, 11,  1, ..., 23,  0, 40], shape=(485512,), dtype=int32),\n",
       "  'distortion': 11945.870362397993},\n",
       " np.int64(128): {'labels': array([ 92,  65,   1, ..., 104,  91,  40], shape=(485512,), dtype=int32),\n",
       "  'distortion': 9526.370182826147},\n",
       " np.int64(256): {'labels': array([161, 128,   1, ...,  17,  49,  93], shape=(485512,), dtype=int32),\n",
       "  'distortion': 7966.947140521868},\n",
       " np.int64(512): {'labels': array([112,   5, 336, ...,  21,  18, 297], shape=(485512,), dtype=int32),\n",
       "  'distortion': 6974.506722751813}}"
      ]
     },
     "execution_count": 50,
     "metadata": {},
     "output_type": "execute_result"
    }
   ],
   "source": [
    "candidates_dict"
   ]
  },
  {
   "cell_type": "code",
   "execution_count": 51,
   "id": "49d9e392",
   "metadata": {},
   "outputs": [
    {
     "data": {
      "text/plain": [
       "[5377201.921572283,\n",
       " 511588.59914099344,\n",
       " 230650.53625823342,\n",
       " 135524.27331523778,\n",
       " 92963.46958041575,\n",
       " 70331.77598189516,\n",
       " 56348.43439611523,\n",
       " 47343.1768732036,\n",
       " 41158.530765974654,\n",
       " 36517.45095675447,\n",
       " 24032.282972247544,\n",
       " 15951.060401498464,\n",
       " 11945.870362397993,\n",
       " 9526.370182826147,\n",
       " 7966.947140521868,\n",
       " 6974.506722751813]"
      ]
     },
     "execution_count": 51,
     "metadata": {},
     "output_type": "execute_result"
    }
   ],
   "source": [
    "values = []\n",
    "target_key = \"distortion\"\n",
    "\n",
    "for inner_dict in candidates_dict.values():  # Assuming the top level is a dict of dicts\n",
    "    \n",
    "    if isinstance(inner_dict, dict) and target_key in inner_dict:\n",
    "        values.append(inner_dict[target_key])\n",
    "\n",
    "values"
   ]
  },
  {
   "cell_type": "code",
   "execution_count": 53,
   "id": "19678466",
   "metadata": {},
   "outputs": [
    {
     "data": {
      "image/png": "[encoded data removed]",
      "text/plain": [
       "<Figure size 640x480 with 1 Axes>"
      ]
     },
     "metadata": {},
     "output_type": "display_data"
    }
   ],
   "source": [
    "x = k_candidates\n",
    "y = values\n",
    "plt.scatter(x, y)\n",
    "plt.yscale('log')"
   ]
  }
 ],
 "metadata": {
  "kernelspec": {
   "display_name": "BDSC",
   "language": "python",
   "name": "python3"
  },
  "language_info": {
   "codemirror_mode": {
    "name": "ipython",
    "version": 3
   },
   "file_extension": ".py",
   "mimetype": "text/x-python",
   "name": "python",
   "nbconvert_exporter": "python",
   "pygments_lexer": "ipython3",
   "version": "3.13.3"
  }
 },
 "nbformat": 4,
 "nbformat_minor": 5
}
