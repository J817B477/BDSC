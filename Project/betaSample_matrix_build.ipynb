{
 "cells": [
  {
   "cell_type": "markdown",
   "id": "67afa6d8",
   "metadata": {},
   "source": [
    "imports packages"
   ]
  },
  {
   "cell_type": "markdown",
   "id": "572ea40a",
   "metadata": {},
   "source": [
    "### This notebook builds a matrix/dataframe that treats samples as objects. The goal is to provide a dataset the allows exploration of with respect to the characteristics of the samples. Each sample is an aggregate of other samples (which according to the study's publication is for the purpose of batch correction). In addition to aggregating the beta-values, indicating overall methylation of CpG sites, each sample include an aggregate of these parameters- huntingtondiseasestatus: control/pre-manifest/manifest, averageage: numeric, averagebodymassindex: numeric, dnamage: numeric. In addition, it includes a sentrix.id: X############ attribute that was likely used as the means of aggregation. It indicates a chip ID for the BeadChip used in generating intensity measures.\n",
    "___"
   ]
  },
  {
   "cell_type": "markdown",
   "id": "e153646d",
   "metadata": {},
   "source": [
    "imports packages"
   ]
  },
  {
   "cell_type": "code",
   "execution_count": null,
   "id": "e5b73824",
   "metadata": {},
   "outputs": [],
   "source": [
    "import pandas as pd"
   ]
  },
  {
   "cell_type": "markdown",
   "id": "981637f5",
   "metadata": {},
   "source": [
    "reads in data"
   ]
  },
  {
   "cell_type": "code",
   "execution_count": null,
   "id": "6ce19244",
   "metadata": {},
   "outputs": [],
   "source": [
    "# creates beta-values df that was filtered for chromosomes\n",
    "betaSamples_df = pd.read_csv(\"output_files/betaValues_annotated_chrFiltered.csv\")\n",
    "betaSamples_df = betaSamples_df.iloc[:,1:]\n",
    "betaSamples_df.head()"
   ]
  },
  {
   "cell_type": "code",
   "execution_count": null,
   "id": "5925a5e7",
   "metadata": {},
   "outputs": [],
   "source": [
    "\n",
    "colnames = betaSamples_df.columns\n",
    "substring = \"GSM\"\n",
    "samples_list = [s for s in colnames if substring in s]\n",
    "betaMatrix_df = betaSamples_df[samples_list]\n"
   ]
  },
  {
   "cell_type": "code",
   "execution_count": null,
   "id": "266f5237",
   "metadata": {},
   "outputs": [],
   "source": [
    "\n",
    "#creates sample level annotation df\n",
    "sampleMeta_df = pd.read_csv(\"source_data/GEO_sample_metadata.csv\")"
   ]
  },
  {
   "cell_type": "markdown",
   "id": "70462e10",
   "metadata": {},
   "source": [
    "identifies metadata attributes to be mapped to samples of beta-value dataset"
   ]
  },
  {
   "cell_type": "code",
   "execution_count": null,
   "id": "08b43958",
   "metadata": {},
   "outputs": [],
   "source": [
    "sampleMeta_df.head(2)"
   ]
  },
  {
   "cell_type": "markdown",
   "id": "28e20118",
   "metadata": {},
   "source": [
    "The above cell shows the attributes provided for the samples that were collected from GEO using Bioconductor's GEOquery package (in R). The attributes of interest include: averageage:ch1, dnamage:ch1, huntingtondiseasestatus:ch1, (and sentrix.id:ch1 for good measure).\n",
    "\n",
    "This data will be isolated in the cell below, along with the gsm number which will be used to map the other metadata attributes to the counts samples.\n"
   ]
  },
  {
   "cell_type": "code",
   "execution_count": null,
   "id": "29cca2b7",
   "metadata": {},
   "outputs": [],
   "source": [
    "appending_df = sampleMeta_df[['Unnamed: 0',\n",
    "                    'averageage:ch1',\n",
    "                    'dnamage:ch1', \n",
    "                    'huntingtondiseasestatus:ch1', \n",
    "                    'sentrix.id:ch1'\n",
    "                ]]\n",
    "\n",
    "appending_df.rename(columns={'Unnamed: 0': 'gsm_accession'}, inplace= True)\n",
    "\n",
    "appending_df"
   ]
  },
  {
   "cell_type": "markdown",
   "id": "88570ab9",
   "metadata": {},
   "source": [
    "The code shows what the corresponding publication clarifies as sample aggregation for the sake of batch correction. Each sample is an aggregate of many samples that have the same huntington's disease status, and seemingly the same sentrix.id. Next the names of the attributes in the appending df are trimmed of their contextually superfluous \":CH1\" substring and the appending_df is merged with the transposed beta-samples. The transposition establishes the samples as the data objects this is to allow for associations to be explored across sample groups."
   ]
  },
  {
   "cell_type": "code",
   "execution_count": null,
   "id": "0ab9a8e5",
   "metadata": {},
   "outputs": [],
   "source": [
    "# assigns exiting coloumn names to be updates\n",
    "current_colnames = appending_df.columns\n",
    "\n",
    "# list comprehension: iteratively removes ':ch1' from colnames that have it\n",
    "new_colnames = [item.replace(\":ch1\", \"\") for item in current_colnames]\n",
    "\n",
    "# assigns updated colnames to the appending df\n",
    "appending_df.columns = new_colnames\n",
    "\n",
    "appending_df"
   ]
  },
  {
   "cell_type": "code",
   "execution_count": null,
   "id": "6b062471",
   "metadata": {},
   "outputs": [],
   "source": [
    "len(appending_df['gsm_accession'])"
   ]
  },
  {
   "cell_type": "code",
   "execution_count": null,
   "id": "5fbd2aef",
   "metadata": {},
   "outputs": [],
   "source": [
    "# transposes the beta values\n",
    "TbetaSamples_df = betaSamples_df.T\n"
   ]
  },
  {
   "cell_type": "code",
   "execution_count": null,
   "id": "51f0120f",
   "metadata": {},
   "outputs": [],
   "source": [
    "TbetaSamples_df.shape"
   ]
  },
  {
   "cell_type": "markdown",
   "id": "951c4220",
   "metadata": {},
   "source": [
    "adds the gsm that were index values after the transposition of the data frame as a attribute to TbetaSemples_df.index[1:]"
   ]
  },
  {
   "cell_type": "code",
   "execution_count": null,
   "id": "4f725641",
   "metadata": {},
   "outputs": [],
   "source": [
    "# assigns the index values to a variable\n",
    "gsms = TbetaSamples_df.index\n",
    "\n",
    "# checks length (this exposed that 'GSM4409678')\n",
    "len(gsms)\n",
    "\n",
    "TbetaSamples_df['gsm_accession'] = gsms\n",
    "\n",
    "TbetaSamples_df.reset_index()"
   ]
  },
  {
   "cell_type": "markdown",
   "id": "e6ac8461",
   "metadata": {},
   "source": [
    "#### change colnames"
   ]
  },
  {
   "cell_type": "markdown",
   "id": "43dc2a60",
   "metadata": {},
   "source": [
    "get cpgs"
   ]
  },
  {
   "cell_type": "code",
   "execution_count": null,
   "id": "d6a58ae3",
   "metadata": {},
   "outputs": [],
   "source": [
    "colnames = betaSamples_df['ID_REF'].to_list()\n",
    "colnames.insert(0,'ID_REF')\n",
    "# colnames = colnames.extend(cpgs)\n",
    "\n",
    "print(colnames)"
   ]
  },
  {
   "cell_type": "code",
   "execution_count": null,
   "id": "6c33a68a",
   "metadata": {},
   "outputs": [],
   "source": [
    "\n",
    "\n",
    "TbetaSamples_df.head()"
   ]
  },
  {
   "cell_type": "code",
   "execution_count": null,
   "id": "7b607eab",
   "metadata": {},
   "outputs": [],
   "source": [
    "TbetaSamples_df.to_csv(\"output_files/samples_with_metadata.csv\")"
   ]
  },
  {
   "cell_type": "code",
   "execution_count": null,
   "id": "1b2dc741",
   "metadata": {},
   "outputs": [],
   "source": [
    "TbetaSamples_df = pd.read_csv(\"output_files/samples_with_metadata.csv\")"
   ]
  },
  {
   "cell_type": "code",
   "execution_count": null,
   "id": "9374b4a9",
   "metadata": {},
   "outputs": [],
   "source": [
    "TbetaSamples_df.head()"
   ]
  },
  {
   "cell_type": "code",
   "execution_count": null,
   "id": "aa83be9d",
   "metadata": {},
   "outputs": [],
   "source": [
    "cols = TbetaSamples_df.iloc[0,:].to_list()"
   ]
  },
  {
   "cell_type": "code",
   "execution_count": null,
   "id": "8f103254",
   "metadata": {},
   "outputs": [],
   "source": [
    "TbetaSamples_df.columns = cols"
   ]
  },
  {
   "cell_type": "code",
   "execution_count": null,
   "id": "4b96cc94",
   "metadata": {},
   "outputs": [],
   "source": [
    "TbetaSamples_df.head()\n"
   ]
  },
  {
   "cell_type": "code",
   "execution_count": null,
   "id": "044ce2a2",
   "metadata": {},
   "outputs": [],
   "source": [
    "TbetaSamples_df = TbetaSamples_df.iloc[1:,:]"
   ]
  },
  {
   "cell_type": "code",
   "execution_count": null,
   "id": "f502ca3b",
   "metadata": {},
   "outputs": [],
   "source": [
    "TbetaSamples_df.iloc[0:2,:]"
   ]
  },
  {
   "cell_type": "code",
   "execution_count": null,
   "id": "f666ac4d",
   "metadata": {},
   "outputs": [],
   "source": [
    "TbetaSamples_df.to_csv(\"output_files/samples_with_metadata.csv\")"
   ]
  },
  {
   "cell_type": "code",
   "execution_count": null,
   "id": "b758234b",
   "metadata": {},
   "outputs": [],
   "source": [
    "TbetaSamples_df = TbetaSamples_df.iloc[:,:-1]"
   ]
  },
  {
   "cell_type": "code",
   "execution_count": null,
   "id": "9a1a8659",
   "metadata": {},
   "outputs": [],
   "source": [
    "appending_df = appending_df.rename(columns = {'gsm_accession': 'ID_REF'})"
   ]
  },
  {
   "cell_type": "code",
   "execution_count": null,
   "id": "99ab671e",
   "metadata": {},
   "outputs": [],
   "source": [
    "appending_df.columns"
   ]
  },
  {
   "cell_type": "code",
   "execution_count": null,
   "id": "2b8223cc",
   "metadata": {},
   "outputs": [],
   "source": [
    "final_sampleLevel_df = pd.merge(TbetaSamples_df, appending_df, on = 'ID_REF', how = 'left')"
   ]
  },
  {
   "cell_type": "code",
   "execution_count": null,
   "id": "aa225ded",
   "metadata": {},
   "outputs": [],
   "source": [
    "final_sampleLevel_df.to_csv(\"output_files/samples_with_metadata.csv\")"
   ]
  },
  {
   "cell_type": "code",
   "execution_count": null,
   "id": "a4f58ac2",
   "metadata": {},
   "outputs": [],
   "source": [
    "important_site_df = final_sampleLevel_df[['ID_REF', 'cg02550322', 'cg22982173', 'cg11324953', 'cg08763102', 'averageage', 'dnamage', 'huntingtondiseasestatus']]\n"
   ]
  },
  {
   "cell_type": "code",
   "execution_count": null,
   "id": "ba216984",
   "metadata": {},
   "outputs": [],
   "source": [
    "important_site_df.iloc[0:10,:]"
   ]
  },
  {
   "cell_type": "code",
   "execution_count": null,
   "id": "55807795",
   "metadata": {},
   "outputs": [],
   "source": [
    "important_site_df.to_csv(\"output_files/sites_of_interest.csv\")"
   ]
  }
 ],
 "metadata": {
  "kernelspec": {
   "display_name": "BDSC",
   "language": "python",
   "name": "python3"
  },
  "language_info": {
   "codemirror_mode": {
    "name": "ipython",
    "version": 3
   },
   "file_extension": ".py",
   "mimetype": "text/x-python",
   "name": "python",
   "nbconvert_exporter": "python",
   "pygments_lexer": "ipython3",
   "version": "3.13.3"
  }
 },
 "nbformat": 4,
 "nbformat_minor": 5
}
