{
 "cells": [
  {
   "cell_type": "markdown",
   "id": "e49995b5",
   "metadata": {},
   "source": [
    "### This notebook is for controlling the storage of source and output data files and should be used to maintain all adjustments of `project_data.pkl`. The data is stored in nested dictionary with parent keys \"output_data\" and \"source_data\". Since these terms can be relative for each script or notebook, the \"source_data\" refers to any data set file that is **downloaded** from an external source (regardless of context) and \"output_data\" is any data set file that is **built** within a script or notebook. The goal of this allocation is distinguish externally sourced files so that they are not modified or overwritten."
   ]
  },
  {
   "cell_type": "markdown",
   "id": "3554d38c",
   "metadata": {},
   "source": [
    "imports dependencies"
   ]
  },
  {
   "cell_type": "code",
   "execution_count": 1,
   "id": "cc2c5080",
   "metadata": {},
   "outputs": [],
   "source": [
    "import pandas as pd\n",
    "import pickle as pk"
   ]
  },
  {
   "cell_type": "markdown",
   "id": "f0e8437b",
   "metadata": {},
   "source": [
    "Files as of 8:30 am 5/31/25"
   ]
  },
  {
   "cell_type": "code",
   "execution_count": 5,
   "id": "8114fe80",
   "metadata": {},
   "outputs": [
    {
     "name": "stderr",
     "output_type": "stream",
     "text": [
      "C:\\Users\\entro\\AppData\\Local\\Temp\\ipykernel_2532\\1985388007.py:7: DtypeWarning: Columns (2,4,11,14,15) have mixed types. Specify dtype option on import or set low_memory=False.\n",
      "  \"methylation.csv\": pd.read_csv(\"source_data/methylation.csv\")\n"
     ]
    }
   ],
   "source": [
    "# List of CSV files you want to read\n",
    "files_dict = {\n",
    "    \"output_data\":{\n",
    "        \"beta_values.csv\": pd.read_csv(\"output_files/beta_values.csv\")\n",
    "        },\n",
    "    \"source_data\": {\"GEOmetadata.csv\": pd.read_csv(\"source_data/GEOmetadata.csv\"),\n",
    "                    \"methylation.csv\": pd.read_csv(\"source_data/methylation.csv\")\n",
    "                    }\n",
    "    }\n",
    "\n",
    "\n",
    "# Save the dictionary to a pickle file\n",
    "with open(\"project_data.pkl\", \"wb\") as f:\n",
    "    pk.dump(files_dict, f)"
   ]
  },
  {
   "cell_type": "code",
   "execution_count": 4,
   "id": "5a333801",
   "metadata": {},
   "outputs": [
    {
     "ename": "EOFError",
     "evalue": "Ran out of input",
     "output_type": "error",
     "traceback": [
      "\u001b[31m---------------------------------------------------------------------------\u001b[39m",
      "\u001b[31mEOFError\u001b[39m                                  Traceback (most recent call last)",
      "\u001b[36mCell\u001b[39m\u001b[36m \u001b[39m\u001b[32mIn[4]\u001b[39m\u001b[32m, line 2\u001b[39m\n\u001b[32m      1\u001b[39m \u001b[38;5;28;01mwith\u001b[39;00m \u001b[38;5;28mopen\u001b[39m(\u001b[33m\"\u001b[39m\u001b[33mproject_data.pkl\u001b[39m\u001b[33m\"\u001b[39m, \u001b[33m\"\u001b[39m\u001b[33mrb\u001b[39m\u001b[33m\"\u001b[39m) \u001b[38;5;28;01mas\u001b[39;00m f:\n\u001b[32m----> \u001b[39m\u001b[32m2\u001b[39m     files_dict = \u001b[43mpk\u001b[49m\u001b[43m.\u001b[49m\u001b[43mload\u001b[49m\u001b[43m(\u001b[49m\u001b[43mf\u001b[49m\u001b[43m)\u001b[49m\n",
      "\u001b[31mEOFError\u001b[39m: Ran out of input"
     ]
    }
   ],
   "source": [
    "with open(\"project_data.pkl\", \"rb\") as f:\n",
    "    files_dict = pk.load(f)"
   ]
  }
 ],
 "metadata": {
  "kernelspec": {
   "display_name": "BDSC",
   "language": "python",
   "name": "python3"
  },
  "language_info": {
   "codemirror_mode": {
    "name": "ipython",
    "version": 3
   },
   "file_extension": ".py",
   "mimetype": "text/x-python",
   "name": "python",
   "nbconvert_exporter": "python",
   "pygments_lexer": "ipython3",
   "version": "3.13.3"
  }
 },
 "nbformat": 4,
 "nbformat_minor": 5
}
