{
 "cells": [
  {
   "cell_type": "code",
   "execution_count": null,
   "id": "9ec045ef",
   "metadata": {},
   "outputs": [],
   "source": [
    "import tarfile\n",
    "import gzip\n",
    "import os\n",
    "import shutil\n",
    "import pandas as pd\n"
   ]
  },
  {
   "cell_type": "code",
   "execution_count": null,
   "id": "2a0633b8",
   "metadata": {},
   "outputs": [
    {
     "name": "stderr",
     "output_type": "stream",
     "text": [
      "C:\\Users\\entro\\AppData\\Local\\Temp\\ipykernel_5752\\4017293438.py:3: DeprecationWarning: Python 3.14 will, by default, filter extracted tar archives and reject files or modify their metadata. Use the filter argument to control this behavior.\n",
      "  tar.extractall()\n"
     ]
    },
    {
     "name": "stdout",
     "output_type": "stream",
     "text": [
      "b'BPM\\x01\\x04\\x00\\x00\\x00\\x19BS0010894-A'\n"
     ]
    }
   ],
   "source": [
    "with tarfile.open('GSE146917_RAW.tar', 'r') as tar:\n",
    "    tar_names = tar.getnames()\n",
    "    tar.extractall()\n",
    "\n",
    "    with gzip.open(tar_names[], \"rb\") as f:\n",
    "        header = f.read(20)\n",
    "        print(header)\n",
    "    "
   ]
  },
  {
   "cell_type": "code",
   "execution_count": null,
   "id": "fc05c7be",
   "metadata": {},
   "outputs": [],
   "source": [
    "contents = f.read()"
   ]
  },
  {
   "cell_type": "code",
   "execution_count": null,
   "id": "6fa04eec",
   "metadata": {},
   "outputs": [
    {
     "name": "stderr",
     "output_type": "stream",
     "text": [
      "C:\\Users\\entro\\AppData\\Local\\Temp\\ipykernel_5752\\1659910538.py:8: DeprecationWarning: Python 3.14 will, by default, filter extracted tar archives and reject files or modify their metadata. Use the filter argument to control this behavior.\n",
      "  tar.extract(name)\n"
     ]
    }
   ],
   "source": [
    "# dictionary object that can store file contents in cataloged fashion\n",
    "file_dict = {}\n",
    "tar_names = ''\n",
    "\n",
    "with tarfile.open('GSE146917_RAW.tar', 'r') as tar:\n",
    "    tar_names = tar.getnames()\n",
    "    for name in tar_names:\n",
    "        tar.extract(name)\n",
    "        if name.endswith(\".csv.gz\"):\n",
    "            with gzip.open(name, 'rt') as f_in, open(\"methylation.csv\", 'w') as f_out:\n",
    "                shutil.copyfileobj(f_in, f_out)\n",
    "\n",
    "        # Clean up extracted compressed file\n",
    "        os.remove(name)"
   ]
  },
  {
   "cell_type": "code",
   "execution_count": 30,
   "id": "df7d7f15",
   "metadata": {},
   "outputs": [
    {
     "data": {
      "application/vnd.microsoft.datawrangler.viewer.v0+json": {
       "columns": [
        {
         "name": "index",
         "rawType": "int64",
         "type": "integer"
        },
        {
         "name": "IlmnID",
         "rawType": "object",
         "type": "string"
        },
        {
         "name": "Name",
         "rawType": "object",
         "type": "string"
        },
        {
         "name": "AddressA_ID",
         "rawType": "object",
         "type": "unknown"
        },
        {
         "name": "AlleleA_ProbeSeq",
         "rawType": "object",
         "type": "string"
        },
        {
         "name": "AddressB_ID",
         "rawType": "object",
         "type": "unknown"
        },
        {
         "name": "AlleleB_ProbeSeq",
         "rawType": "object",
         "type": "unknown"
        },
        {
         "name": "Infinium_Design_Type",
         "rawType": "object",
         "type": "string"
        },
        {
         "name": "Next_Base",
         "rawType": "object",
         "type": "unknown"
        },
        {
         "name": "Color_Channel",
         "rawType": "object",
         "type": "unknown"
        },
        {
         "name": "Forward_Sequence",
         "rawType": "object",
         "type": "string"
        },
        {
         "name": "Genome_Build",
         "rawType": "float64",
         "type": "float"
        },
        {
         "name": "CHR",
         "rawType": "object",
         "type": "string"
        },
        {
         "name": "MAPINFO",
         "rawType": "float64",
         "type": "float"
        },
        {
         "name": "SourceSeq",
         "rawType": "object",
         "type": "string"
        },
        {
         "name": "Chromosome_36",
         "rawType": "object",
         "type": "string"
        },
        {
         "name": "Coordinate_36",
         "rawType": "object",
         "type": "string"
        },
        {
         "name": "Strand",
         "rawType": "object",
         "type": "string"
        },
        {
         "name": "Probe_SNPs",
         "rawType": "object",
         "type": "unknown"
        },
        {
         "name": "Probe_SNPs_10",
         "rawType": "object",
         "type": "unknown"
        },
        {
         "name": "Random_Loci",
         "rawType": "object",
         "type": "unknown"
        },
        {
         "name": "Methyl27_Loci",
         "rawType": "object",
         "type": "unknown"
        },
        {
         "name": "UCSC_RefGene_Name",
         "rawType": "object",
         "type": "string"
        },
        {
         "name": "UCSC_RefGene_Accession",
         "rawType": "object",
         "type": "string"
        },
        {
         "name": "UCSC_RefGene_Group",
         "rawType": "object",
         "type": "string"
        },
        {
         "name": "UCSC_CpG_Islands_Name",
         "rawType": "object",
         "type": "unknown"
        },
        {
         "name": "Relation_to_UCSC_CpG_Island",
         "rawType": "object",
         "type": "unknown"
        },
        {
         "name": "Phantom",
         "rawType": "object",
         "type": "unknown"
        },
        {
         "name": "DMR",
         "rawType": "object",
         "type": "unknown"
        },
        {
         "name": "Enhancer",
         "rawType": "object",
         "type": "unknown"
        },
        {
         "name": "HMM_Island",
         "rawType": "object",
         "type": "unknown"
        },
        {
         "name": "Regulatory_Feature_Name",
         "rawType": "object",
         "type": "unknown"
        },
        {
         "name": "Regulatory_Feature_Group",
         "rawType": "object",
         "type": "unknown"
        },
        {
         "name": "DHS",
         "rawType": "object",
         "type": "unknown"
        }
       ],
       "ref": "bf5a86f0-0324-4ccc-8f25-b88cca0a16ff",
       "rows": [
        [
         "0",
         "cg00035864",
         "cg00035864",
         "31729416",
         "AAAACACTAACAATCTTATCCACATAAACCCTTAAATTTATCTCAAATTC",
         null,
         null,
         "II",
         null,
         null,
         "AATCCAAAGATGATGGAGGAGTGCCCGCTCATGATGTGAAGTACCTGCTCAGCTGGAAAC[CG]AATTTGAGATAAATTCAAGGGTCTATGTGGACAAGACTGCTAGTGTCTCTCTCTGGATTG",
         "37.0",
         "Y",
         "8553009.0",
         "AGACACTAGCAGTCTTGTCCACATAGACCCTTGAATTTATCTCAAATTCG",
         "Y",
         "8613009",
         "F",
         null,
         null,
         null,
         null,
         "TTTY18",
         "NR_001550",
         "TSS1500",
         null,
         null,
         null,
         null,
         null,
         null,
         null,
         null,
         null
        ],
        [
         "1",
         "cg00050873",
         "cg00050873",
         "32735311",
         "ACAAAAAAACAACACACAACTATAATAATTTTTAAAATAAATAAACCCCA",
         "31717405.0",
         "ACGAAAAAACAACGCACAACTATAATAATTTTTAAAATAAATAAACCCCG",
         "I",
         "A",
         "Red",
         "TATCTCTGTCTGGCGAGGAGGCAACGCACAACTGTGGTGGTTTTTGGAGTGGGTGGACCC[CG]GCCAAGACGGCCTGGGCTGACCAGAGACGGGAGGCAGAAAAAGTGGGCAGGTGGTTGCAG",
         "37.0",
         "Y",
         "9363356.0",
         "CGGGGTCCACCCACTCCAAAAACCACCACAGTTGTGCGTTGCCTCCTCGC",
         "Y",
         "9973356",
         "R",
         null,
         null,
         null,
         null,
         "TSPY4;FAM197Y2",
         "NM_001164471;NR_001553",
         "Body;TSS1500",
         "chrY:9363680-9363943",
         "N_Shore",
         null,
         null,
         null,
         "Y:9973136-9976273",
         null,
         null,
         null
        ],
        [
         "2",
         "cg00061679",
         "cg00061679",
         "28780415",
         "AAAACATTAAAAAACTAATTCACTACTATTTAATTACTTTATTTTCCATC",
         null,
         null,
         "II",
         null,
         null,
         "TCAACAAATGAGAGACATTGAAGAACTAATTCACTACTATTTGGTTACTTTATTTTCCAT[CG]AAGAAAACCTCTTTTTAAAAACTAACACATAAATAAAATGAACGAAGAACAAACTAAACG",
         "37.0",
         "Y",
         "25314171.0",
         "CGATGGAAAATAAAGTAACCAAATAGTAGTGAATTAGTTCTTCAATGTCT",
         "Y",
         "23723559",
         "R",
         null,
         null,
         null,
         null,
         "DAZ1;DAZ4;DAZ4",
         "NM_004081;NM_020420;NM_001005375",
         "Body;Body;Body",
         null,
         null,
         null,
         null,
         null,
         null,
         null,
         null,
         null
        ],
        [
         "3",
         "cg00063477",
         "cg00063477",
         "16712347",
         "TATTCTTCCACACAAAATACTAAACRTATATTTACAAAAATACTTCCATC",
         null,
         null,
         "II",
         null,
         null,
         "CTCCTGTACTTGTTCATTAAATAATGATTCCTTGGATATACCAAGTCTGGATAGCGGATT[CG]ATGGAAGCATTTTTGTAAATATACGTTCAGTATTTTGTGTGGAAGAACACAATCTAGCTG",
         "37.0",
         "Y",
         "22741795.0",
         "CGATGGAAGCATTTTTGTAAATATACGTTCAGTATTTTGTGTGGAAGAAC",
         "Y",
         "21151183",
         "F",
         "rs9341313",
         "rs13447379",
         null,
         null,
         "EIF1AY",
         "NM_004681",
         "Body",
         "chrY:22737825-22738052",
         "S_Shelf",
         null,
         null,
         null,
         null,
         null,
         null,
         null
        ],
        [
         "4",
         "cg00121626",
         "cg00121626",
         "19779393",
         "AAAACTAATAAAAATAACTTACAAACCAAATACTATACCCTACAACTCTC",
         null,
         null,
         "II",
         null,
         null,
         "AGGTGAATGAAGAGACTAATGGGAGTGGCTTGCAAGCCAGGTACTGTGCCCTACAACTCT[CG]CGCTGCCACAAAAAGCCAATTAACGAAGCAAACTGTTTTATCTTTTCCTCTCCCCAGAAG",
         "37.0",
         "Y",
         "21664296.0",
         "AGACTAATGGGAGTGGCTTGCAAGCCAGGTACTGTGCCCTACAACTCTCG",
         "Y",
         "20123684",
         "R",
         null,
         null,
         null,
         null,
         "BCORL2",
         "NR_002923",
         "Body",
         "chrY:21664481-21665063",
         "N_Shore",
         null,
         null,
         null,
         null,
         null,
         null,
         null
        ]
       ],
       "shape": {
        "columns": 33,
        "rows": 5
       }
      },
      "text/html": [
       "<div>\n",
       "<style scoped>\n",
       "    .dataframe tbody tr th:only-of-type {\n",
       "        vertical-align: middle;\n",
       "    }\n",
       "\n",
       "    .dataframe tbody tr th {\n",
       "        vertical-align: top;\n",
       "    }\n",
       "\n",
       "    .dataframe thead th {\n",
       "        text-align: right;\n",
       "    }\n",
       "</style>\n",
       "<table border=\"1\" class=\"dataframe\">\n",
       "  <thead>\n",
       "    <tr style=\"text-align: right;\">\n",
       "      <th></th>\n",
       "      <th>IlmnID</th>\n",
       "      <th>Name</th>\n",
       "      <th>AddressA_ID</th>\n",
       "      <th>AlleleA_ProbeSeq</th>\n",
       "      <th>AddressB_ID</th>\n",
       "      <th>AlleleB_ProbeSeq</th>\n",
       "      <th>Infinium_Design_Type</th>\n",
       "      <th>Next_Base</th>\n",
       "      <th>Color_Channel</th>\n",
       "      <th>Forward_Sequence</th>\n",
       "      <th>...</th>\n",
       "      <th>UCSC_RefGene_Group</th>\n",
       "      <th>UCSC_CpG_Islands_Name</th>\n",
       "      <th>Relation_to_UCSC_CpG_Island</th>\n",
       "      <th>Phantom</th>\n",
       "      <th>DMR</th>\n",
       "      <th>Enhancer</th>\n",
       "      <th>HMM_Island</th>\n",
       "      <th>Regulatory_Feature_Name</th>\n",
       "      <th>Regulatory_Feature_Group</th>\n",
       "      <th>DHS</th>\n",
       "    </tr>\n",
       "  </thead>\n",
       "  <tbody>\n",
       "    <tr>\n",
       "      <th>0</th>\n",
       "      <td>cg00035864</td>\n",
       "      <td>cg00035864</td>\n",
       "      <td>31729416</td>\n",
       "      <td>AAAACACTAACAATCTTATCCACATAAACCCTTAAATTTATCTCAA...</td>\n",
       "      <td>NaN</td>\n",
       "      <td>NaN</td>\n",
       "      <td>II</td>\n",
       "      <td>NaN</td>\n",
       "      <td>NaN</td>\n",
       "      <td>AATCCAAAGATGATGGAGGAGTGCCCGCTCATGATGTGAAGTACCT...</td>\n",
       "      <td>...</td>\n",
       "      <td>TSS1500</td>\n",
       "      <td>NaN</td>\n",
       "      <td>NaN</td>\n",
       "      <td>NaN</td>\n",
       "      <td>NaN</td>\n",
       "      <td>NaN</td>\n",
       "      <td>NaN</td>\n",
       "      <td>NaN</td>\n",
       "      <td>NaN</td>\n",
       "      <td>NaN</td>\n",
       "    </tr>\n",
       "    <tr>\n",
       "      <th>1</th>\n",
       "      <td>cg00050873</td>\n",
       "      <td>cg00050873</td>\n",
       "      <td>32735311</td>\n",
       "      <td>ACAAAAAAACAACACACAACTATAATAATTTTTAAAATAAATAAAC...</td>\n",
       "      <td>31717405.0</td>\n",
       "      <td>ACGAAAAAACAACGCACAACTATAATAATTTTTAAAATAAATAAAC...</td>\n",
       "      <td>I</td>\n",
       "      <td>A</td>\n",
       "      <td>Red</td>\n",
       "      <td>TATCTCTGTCTGGCGAGGAGGCAACGCACAACTGTGGTGGTTTTTG...</td>\n",
       "      <td>...</td>\n",
       "      <td>Body;TSS1500</td>\n",
       "      <td>chrY:9363680-9363943</td>\n",
       "      <td>N_Shore</td>\n",
       "      <td>NaN</td>\n",
       "      <td>NaN</td>\n",
       "      <td>NaN</td>\n",
       "      <td>Y:9973136-9976273</td>\n",
       "      <td>NaN</td>\n",
       "      <td>NaN</td>\n",
       "      <td>NaN</td>\n",
       "    </tr>\n",
       "    <tr>\n",
       "      <th>2</th>\n",
       "      <td>cg00061679</td>\n",
       "      <td>cg00061679</td>\n",
       "      <td>28780415</td>\n",
       "      <td>AAAACATTAAAAAACTAATTCACTACTATTTAATTACTTTATTTTC...</td>\n",
       "      <td>NaN</td>\n",
       "      <td>NaN</td>\n",
       "      <td>II</td>\n",
       "      <td>NaN</td>\n",
       "      <td>NaN</td>\n",
       "      <td>TCAACAAATGAGAGACATTGAAGAACTAATTCACTACTATTTGGTT...</td>\n",
       "      <td>...</td>\n",
       "      <td>Body;Body;Body</td>\n",
       "      <td>NaN</td>\n",
       "      <td>NaN</td>\n",
       "      <td>NaN</td>\n",
       "      <td>NaN</td>\n",
       "      <td>NaN</td>\n",
       "      <td>NaN</td>\n",
       "      <td>NaN</td>\n",
       "      <td>NaN</td>\n",
       "      <td>NaN</td>\n",
       "    </tr>\n",
       "    <tr>\n",
       "      <th>3</th>\n",
       "      <td>cg00063477</td>\n",
       "      <td>cg00063477</td>\n",
       "      <td>16712347</td>\n",
       "      <td>TATTCTTCCACACAAAATACTAAACRTATATTTACAAAAATACTTC...</td>\n",
       "      <td>NaN</td>\n",
       "      <td>NaN</td>\n",
       "      <td>II</td>\n",
       "      <td>NaN</td>\n",
       "      <td>NaN</td>\n",
       "      <td>CTCCTGTACTTGTTCATTAAATAATGATTCCTTGGATATACCAAGT...</td>\n",
       "      <td>...</td>\n",
       "      <td>Body</td>\n",
       "      <td>chrY:22737825-22738052</td>\n",
       "      <td>S_Shelf</td>\n",
       "      <td>NaN</td>\n",
       "      <td>NaN</td>\n",
       "      <td>NaN</td>\n",
       "      <td>NaN</td>\n",
       "      <td>NaN</td>\n",
       "      <td>NaN</td>\n",
       "      <td>NaN</td>\n",
       "    </tr>\n",
       "    <tr>\n",
       "      <th>4</th>\n",
       "      <td>cg00121626</td>\n",
       "      <td>cg00121626</td>\n",
       "      <td>19779393</td>\n",
       "      <td>AAAACTAATAAAAATAACTTACAAACCAAATACTATACCCTACAAC...</td>\n",
       "      <td>NaN</td>\n",
       "      <td>NaN</td>\n",
       "      <td>II</td>\n",
       "      <td>NaN</td>\n",
       "      <td>NaN</td>\n",
       "      <td>AGGTGAATGAAGAGACTAATGGGAGTGGCTTGCAAGCCAGGTACTG...</td>\n",
       "      <td>...</td>\n",
       "      <td>Body</td>\n",
       "      <td>chrY:21664481-21665063</td>\n",
       "      <td>N_Shore</td>\n",
       "      <td>NaN</td>\n",
       "      <td>NaN</td>\n",
       "      <td>NaN</td>\n",
       "      <td>NaN</td>\n",
       "      <td>NaN</td>\n",
       "      <td>NaN</td>\n",
       "      <td>NaN</td>\n",
       "    </tr>\n",
       "  </tbody>\n",
       "</table>\n",
       "<p>5 rows × 33 columns</p>\n",
       "</div>"
      ],
      "text/plain": [
       "       IlmnID        Name AddressA_ID  \\\n",
       "0  cg00035864  cg00035864    31729416   \n",
       "1  cg00050873  cg00050873    32735311   \n",
       "2  cg00061679  cg00061679    28780415   \n",
       "3  cg00063477  cg00063477    16712347   \n",
       "4  cg00121626  cg00121626    19779393   \n",
       "\n",
       "                                    AlleleA_ProbeSeq AddressB_ID  \\\n",
       "0  AAAACACTAACAATCTTATCCACATAAACCCTTAAATTTATCTCAA...         NaN   \n",
       "1  ACAAAAAAACAACACACAACTATAATAATTTTTAAAATAAATAAAC...  31717405.0   \n",
       "2  AAAACATTAAAAAACTAATTCACTACTATTTAATTACTTTATTTTC...         NaN   \n",
       "3  TATTCTTCCACACAAAATACTAAACRTATATTTACAAAAATACTTC...         NaN   \n",
       "4  AAAACTAATAAAAATAACTTACAAACCAAATACTATACCCTACAAC...         NaN   \n",
       "\n",
       "                                    AlleleB_ProbeSeq Infinium_Design_Type  \\\n",
       "0                                                NaN                   II   \n",
       "1  ACGAAAAAACAACGCACAACTATAATAATTTTTAAAATAAATAAAC...                    I   \n",
       "2                                                NaN                   II   \n",
       "3                                                NaN                   II   \n",
       "4                                                NaN                   II   \n",
       "\n",
       "  Next_Base Color_Channel                                   Forward_Sequence  \\\n",
       "0       NaN           NaN  AATCCAAAGATGATGGAGGAGTGCCCGCTCATGATGTGAAGTACCT...   \n",
       "1         A           Red  TATCTCTGTCTGGCGAGGAGGCAACGCACAACTGTGGTGGTTTTTG...   \n",
       "2       NaN           NaN  TCAACAAATGAGAGACATTGAAGAACTAATTCACTACTATTTGGTT...   \n",
       "3       NaN           NaN  CTCCTGTACTTGTTCATTAAATAATGATTCCTTGGATATACCAAGT...   \n",
       "4       NaN           NaN  AGGTGAATGAAGAGACTAATGGGAGTGGCTTGCAAGCCAGGTACTG...   \n",
       "\n",
       "   ...  UCSC_RefGene_Group   UCSC_CpG_Islands_Name  \\\n",
       "0  ...             TSS1500                     NaN   \n",
       "1  ...        Body;TSS1500    chrY:9363680-9363943   \n",
       "2  ...      Body;Body;Body                     NaN   \n",
       "3  ...                Body  chrY:22737825-22738052   \n",
       "4  ...                Body  chrY:21664481-21665063   \n",
       "\n",
       "   Relation_to_UCSC_CpG_Island Phantom  DMR Enhancer         HMM_Island  \\\n",
       "0                          NaN     NaN  NaN      NaN                NaN   \n",
       "1                      N_Shore     NaN  NaN      NaN  Y:9973136-9976273   \n",
       "2                          NaN     NaN  NaN      NaN                NaN   \n",
       "3                      S_Shelf     NaN  NaN      NaN                NaN   \n",
       "4                      N_Shore     NaN  NaN      NaN                NaN   \n",
       "\n",
       "  Regulatory_Feature_Name Regulatory_Feature_Group  DHS  \n",
       "0                     NaN                      NaN  NaN  \n",
       "1                     NaN                      NaN  NaN  \n",
       "2                     NaN                      NaN  NaN  \n",
       "3                     NaN                      NaN  NaN  \n",
       "4                     NaN                      NaN  NaN  \n",
       "\n",
       "[5 rows x 33 columns]"
      ]
     },
     "execution_count": 30,
     "metadata": {},
     "output_type": "execute_result"
    }
   ],
   "source": [
    "df.head()"
   ]
  },
  {
   "cell_type": "code",
   "execution_count": 29,
   "id": "9d79ed23",
   "metadata": {},
   "outputs": [
    {
     "name": "stderr",
     "output_type": "stream",
     "text": [
      "C:\\Users\\entro\\AppData\\Local\\Temp\\ipykernel_5752\\634419611.py:1: DtypeWarning: Columns (2,4,11,14,15) have mixed types. Specify dtype option on import or set low_memory=False.\n",
      "  df = pd.read_csv('methylation.csv')\n"
     ]
    }
   ],
   "source": [
    "df = pd.read_csv('methylation.csv')"
   ]
  }
 ],
 "metadata": {
  "kernelspec": {
   "display_name": "BDSC",
   "language": "python",
   "name": "python3"
  },
  "language_info": {
   "codemirror_mode": {
    "name": "ipython",
    "version": 3
   },
   "file_extension": ".py",
   "mimetype": "text/x-python",
   "name": "python",
   "nbconvert_exporter": "python",
   "pygments_lexer": "ipython3",
   "version": "3.13.3"
  }
 },
 "nbformat": 4,
 "nbformat_minor": 5
}
