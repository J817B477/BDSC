{
 "cells": [
  {
   "cell_type": "code",
   "execution_count": 9,
   "id": "6a3d56d1",
   "metadata": {},
   "outputs": [],
   "source": [
    "import pandas as pd\n",
    "import seaborn as sns\n",
    "import matplotlib.pyplot as plt\n",
    "import numpy as np"
   ]
  },
  {
   "cell_type": "code",
   "execution_count": 10,
   "id": "3a1492db",
   "metadata": {},
   "outputs": [],
   "source": [
    "hdStatus_df = pd.read_csv(\"output_files/sites_of_interest.csv\")"
   ]
  },
  {
   "cell_type": "code",
   "execution_count": 11,
   "id": "3635c0db",
   "metadata": {},
   "outputs": [],
   "source": [
    "hdStatus_df = hdStatus_df.iloc[0:76,1:]"
   ]
  },
  {
   "cell_type": "code",
   "execution_count": 14,
   "id": "953de542",
   "metadata": {},
   "outputs": [
    {
     "data": {
      "application/vnd.microsoft.datawrangler.viewer.v0+json": {
       "columns": [
        {
         "name": "index",
         "rawType": "int64",
         "type": "integer"
        },
        {
         "name": "ID_REF",
         "rawType": "object",
         "type": "string"
        },
        {
         "name": "cg02550322",
         "rawType": "float64",
         "type": "float"
        },
        {
         "name": "cg22982173",
         "rawType": "float64",
         "type": "float"
        },
        {
         "name": "cg11324953",
         "rawType": "float64",
         "type": "float"
        },
        {
         "name": "cg08763102",
         "rawType": "float64",
         "type": "float"
        },
        {
         "name": "averageage",
         "rawType": "float64",
         "type": "float"
        },
        {
         "name": "dnamage",
         "rawType": "float64",
         "type": "float"
        },
        {
         "name": "huntingtondiseasestatus",
         "rawType": "object",
         "type": "string"
        }
       ],
       "ref": "9668ecf2-6752-431e-b03b-0e652f225323",
       "rows": [
        [
         "0",
         "GSM4409578",
         "0.019307387",
         "0.023109182",
         "0.616156339",
         "0.631208966",
         "54.07583333",
         "47.67385489",
         "control"
        ],
        [
         "1",
         "GSM4409579",
         "0.021862423",
         "0.025943064",
         "0.596340936",
         "0.616470578",
         "50.71583333",
         "44.96472767",
         "control"
        ],
        [
         "2",
         "GSM4409580",
         "0.018585577",
         "0.038217765",
         "0.591987993",
         "0.652301094",
         "55.645",
         "52.11699664",
         "manifest"
        ],
        [
         "3",
         "GSM4409581",
         "0.022221319",
         "0.038928709",
         "0.641263468",
         "0.657265736",
         "46.8175",
         "43.80961997",
         "manifest"
        ],
        [
         "4",
         "GSM4409582",
         "0.021609632",
         "0.036783249",
         "0.60285134",
         "0.611501014",
         "54.56166667",
         "53.60834422",
         "manifest"
        ],
        [
         "5",
         "GSM4409583",
         "0.023279562",
         "0.036874093",
         "0.601919902",
         "0.621855873",
         "54.55666667",
         "51.65659373",
         "manifest"
        ],
        [
         "6",
         "GSM4409584",
         "0.022154174",
         "0.03449439",
         "0.655090314",
         "0.617734573",
         "33.74916667",
         "31.54387355",
         "pre-manifest"
        ],
        [
         "7",
         "GSM4409585",
         "0.022167842",
         "0.032911387",
         "0.580032334",
         "0.640932901",
         "41.785",
         "37.39326036",
         "pre-manifest"
        ],
        [
         "8",
         "GSM4409586",
         "0.023580032",
         "0.029846627",
         "0.607555292",
         "0.629309351",
         "41.3475",
         "39.99335254",
         "pre-manifest"
        ],
        [
         "9",
         "GSM4409587",
         "0.019197274",
         "0.031001584",
         "0.619604573",
         "0.621316099",
         "58.43583333",
         "56.00945648",
         "manifest"
        ],
        [
         "10",
         "GSM4409588",
         "0.019085546",
         "0.026302254",
         "0.566129711",
         "0.616332645",
         "50.23583333",
         "48.02830124",
         "manifest"
        ],
        [
         "11",
         "GSM4409589",
         "0.018613649",
         "0.029424004",
         "0.565029299",
         "0.636067685",
         "51.72416667",
         "49.10348105",
         "manifest"
        ],
        [
         "12",
         "GSM4409590",
         "0.022530483",
         "0.034780446",
         "0.577073317",
         "0.626739014",
         "57.4175",
         "52.18904171",
         "manifest"
        ],
        [
         "13",
         "GSM4409591",
         "0.024647854",
         "0.042217641",
         "0.636994022",
         "0.636221343",
         "47.89666667",
         "45.46833398",
         "manifest"
        ],
        [
         "14",
         "GSM4409592",
         "0.021569686",
         "0.035645921",
         "0.639121732",
         "0.629263835",
         "59.00666667",
         "51.56789688",
         "manifest"
        ],
        [
         "15",
         "GSM4409593",
         "0.018429124",
         "0.031246805",
         "0.613318015",
         "0.664380914",
         "52.71583333",
         "48.05262697",
         "manifest"
        ],
        [
         "16",
         "GSM4409594",
         "0.020583826",
         "0.032967163",
         "0.641569065",
         "0.63969459",
         "46.95833333",
         "45.97750625",
         "manifest"
        ],
        [
         "17",
         "GSM4409595",
         "0.018568552",
         "0.02846842",
         "0.592215171",
         "0.593693842",
         "53.64666667",
         "54.27163869",
         "manifest"
        ],
        [
         "18",
         "GSM4409596",
         "0.021475958",
         "0.034941542",
         "0.546904391",
         "0.638179786",
         "54.63916667",
         "52.20588434",
         "manifest"
        ],
        [
         "19",
         "GSM4409597",
         "0.02318654",
         "0.032862207",
         "0.557722636",
         "0.636916104",
         "50.93083333",
         "46.60616992",
         "manifest"
        ],
        [
         "20",
         "GSM4409598",
         "0.024092533",
         "0.03773931",
         "0.649813256",
         "0.632215785",
         "49.61083333",
         "46.01822488",
         "manifest"
        ],
        [
         "21",
         "GSM4409599",
         "0.01868909",
         "0.027389229",
         "0.559533257",
         "0.629450788",
         "52.425",
         "49.00620612",
         "manifest"
        ],
        [
         "22",
         "GSM4409600",
         "0.021541528",
         "0.034579105",
         "0.576119251",
         "0.656646993",
         "58.63833333",
         "55.9325277",
         "manifest"
        ],
        [
         "23",
         "GSM4409601",
         "0.018748384",
         "0.027113488",
         "0.582511114",
         "0.606100833",
         "58.39666667",
         "52.30875035",
         "control"
        ],
        [
         "24",
         "GSM4409602",
         "0.018393007",
         "0.030501707",
         "0.611553462",
         "0.60569318",
         "54.14666667",
         "50.79406465",
         "control"
        ],
        [
         "25",
         "GSM4409603",
         "0.017305707",
         "0.025388138",
         "0.621256301",
         "0.604035799",
         "55.20166667",
         "50.16409191",
         "control"
        ],
        [
         "26",
         "GSM4409604",
         "0.019546841",
         "0.025685102",
         "0.559120176",
         "0.634952681",
         "58.90333333",
         "52.67751229",
         "control"
        ],
        [
         "27",
         "GSM4409605",
         "0.018993292",
         "0.026690634",
         "0.557850324",
         "0.599663526",
         "53.64666667",
         "51.06954129",
         "control"
        ],
        [
         "28",
         "GSM4409606",
         "0.021688197",
         "0.02679182",
         "0.578445144",
         "0.597829109",
         "53.97916667",
         "50.66060078",
         "control"
        ],
        [
         "29",
         "GSM4409607",
         "0.024260943",
         "0.035224396",
         "0.6323672",
         "0.646728273",
         "40.52916667",
         "38.99170865",
         "pre-manifest"
        ],
        [
         "30",
         "GSM4409608",
         "0.020322174",
         "0.025823394",
         "0.586139613",
         "0.615703223",
         "58.46909091",
         "53.78164635",
         "control"
        ],
        [
         "31",
         "GSM4409609",
         "0.024367454",
         "0.025067725",
         "0.587369745",
         "0.616506475",
         "57.8325",
         "54.29378909",
         "control"
        ],
        [
         "32",
         "GSM4409610",
         "0.019248967",
         "0.030239835",
         "0.611276284",
         "0.627747318",
         "48.59833333",
         "45.66706903",
         "manifest"
        ],
        [
         "33",
         "GSM4409611",
         "0.019392134",
         "0.030053594",
         "0.627357681",
         "0.642309696",
         "49.63083333",
         "44.9473509",
         "pre-manifest"
        ],
        [
         "34",
         "GSM4409612",
         "0.022585469",
         "0.034973236",
         "0.613761075",
         "0.649298148",
         "45.59666667",
         "39.92713875",
         "pre-manifest"
        ],
        [
         "35",
         "GSM4409613",
         "0.021775346",
         "0.032624785",
         "0.6381489",
         "0.646066501",
         "42.08333333",
         "37.01887573",
         "pre-manifest"
        ],
        [
         "36",
         "GSM4409614",
         "0.021257618",
         "0.030288521",
         "0.60392524",
         "0.631576011",
         "38.79833333",
         "38.71659675",
         "pre-manifest"
        ],
        [
         "37",
         "GSM4409615",
         "0.020780027",
         "0.029492814",
         "0.583385044",
         "0.603150488",
         "39.42416667",
         "38.97044711",
         "pre-manifest"
        ],
        [
         "38",
         "GSM4409616",
         "0.025168787",
         "0.035453092",
         "0.60374107",
         "0.615524688",
         "41.34833333",
         "39.90900883",
         "pre-manifest"
        ],
        [
         "39",
         "GSM4409617",
         "0.021592577",
         "0.033172899",
         "0.588604144",
         "0.653090504",
         "44.77666667",
         "42.8398849",
         "pre-manifest"
        ],
        [
         "40",
         "GSM4409618",
         "0.020803197",
         "0.032079969",
         "0.645182813",
         "0.643746903",
         "53.55583333",
         "52.03664692",
         "manifest"
        ],
        [
         "41",
         "GSM4409619",
         "0.018196143",
         "0.025658649",
         "0.633634732",
         "0.620610516",
         "47.97571429",
         "43.58997816",
         "control"
        ],
        [
         "42",
         "GSM4409620",
         "0.019482363",
         "0.0263682",
         "0.592047143",
         "0.618705591",
         "42.52083333",
         "39.24332715",
         "control"
        ],
        [
         "43",
         "GSM4409621",
         "0.020082851",
         "0.030029665",
         "0.566171285",
         "0.632398069",
         "58.3675",
         "55.09846485",
         "manifest"
        ],
        [
         "44",
         "GSM4409622",
         "0.018483873",
         "0.027557963",
         "0.672648727",
         "0.625857536",
         "46.48166667",
         "39.04114391",
         "control"
        ],
        [
         "45",
         "GSM4409623",
         "0.019426104",
         "0.027464008",
         "0.631643773",
         "0.613503829",
         "49.765",
         "44.53064586",
         "control"
        ],
        [
         "46",
         "GSM4409624",
         "0.018631503",
         "0.026977269",
         "0.626507224",
         "0.630914604",
         "51.0975",
         "48.97165661",
         "control"
        ],
        [
         "47",
         "GSM4409625",
         "0.01864212",
         "0.030998134",
         "0.670006507",
         "0.611116215",
         "42.37625",
         "39.4917428",
         "manifest"
        ],
        [
         "48",
         "GSM4409626",
         "0.019453236",
         "0.025873103",
         "0.650526808",
         "0.61588026",
         "45.91",
         "41.96775079",
         "control"
        ],
        [
         "49",
         "GSM4409627",
         "0.021172766",
         "0.029658629",
         "0.547749374",
         "0.626105414",
         "44.515",
         "42.99845156",
         "manifest"
        ]
       ],
       "shape": {
        "columns": 8,
        "rows": 76
       }
      },
      "text/html": [
       "<div>\n",
       "<style scoped>\n",
       "    .dataframe tbody tr th:only-of-type {\n",
       "        vertical-align: middle;\n",
       "    }\n",
       "\n",
       "    .dataframe tbody tr th {\n",
       "        vertical-align: top;\n",
       "    }\n",
       "\n",
       "    .dataframe thead th {\n",
       "        text-align: right;\n",
       "    }\n",
       "</style>\n",
       "<table border=\"1\" class=\"dataframe\">\n",
       "  <thead>\n",
       "    <tr style=\"text-align: right;\">\n",
       "      <th></th>\n",
       "      <th>ID_REF</th>\n",
       "      <th>cg02550322</th>\n",
       "      <th>cg22982173</th>\n",
       "      <th>cg11324953</th>\n",
       "      <th>cg08763102</th>\n",
       "      <th>averageage</th>\n",
       "      <th>dnamage</th>\n",
       "      <th>huntingtondiseasestatus</th>\n",
       "    </tr>\n",
       "  </thead>\n",
       "  <tbody>\n",
       "    <tr>\n",
       "      <th>0</th>\n",
       "      <td>GSM4409578</td>\n",
       "      <td>0.019307</td>\n",
       "      <td>0.023109</td>\n",
       "      <td>0.616156</td>\n",
       "      <td>0.631209</td>\n",
       "      <td>54.075833</td>\n",
       "      <td>47.673855</td>\n",
       "      <td>control</td>\n",
       "    </tr>\n",
       "    <tr>\n",
       "      <th>1</th>\n",
       "      <td>GSM4409579</td>\n",
       "      <td>0.021862</td>\n",
       "      <td>0.025943</td>\n",
       "      <td>0.596341</td>\n",
       "      <td>0.616471</td>\n",
       "      <td>50.715833</td>\n",
       "      <td>44.964728</td>\n",
       "      <td>control</td>\n",
       "    </tr>\n",
       "    <tr>\n",
       "      <th>2</th>\n",
       "      <td>GSM4409580</td>\n",
       "      <td>0.018586</td>\n",
       "      <td>0.038218</td>\n",
       "      <td>0.591988</td>\n",
       "      <td>0.652301</td>\n",
       "      <td>55.645000</td>\n",
       "      <td>52.116997</td>\n",
       "      <td>manifest</td>\n",
       "    </tr>\n",
       "    <tr>\n",
       "      <th>3</th>\n",
       "      <td>GSM4409581</td>\n",
       "      <td>0.022221</td>\n",
       "      <td>0.038929</td>\n",
       "      <td>0.641263</td>\n",
       "      <td>0.657266</td>\n",
       "      <td>46.817500</td>\n",
       "      <td>43.809620</td>\n",
       "      <td>manifest</td>\n",
       "    </tr>\n",
       "    <tr>\n",
       "      <th>4</th>\n",
       "      <td>GSM4409582</td>\n",
       "      <td>0.021610</td>\n",
       "      <td>0.036783</td>\n",
       "      <td>0.602851</td>\n",
       "      <td>0.611501</td>\n",
       "      <td>54.561667</td>\n",
       "      <td>53.608344</td>\n",
       "      <td>manifest</td>\n",
       "    </tr>\n",
       "    <tr>\n",
       "      <th>...</th>\n",
       "      <td>...</td>\n",
       "      <td>...</td>\n",
       "      <td>...</td>\n",
       "      <td>...</td>\n",
       "      <td>...</td>\n",
       "      <td>...</td>\n",
       "      <td>...</td>\n",
       "      <td>...</td>\n",
       "    </tr>\n",
       "    <tr>\n",
       "      <th>71</th>\n",
       "      <td>GSM4409649</td>\n",
       "      <td>0.021178</td>\n",
       "      <td>0.032464</td>\n",
       "      <td>0.630256</td>\n",
       "      <td>0.605891</td>\n",
       "      <td>38.075833</td>\n",
       "      <td>36.138896</td>\n",
       "      <td>pre-manifest</td>\n",
       "    </tr>\n",
       "    <tr>\n",
       "      <th>72</th>\n",
       "      <td>GSM4409650</td>\n",
       "      <td>0.018904</td>\n",
       "      <td>0.031688</td>\n",
       "      <td>0.564487</td>\n",
       "      <td>0.628083</td>\n",
       "      <td>52.437500</td>\n",
       "      <td>50.991363</td>\n",
       "      <td>manifest</td>\n",
       "    </tr>\n",
       "    <tr>\n",
       "      <th>73</th>\n",
       "      <td>GSM4409651</td>\n",
       "      <td>0.021556</td>\n",
       "      <td>0.031428</td>\n",
       "      <td>0.597543</td>\n",
       "      <td>0.630010</td>\n",
       "      <td>47.965833</td>\n",
       "      <td>46.185408</td>\n",
       "      <td>manifest</td>\n",
       "    </tr>\n",
       "    <tr>\n",
       "      <th>74</th>\n",
       "      <td>GSM4409652</td>\n",
       "      <td>0.021070</td>\n",
       "      <td>0.028569</td>\n",
       "      <td>0.661184</td>\n",
       "      <td>0.584692</td>\n",
       "      <td>54.258333</td>\n",
       "      <td>51.727399</td>\n",
       "      <td>manifest</td>\n",
       "    </tr>\n",
       "    <tr>\n",
       "      <th>75</th>\n",
       "      <td>GSM4409653</td>\n",
       "      <td>0.021115</td>\n",
       "      <td>0.027425</td>\n",
       "      <td>0.575070</td>\n",
       "      <td>0.604382</td>\n",
       "      <td>53.020000</td>\n",
       "      <td>49.948923</td>\n",
       "      <td>control</td>\n",
       "    </tr>\n",
       "  </tbody>\n",
       "</table>\n",
       "<p>76 rows × 8 columns</p>\n",
       "</div>"
      ],
      "text/plain": [
       "        ID_REF  cg02550322  cg22982173  cg11324953  cg08763102  averageage  \\\n",
       "0   GSM4409578    0.019307    0.023109    0.616156    0.631209   54.075833   \n",
       "1   GSM4409579    0.021862    0.025943    0.596341    0.616471   50.715833   \n",
       "2   GSM4409580    0.018586    0.038218    0.591988    0.652301   55.645000   \n",
       "3   GSM4409581    0.022221    0.038929    0.641263    0.657266   46.817500   \n",
       "4   GSM4409582    0.021610    0.036783    0.602851    0.611501   54.561667   \n",
       "..         ...         ...         ...         ...         ...         ...   \n",
       "71  GSM4409649    0.021178    0.032464    0.630256    0.605891   38.075833   \n",
       "72  GSM4409650    0.018904    0.031688    0.564487    0.628083   52.437500   \n",
       "73  GSM4409651    0.021556    0.031428    0.597543    0.630010   47.965833   \n",
       "74  GSM4409652    0.021070    0.028569    0.661184    0.584692   54.258333   \n",
       "75  GSM4409653    0.021115    0.027425    0.575070    0.604382   53.020000   \n",
       "\n",
       "      dnamage huntingtondiseasestatus  \n",
       "0   47.673855                 control  \n",
       "1   44.964728                 control  \n",
       "2   52.116997                manifest  \n",
       "3   43.809620                manifest  \n",
       "4   53.608344                manifest  \n",
       "..        ...                     ...  \n",
       "71  36.138896            pre-manifest  \n",
       "72  50.991363                manifest  \n",
       "73  46.185408                manifest  \n",
       "74  51.727399                manifest  \n",
       "75  49.948923                 control  \n",
       "\n",
       "[76 rows x 8 columns]"
      ]
     },
     "execution_count": 14,
     "metadata": {},
     "output_type": "execute_result"
    }
   ],
   "source": [
    "hdStatus_df"
   ]
  },
  {
   "cell_type": "code",
   "execution_count": 12,
   "id": "9dd31457",
   "metadata": {},
   "outputs": [
    {
     "data": {
      "text/plain": [
       "dtype('float64')"
      ]
     },
     "execution_count": 12,
     "metadata": {},
     "output_type": "execute_result"
    }
   ],
   "source": [
    "hdStatus_df['cg02550322'].dtype"
   ]
  },
  {
   "cell_type": "code",
   "execution_count": 15,
   "id": "dd5e7e82",
   "metadata": {},
   "outputs": [
    {
     "data": {
      "text/plain": [
       "<Axes: xlabel='huntingtondiseasestatus', ylabel='cg22982173'>"
      ]
     },
     "execution_count": 15,
     "metadata": {},
     "output_type": "execute_result"
    },
    {
     "data": {
      "image/png": "[encoded data removed]",
      "text/plain": [
       "<Figure size 640x480 with 1 Axes>"
      ]
     },
     "metadata": {},
     "output_type": "display_data"
    }
   ],
   "source": [
    "sns.boxplot(x = hdStatus_df['huntingtondiseasestatus'], y = hdStatus_df['cg22982173'])"
   ]
  },
  {
   "cell_type": "code",
   "execution_count": 16,
   "id": "08b68af4",
   "metadata": {},
   "outputs": [
    {
     "data": {
      "text/plain": [
       "<Axes: xlabel='huntingtondiseasestatus', ylabel='cg08763102'>"
      ]
     },
     "execution_count": 16,
     "metadata": {},
     "output_type": "execute_result"
    },
    {
     "data": {
      "image/png": "[encoded data removed]",
      "text/plain": [
       "<Figure size 640x480 with 1 Axes>"
      ]
     },
     "metadata": {},
     "output_type": "display_data"
    }
   ],
   "source": [
    "sns.boxplot(x = hdStatus_df['huntingtondiseasestatus'], y = hdStatus_df['cg08763102'])"
   ]
  },
  {
   "cell_type": "code",
   "execution_count": null,
   "id": "f1bf01ea",
   "metadata": {},
   "outputs": [],
   "source": [
    "sns.boxplot(x = hdStatus_df['huntingtondiseasestatus'], y = hdStatus_df['cg22982173'])"
   ]
  }
 ],
 "metadata": {
  "kernelspec": {
   "display_name": "BDSC",
   "language": "python",
   "name": "python3"
  },
  "language_info": {
   "codemirror_mode": {
    "name": "ipython",
    "version": 3
   },
   "file_extension": ".py",
   "mimetype": "text/x-python",
   "name": "python",
   "nbconvert_exporter": "python",
   "pygments_lexer": "ipython3",
   "version": "3.13.3"
  }
 },
 "nbformat": 4,
 "nbformat_minor": 5
}
