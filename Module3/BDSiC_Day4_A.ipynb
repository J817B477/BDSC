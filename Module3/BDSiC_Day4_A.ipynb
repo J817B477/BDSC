{
 "cells": [
  {
   "cell_type": "code",
   "execution_count": 5,
   "id": "71d77f0e-8d7b-4b37-90cf-d01e5dcde84e",
   "metadata": {},
   "outputs": [
    {
     "name": "stderr",
     "output_type": "stream",
     "text": [
      "'gsutil' is not recognized as an internal or external command,\n",
      "operable program or batch file.\n"
     ]
    }
   ],
   "source": [
    "!gsutil cp gs://jax-presgraves-edusumner2-courses-code/IntrotoPythonII_2025/Module_4_material/*.csv /content/"
   ]
  },
  {
   "cell_type": "markdown",
   "id": "9aa7cb88-aa80-42cf-b8e6-aac2843794bb",
   "metadata": {},
   "source": [
    "# Summary of previous notebooks: \n",
    "---\n",
    "1. Data types (lists, strings, num, etc) and variables\n",
    "2. For loops\n",
    "3. Conditions: if elif else\n",
    "4. While loops (in passing)\n",
    "5. I/O\n",
    "\n",
    "# Summary of this notebook:\n",
    "---\n",
    "1. **FUN**CTIONS\n",
    "2. Modules and libraries\n",
    "3. Using libraries: Numpy, Pandas, Seaborn, Matplotlib and more. "
   ]
  },
  {
   "cell_type": "markdown",
   "id": "c659b6da-a8f4-473b-b50e-4b01d36ebf76",
   "metadata": {},
   "source": [
    "## Data sets: \n",
    "(For this notebook)\n",
    "1. titanic_pandas.csv\n",
    "    * Original dataset available here: https://github.com/pandas-dev/pandas/blob/main/doc/data/titanic.csv\n",
    "\n",
    "(Note: Data sets for the extra material notebook associated with Day4_A:) \n",
    "\n",
    "2. malariaMaize.csv\n",
    "\n",
    "3. mammals.csv\n",
    "    * find it here: https://zief0002.github.io/bespectacled-antelope/codebooks/mammals.html\n",
    "    * the extra materials notebook will demo of how to read it into your notebook\n"
   ]
  },
  {
   "cell_type": "markdown",
   "id": "c917d0c9-0c24-40fe-9551-661d0dbb64b7",
   "metadata": {},
   "source": [
    "## Additional resources: \n",
    "1. [NumPy: A guide for absolute beginners](https://numpy.org/doc/stable/user/absolute_beginners.html)\n",
    "2. [A list of the methods (and attributes) available with NumPy module](https://docs.scipy.org/doc/numpy-1.14.0/reference/generated/numpy.ndarray.html)\n",
    "3. [NumPy Cheat Sheet](https://s3.amazonaws.com/assets.datacamp.com/blog_assets/Numpy_Python_Cheat_Sheet.pdf)\n",
    "3. Pandas: Same as pythontutor.com there is..... ta da! **https://pandastutor.com/**\n",
    "3. [Ten minutes to pandas](https://pandas.pydata.org/docs/user_guide/10min.html) (really good!)\n",
    "4. [Pandas Cheat Sheet](http://pandas.pydata.org/Pandas_Cheat_Sheet.pdf)\n",
    "5. [Pandas documentation](http://pandas.pydata.org/pandas-docs/stable/)\n",
    "6. [Matplotlib Example Library](https://matplotlib.org/stable/gallery/index.html)\n",
    "7. [Visualization with Matplotlib](https://pandas.pydata.org/pandas-docs/version/0.15.0/visualization.html)"
   ]
  },
  {
   "cell_type": "markdown",
   "id": "c16751ed-8f07-4184-b27e-78d9b1f88e95",
   "metadata": {},
   "source": [
    "# Functions\n",
    "---\n",
    "**Procedural programming has an emphasis on bundling repeatable 'chunks' together in:**\n",
    "1. For loops\n",
    "\n",
    "2. Functions\n",
    "   * When you bundle up functions, you can create Modules and, eventually, when they get too large, external libraries/packages\n",
    "\n",
    "\n",
    "## Built-in Functions\n",
    "We've already seen some built in methods that are associated with particular data type.\n",
    "* e.g. `.upper()`, `.lower()`, `len()`, `str()`\n",
    "    \n",
    "We've also seen built in functions that work more generally and might even work differently depending on the arguments that they are given.\n",
    "*  `range()`\n",
    "    * `range(6)` or `range(0,6)` result in: [0,1,2,3,4,5]\n",
    "    * `range(1,6,3)` results in: [1,4] since it encompasses the range from 1-6 with steps of size 4\n",
    "* `type()` – returns type of data that is input as argument\n",
    "* `float()` – converts integer to a float\n",
    "* `round()`- rounds floats\n",
    "* `max()` – takes any number of arguments and returns the largest one. Hard to use on strings so use of floats and integers\n",
    "* `min()` – opposite of `max()`\n",
    "* `abs()` – absolute value but only takes one argument\n",
    "\n",
    "If you are interested, you can explore the [list of built in functions](https://docs.python.org/3/library/functions.html)."
   ]
  },
  {
   "cell_type": "markdown",
   "id": "3dbeb511-e744-4fcb-b22c-dce94a6128a0",
   "metadata": {},
   "source": [
    "## Creating functions \n",
    "Creating our own functions offers a number of advantages: \n",
    "* Allows us to re-use a block of code many times\n",
    "    * Reusable piece of code; allows for repeatability\n",
    "* If we need to change the code, we only have to do it to the one function (instead of each time it is called in a program)\n",
    "* Encapsulation (an important programming idea): Splitting code into functions, into little chunks that we can work on independently \n",
    "    * benefits of modularization\n",
    "    * Can use the block of code in other programs\n",
    "\n",
    "### Parts of a function: \n",
    "1. Header\n",
    "    * `def function_name` – there are nomenclature rules\n",
    "    * parameters – name of arguments located between `()`\n",
    "    * `:`\n",
    "    * Example:\n",
    "        * `def hello_world():`\n",
    "2. (optional) comment\n",
    "    * explanation of function following `#` \n",
    "3. Body\n",
    "    * The procedures of the function, indented four spaces\n",
    "\n",
    "**Example:**\n",
    "\n",
    "<div class=\"alert alert-block alert-warning\">\n",
    "    \n",
    "    def function_name(argument or nothing at all):\n",
    "        Blah\n",
    "        Blah\n",
    "        Blah\n",
    "        return something\n"
   ]
  },
  {
   "cell_type": "markdown",
   "id": "0efa5f87-06a3-4142-b03e-920039359f97",
   "metadata": {},
   "source": [
    "### Key Points about Functions\n",
    "* Functions don’t necessarily have to return a value\n",
    "    * If no return, they will return None\n",
    "* Functions don’t need to take arguments\n",
    "* Functions don’t need to take arguments in particular order if you include a key word\n",
    "* Function arguments can have defaults \n",
    "* Functions can use *args, an argument passed into a function that **allows a flexible number of items to be inputted when the function is called**\n",
    "\n",
    "#### **Important Note:** \n",
    "There is a BIG difference between **defining** a function and **calling** it.\n",
    "* After defining a function, you must call it in order for it to be executed.\n",
    "* **Functions return to where they are called from.**\n",
    "    * At the end of a function, `return` prompts Python to exit the function and assign any values on the return line to the variable that called the function in the first place. If you do not include a return line, Python will automatically provide “None” for you.\n",
    "    \n",
    "To summarise: **the calling function suspends execution at the point of the call, the body of the function is executed, and control is returned to just after the point where the function was called.**\n",
    "    \n",
    "Similar **scoping rules** apply to functions as to loops. That is: variables created within the body of a function cannot be called outside of the function or you will get a NameError."
   ]
  },
  {
   "cell_type": "markdown",
   "id": "ebab9985-1381-42a4-a855-34b4abca8a7a",
   "metadata": {},
   "source": [
    "### Calling a function\n",
    "* What return value/type?\n",
    "* What argument type/number?\n",
    "* Sometimes you also need to know the order of the arguments\n",
    "    1. Key word arguments:\n",
    "        * Allows us to call functions with list of variables in whatever order we like\n",
    "    2. Defaults:\n",
    "        * Allows us to specify default values for arguments\n"
   ]
  },
  {
   "cell_type": "markdown",
   "id": "71e0c07c-2fb0-40d0-a49a-032165d01e64",
   "metadata": {},
   "source": [
    "### Examples of User-Defined Functions:"
   ]
  },
  {
   "cell_type": "code",
   "execution_count": 6,
   "id": "524492c2-e117-4d51-b073-283cb8b15bde",
   "metadata": {},
   "outputs": [
    {
     "name": "stdout",
     "output_type": "stream",
     "text": [
      "10 to the power of 2 is: 100\n",
      "Here is the return statement to orient me\n",
      "100 to the power of 2 is: 10000\n",
      "Here is the return statement to orient me\n",
      "100\n",
      "10000\n"
     ]
    }
   ],
   "source": [
    "# here you are defining the function\n",
    "# This function raises a given number to a given power\n",
    "# NOTE: you should put all of your function definitions at the top of your program \n",
    "def power_to(base,exponent):\n",
    "    res = base**exponent\n",
    "    print(str(base)+ \" to the power of \" + str(exponent)+ \" is: \" +str(res))\n",
    "    print(\"Here is the return statement to orient me\")\n",
    "    # The function returns something, but it doesn't HAVE TO. \n",
    "    return res\n",
    "\n",
    "# here you are calling the function\n",
    "# you are passing in two arguments to the function when you call it\n",
    "# from the main part of the program\n",
    "result_main=power_to(10,2)\n",
    "result_again=power_to(100,2)\n",
    "\n",
    "# Why does this raise an exception? \n",
    "#print(res)\n",
    "#print(base)\n",
    "# This error should help you understand scope. \n",
    "\n",
    "print(result_main)\n",
    "print(result_again)"
   ]
  },
  {
   "cell_type": "code",
   "execution_count": 7,
   "id": "dc2a9d3a-ac6c-4616-8ace-7744159d12e8",
   "metadata": {},
   "outputs": [
    {
     "name": "stdout",
     "output_type": "stream",
     "text": [
      "True\n",
      "False\n"
     ]
    }
   ],
   "source": [
    "## Functions can return a boolean\n",
    "def is_GandC_rich(dna):\n",
    "    length = len(dna)\n",
    "    g_count = dna.upper().count(\"G\")\n",
    "    c_count = dna.upper().count(\"C\")\n",
    "    gc_count=(g_count + c_count)/length\n",
    "    if gc_count > 0.65:\n",
    "        return True\n",
    "    else:\n",
    "        return False\n",
    "# Another slightly more efficient way to do this would be:\n",
    "#   return gc_count > 0.65\n",
    "\n",
    "print(is_GandC_rich(\"CGCGCGTACG\"))\n",
    "print(is_GandC_rich(\"ATATATATATA\"))"
   ]
  },
  {
   "cell_type": "markdown",
   "id": "6b2fa8c7-5934-43a5-aa9d-094f56af8244",
   "metadata": {},
   "source": [
    "### [Rosalind Problem Revisted](https://rosalind.info/problems/gc/)\n",
    "\n",
    "Let's modify this problem slightly to find the AT content of a provided DNA string.\n",
    "\n",
    "The total percentage of A and T in the sequence is important since it can be informative about mutation rates, [as described by Hershberg & Petrov\n",
    "](https://journals.plos.org/plosgenetics/article?id=10.1371/journal.pgen.1001115).\n",
    "\n",
    "Solve this using functions. We can dissect out the cell below to figure it out. "
   ]
  },
  {
   "cell_type": "code",
   "execution_count": 8,
   "id": "2f9c46ea-529b-40d2-8a05-f0544e74f860",
   "metadata": {},
   "outputs": [
    {
     "name": "stdout",
     "output_type": "stream",
     "text": [
      "0.47\n",
      "_______\n",
      "0.54545\n",
      "_______\n",
      "0.57143\n"
     ]
    }
   ],
   "source": [
    "# notice that we are passing two arguments to this function and \n",
    "# one of them has a default value\n",
    "# also sig_dig is a keyword\n",
    "def get_at_content(dna,sig_dig=2):\n",
    "    length=len(dna)\n",
    "    #print(length)\n",
    "    a_count=dna.upper().count(\"A\")\n",
    "    t_count=dna.upper().count(\"T\")\n",
    "    at_content=(a_count+t_count)/length\n",
    "    #built in function round takes argument and number of decimal points \n",
    "    return round(at_content,sig_dig)\n",
    "\n",
    "# ----\n",
    "# main part of the program\n",
    "# ----\n",
    "my_at_content=get_at_content(\"ATATATATACGGGGGGGGG\")\n",
    "# no sig dig have been specified so it gives you the default of 2 \n",
    "print(str(my_at_content))\n",
    "print(\"_______\")\n",
    "\n",
    "# we can specify both arguments\n",
    "print(get_at_content(\"aactgtagcga\",5))\n",
    "print(\"_______\")\n",
    "\n",
    "# BY USING KEY WORDS, YOU DON'T EVEN HAVE TO PROVIDE THE ARGUMENTS IN THE SAME ORDER!\n",
    "print(get_at_content(sig_dig=5,dna=\"ATGCGATAGTATCCCTAGGAT\"))"
   ]
  },
  {
   "cell_type": "markdown",
   "id": "6b2a957d-6a34-4dca-b708-94bb017118c9",
   "metadata": {},
   "source": [
    "### Other Argument Types"
   ]
  },
  {
   "cell_type": "markdown",
   "id": "1fb9d7c3-b421-451e-9b39-53692e483762",
   "metadata": {},
   "source": [
    "#### Functions can take lists as input\n",
    "* Functions can take lists as arguments\n",
    "    * You can pass a list to a function the same way you pass any argument\n",
    "    * You will need to use one of the two formats: \n",
    "        function_name(listname) or function_name([list items])\n",
    "\n",
    "##### Example:"
   ]
  },
  {
   "cell_type": "code",
   "execution_count": 9,
   "id": "ca1d9399-18b5-4352-aacf-f60000e3faad",
   "metadata": {},
   "outputs": [
    {
     "name": "stdout",
     "output_type": "stream",
     "text": [
      "2\n",
      "2\n"
     ]
    }
   ],
   "source": [
    "def fizz_count(x):\n",
    "#Define a function that counts the number of times \"fizz\" is in the list\n",
    "    count=0\n",
    "    for item in x:\n",
    "        if item==\"fizz\":\n",
    "            count=count+1\n",
    "    return count\n",
    "\n",
    "# we can create a list with a name\n",
    "fizzy_list=[\"fizz\",\"cat\",\"fizz\"]\n",
    "# pass list name into the function\n",
    "print(fizz_count(fizzy_list))\n",
    "\n",
    "# or we can directly pass a list into the function\n",
    "print(fizz_count([\"fizz\",\"cat\",\"fizz\"]))"
   ]
  },
  {
   "cell_type": "markdown",
   "id": "f12aa2cd-2809-4524-84b2-c60c055409cf",
   "metadata": {},
   "source": [
    "#### Functions can take multiple lists as input:"
   ]
  },
  {
   "cell_type": "code",
   "execution_count": 10,
   "id": "1a11d223-c396-48be-8324-d3835a06271e",
   "metadata": {},
   "outputs": [
    {
     "name": "stdout",
     "output_type": "stream",
     "text": [
      "[1, 2, 3, 4, 5, 6]\n"
     ]
    }
   ],
   "source": [
    "# Functions can also take multiple lists as input \n",
    "def join_lists(x,y):\n",
    "    return x+y\n",
    "\n",
    "m = [1, 2, 3]\n",
    "n = [4, 5, 6]\n",
    "\n",
    "print(join_lists(m, n))"
   ]
  },
  {
   "cell_type": "markdown",
   "id": "4f0551b5-1dba-4c20-acc3-a3e373ac296f",
   "metadata": {},
   "source": [
    "#### Functions can take a FLEXIBLE number of arguments:\n",
    "\n",
    "<div class=\"alert alert-block alert-warning\">\n",
    "\n",
    "    Note that the important part of *args name isn't actually arg, it is *. https://realpython.com/python-kwargs-and-args/"
   ]
  },
  {
   "cell_type": "code",
   "execution_count": 11,
   "id": "48c1609a-647d-4381-940b-157e3050ee77",
   "metadata": {},
   "outputs": [
    {
     "name": "stdout",
     "output_type": "stream",
     "text": [
      "How about with FOUR arguments provided: \n",
      "10\n",
      "What about with only two arguments provided: \n",
      "3\n"
     ]
    }
   ],
   "source": [
    "# *args means it is expecting a range of arguments. \n",
    "def my_sum(*args):\n",
    "    result = 0\n",
    "    # Iterating over the Python args tuple\n",
    "    for x in args:\n",
    "        result += x\n",
    "    return result\n",
    "\n",
    "print(\"How about with FOUR arguments provided: \")\n",
    "print(my_sum(1,2,3,4))\n",
    "print(\"What about with only two arguments provided: \")\n",
    "print(my_sum(1,2))\n",
    "#print(my_sum())"
   ]
  },
  {
   "cell_type": "markdown",
   "id": "1cef8f27-540d-4db4-9202-641656603d6b",
   "metadata": {},
   "source": [
    "# Modules\n",
    "---\n",
    "Python (and most other languages) have built-in functions that are general use.\n",
    "\n",
    "Modules and libraries (we’ll learn about them later) are a way to address discipline-centric functions.\n",
    "\n",
    "We can import modules that contain functions and variables:\n",
    "       \n",
    "        import math\n",
    "        print(math.sqrt(100))\n",
    "\n",
    "or, equivalently, we can bring in just one function from a module like so:\n",
    "       \n",
    "\t\tfrom math import sqrt\n",
    "\t\tprint(sqrt(100))\n",
    "\n",
    "or we can import all the functions from a module using an asterisk:\n",
    "\n",
    "        from math import *"
   ]
  },
  {
   "cell_type": "markdown",
   "id": "7035f101-9282-4d55-9b59-6fbf8587af55",
   "metadata": {},
   "source": [
    "## What are modules?\n",
    "* Collection of specialized functions, data types\n",
    "    * More efficient\n",
    "    * Allows for code re-use\n",
    "    * Acts as documentation for other programmers (or you) who read your program later\n",
    "* Modularization: tools when you need them, they don’t automatically load\n",
    "* Library – a module which contains groups of related functions \n",
    "* Come with documentation\n",
    "\n",
    "## Namespace\n",
    "* Scope of the name of the function\n",
    "* Modules have their own namespace (the names of the functions that belong to that particular module)\n",
    "    * The documentation should give you a list of names in the namespace\n",
    "    * To get list of names in namespace: \n",
    "\n",
    "            import my_module\n",
    "\n",
    "            print(dir(my_module))\n",
    "* Conventions: \n",
    "    * Uppercase names: constants\n",
    "    * _names <- are internal use only\n",
    "    * _ _ names <- special meaning\n",
    "\n",
    "## Importing Modules"
   ]
  },
  {
   "cell_type": "code",
   "execution_count": 13,
   "id": "15eb6419-bbc3-4734-aedb-f411730553d9",
   "metadata": {},
   "outputs": [],
   "source": [
    "# Our DS library stack\n",
    "import numpy as np\n",
    "import pandas as pd\n",
    "import seaborn as sn\n",
    "import matplotlib.pyplot as plt"
   ]
  },
  {
   "cell_type": "markdown",
   "id": "190e31be-1991-4852-82cd-30fb68fb7844",
   "metadata": {},
   "source": [
    "## Using Modules"
   ]
  },
  {
   "cell_type": "code",
   "execution_count": null,
   "id": "d1302136-edd7-4edd-9c5c-2a0ac3a39a74",
   "metadata": {},
   "outputs": [],
   "source": [
    "# here is an example that calls a module named random. This is usually standard when you download Python. \n",
    "import random\n",
    "# instead of importing the whole random module, you could import just ONE function from it\n",
    "#from random import randint \n",
    "\n",
    "print(\"Lucky numbers! Three numbers will be generated\")\n",
    "print(\"If one of them is 5, you lose.\")\n",
    "\n",
    "count = 0\n",
    "while count <3:\n",
    "    num=random.randint(1,6)\n",
    "    #num = randint(1, 10)\n",
    "    print(num)\n",
    "    if num == 5:\n",
    "        print(\"Sorry, you lose!\")\n",
    "        break # the break means the else loop will be bypassed if the if condition is met\n",
    "    count+=1\n",
    "else:\n",
    "    print(\"you win!\")\n",
    "\n",
    "print(\"See you again.\")"
   ]
  },
  {
   "cell_type": "markdown",
   "id": "e3902f08-816b-4f1b-a8e8-5a52463970a8",
   "metadata": {},
   "source": [
    "# NumPy, Pandas, and other important DS libraries/packages\n",
    "---\n",
    "```\n",
    "\"Good data scientists understand, in a deep way, that the heavy lifting of cleanup and preparation are not something that gets in the way of solving the problem: it IS the problem\" - DJ Patil\n",
    "```\n",
    "\n",
    "Tidy data: \n",
    "1. each variable is in a column\n",
    "2. each observation is a row\n",
    "3. one table for each type of data\n",
    "\n",
    "Clean Data: \n",
    "* data cleaning is the process of detecting and removing data records that are: incomplete, irrelevant, inaccurate, and does not contain duplicates.\n",
    "\n",
    "## NumPy\n",
    "NumPy is a Python package. It stands for 'Numerical Python' and it is ground zero for Data Science libraries. It is the basis for most of the other useful libraries in Data Science - almost everything is optimized with respect to a particular data type that NumPy introduced called an array. Two dimensional (and more dimensions) are really challenging in programming so the invention of a straightforward object by NumPy meant that a bunch of other challenges became easier to solve. That's why it is everywhere!\n",
    "\n",
    "**Two major benefits of NumPy that we'll focus on:**\n",
    "\n",
    "1. efficiency of the numpy array object\n",
    "\n",
    "2. slicing, slicing, slicing (okay, and subsetting)\n",
    "\n",
    "(3. methods associated with numpy array objects)\n",
    "\n",
    "**But, like, specifically: Why do we care about arrays?**\n",
    "* Arrays can be 1D, like lists, but they can also be 2D, like matrices, and higher-dimensional still. This allows them to represent many different kinds of numerical data (and photos can be 2D grids...). \n",
    "* Arrays can be operated on along axes. We will often want to do things like calculate the sum down each column. We do this by specifying axis=0.\n",
    "* Arrays allow the expression of many numerical operations at once. \n",
    "\n",
    "Basic Functions of NumPy include:\n",
    "1. Fast vectorized array operations for data wrangling, subsetting, filtering, transformations without having to use if/elif/else branches. Basically, **applying conditions and criteria**. \n",
    "2. Common algorithms such as sorting, unique, max, min, abs\n",
    "3. Efficient descriptive statistics like filling an array from elements chosen from a normal distribution and aggregating data (probably mostly use PANDAS for that, though)\n",
    "4. Slicing"
   ]
  },
  {
   "cell_type": "markdown",
   "id": "a2a92aaa-39a9-466f-859e-49e2ad8d40f6",
   "metadata": {},
   "source": [
    "### Group problem: \n",
    "1. BMI is a (rightfully) suspect term for tracking health but it is convenient and, thus, still widely used as a summary statistic.\n",
    "   \n",
    "   We will create two lists - first in Python and then in NumPy - and compare the speed and ease of using plain old Python to Numpy when calculating BMI (which is weight/height^2) \n",
    "\n",
    "    **Data:** <br>\n",
    "    `height = [1.87,  1.87, 1.82, 1.91, 1.90, 1.85]` <br>\n",
    "    `weight = [81.65, 97.52, 95.25, 92.98, 86.18, 88.45]` <br>"
   ]
  },
  {
   "cell_type": "code",
   "execution_count": null,
   "id": "fcda6356-1344-4e2d-aded-b935bc2d5f14",
   "metadata": {},
   "outputs": [
    {
     "data": {
      "text/plain": [
       "[23.35, 27.89, 28.76, 25.49, 23.87, 25.84]"
      ]
     },
     "execution_count": 2,
     "metadata": {},
     "output_type": "execute_result"
    }
   ],
   "source": [
    "## in python:\n",
    "height=[1.87, 1.87, 1.82, 1.91, 1.90, 1.85]\n",
    "weight = [81.65, 97.52, 95.25, 92.98, 86.18, 88.45]\n",
    "\n",
    "# Fill in with BMI variable here\n",
    "\n",
    "# list comprehension\n",
    "# [function_call for list-args-in-function in zip(lists in function)]\n",
    "bmi = [round(w/h**2,2) for w,h in zip(weight, height)]\n",
    "# then print it out!\n",
    "bmi"
   ]
  },
  {
   "cell_type": "code",
   "execution_count": null,
   "id": "394585c0-f65d-48e5-be84-a97f495d9c76",
   "metadata": {},
   "outputs": [
    {
     "name": "stdout",
     "output_type": "stream",
     "text": [
      "[23.35 27.89 28.76 25.49 23.87 25.84]\n",
      "28.76\n"
     ]
    }
   ],
   "source": [
    "import numpy as np\n",
    "\n",
    "# We can create arrays by using the array method from NumPy:\n",
    "height_np = np.array([1.87, 1.87, 1.82, 1.91, 1.90, 1.85])\n",
    "weight_np = np.array([81.65, 97.52, 95.25, 92.98, 86.18, 88.45])\n",
    "\n",
    "# Use functions from numpy to do the calculation in one go:\n",
    "BMI_np = np.round(weight_np/(np.power(height_np,2)),2)\n",
    "# then print it out!\n",
    "print(BMI_np)\n",
    "print(BMI_np[2])"
   ]
  },
  {
   "cell_type": "markdown",
   "id": "807d6055-5b2e-4332-b210-cb1c5e27f565",
   "metadata": {},
   "source": [
    "### Slicing with NumPy"
   ]
  },
  {
   "cell_type": "code",
   "execution_count": null,
   "id": "8f71c0c7-6240-48fa-aecd-f798c483cca1",
   "metadata": {},
   "outputs": [],
   "source": [
    "# An example of slicing (since this helps demonstrate why we care about NumPy so much). \n",
    "# What happens when you have a THREE dimensional (or higher) array? \n",
    "array_3d = np.array([[[1,2,3],[4,5,6]],[[7,8,9],[10,11,12]]])\n",
    "print(array_3d)\n",
    "print(array_3d.shape)\n",
    "print(\"~~~~~~~~~~\")\n",
    "\n",
    "#think about what you expect to print out here and why:\n",
    "print(array_3d[1,1,2])\n",
    "print(\"---------\")\n",
    "\n",
    "# what about here?:\n",
    "print(array_3d[0,1,2])\n",
    "print(\"~~~~~~~~~\")\n",
    "\n",
    "print(array_3d[0])\n",
    "print(\"---------\")\n",
    "\n",
    "print(array_3d[0][1])\n",
    "print(\"~~~~~~~~~\")\n",
    "\n",
    "print(array_3d[0][0][2])"
   ]
  },
  {
   "cell_type": "markdown",
   "id": "1cf34603",
   "metadata": {},
   "source": [
    "workflow: get columns, convert to np.array, perform array level operations, assign results to df var"
   ]
  },
  {
   "cell_type": "markdown",
   "id": "07bcddf2-3bfe-424b-ab56-7f46326fcffd",
   "metadata": {},
   "source": [
    "## Pandas"
   ]
  },
  {
   "cell_type": "markdown",
   "id": "737e1663-6e2b-43a8-939d-fb1c0b013349",
   "metadata": {},
   "source": [
    "Pandas is an open source data analysis and manipulation module for Python.\n",
    "\n",
    "It can be used to import files, such as .csv files, and work with their data in a manner similar to the one provided by R!\n",
    "\n",
    "Pandas can be used to create dataframes, which are 2D tabular data structures with labeled axes (rows and columns). "
   ]
  },
  {
   "cell_type": "markdown",
   "id": "01e1f66f-f3b4-435e-9719-e674b08bab40",
   "metadata": {},
   "source": [
    "### Titanic Dataset"
   ]
  },
  {
   "cell_type": "code",
   "execution_count": 14,
   "id": "de5ea466-55f3-4cf9-bfde-093bde2abb53",
   "metadata": {},
   "outputs": [
    {
     "data": {
      "application/vnd.microsoft.datawrangler.viewer.v0+json": {
       "columns": [
        {
         "name": "index",
         "rawType": "int64",
         "type": "integer"
        },
        {
         "name": "pclass",
         "rawType": "float64",
         "type": "float"
        },
        {
         "name": "survived",
         "rawType": "float64",
         "type": "float"
        },
        {
         "name": "name",
         "rawType": "object",
         "type": "string"
        },
        {
         "name": "sex",
         "rawType": "object",
         "type": "string"
        },
        {
         "name": "age",
         "rawType": "float64",
         "type": "float"
        },
        {
         "name": "sibsp",
         "rawType": "float64",
         "type": "float"
        },
        {
         "name": "parch",
         "rawType": "float64",
         "type": "float"
        },
        {
         "name": "ticket",
         "rawType": "object",
         "type": "string"
        },
        {
         "name": "fare",
         "rawType": "float64",
         "type": "float"
        },
        {
         "name": "cabin",
         "rawType": "object",
         "type": "string"
        },
        {
         "name": "embarked",
         "rawType": "object",
         "type": "string"
        },
        {
         "name": "boat",
         "rawType": "object",
         "type": "unknown"
        },
        {
         "name": "body",
         "rawType": "float64",
         "type": "float"
        },
        {
         "name": "home.dest",
         "rawType": "object",
         "type": "string"
        }
       ],
       "ref": "968a67ef-f583-4d56-9e16-9aa072cf98bc",
       "rows": [
        [
         "0",
         "1.0",
         "1.0",
         "Allen, Miss. Elisabeth Walton",
         "female",
         "29.0",
         "0.0",
         "0.0",
         "24160",
         "211.3375",
         "B5",
         "S",
         "2",
         null,
         "St Louis, MO"
        ],
        [
         "1",
         "1.0",
         "1.0",
         "Allison, Master. Hudson Trevor",
         "male",
         "0.9167",
         "1.0",
         "2.0",
         "113781",
         "151.55",
         "C22 C26",
         "S",
         "11",
         null,
         "Montreal, PQ / Chesterville, ON"
        ],
        [
         "2",
         "1.0",
         "0.0",
         "Allison, Miss. Helen Loraine",
         "female",
         "2.0",
         "1.0",
         "2.0",
         "113781",
         "151.55",
         "C22 C26",
         "S",
         null,
         null,
         "Montreal, PQ / Chesterville, ON"
        ],
        [
         "3",
         "1.0",
         "0.0",
         "Allison, Mr. Hudson Joshua Creighton",
         "male",
         "30.0",
         "1.0",
         "2.0",
         "113781",
         "151.55",
         "C22 C26",
         "S",
         null,
         "135.0",
         "Montreal, PQ / Chesterville, ON"
        ],
        [
         "4",
         "1.0",
         "0.0",
         "Allison, Mrs. Hudson J C (Bessie Waldo Daniels)",
         "female",
         "25.0",
         "1.0",
         "2.0",
         "113781",
         "151.55",
         "C22 C26",
         "S",
         null,
         null,
         "Montreal, PQ / Chesterville, ON"
        ]
       ],
       "shape": {
        "columns": 14,
        "rows": 5
       }
      },
      "text/html": [
       "<div>\n",
       "<style scoped>\n",
       "    .dataframe tbody tr th:only-of-type {\n",
       "        vertical-align: middle;\n",
       "    }\n",
       "\n",
       "    .dataframe tbody tr th {\n",
       "        vertical-align: top;\n",
       "    }\n",
       "\n",
       "    .dataframe thead th {\n",
       "        text-align: right;\n",
       "    }\n",
       "</style>\n",
       "<table border=\"1\" class=\"dataframe\">\n",
       "  <thead>\n",
       "    <tr style=\"text-align: right;\">\n",
       "      <th></th>\n",
       "      <th>pclass</th>\n",
       "      <th>survived</th>\n",
       "      <th>name</th>\n",
       "      <th>sex</th>\n",
       "      <th>age</th>\n",
       "      <th>sibsp</th>\n",
       "      <th>parch</th>\n",
       "      <th>ticket</th>\n",
       "      <th>fare</th>\n",
       "      <th>cabin</th>\n",
       "      <th>embarked</th>\n",
       "      <th>boat</th>\n",
       "      <th>body</th>\n",
       "      <th>home.dest</th>\n",
       "    </tr>\n",
       "  </thead>\n",
       "  <tbody>\n",
       "    <tr>\n",
       "      <th>0</th>\n",
       "      <td>1.0</td>\n",
       "      <td>1.0</td>\n",
       "      <td>Allen, Miss. Elisabeth Walton</td>\n",
       "      <td>female</td>\n",
       "      <td>29.0000</td>\n",
       "      <td>0.0</td>\n",
       "      <td>0.0</td>\n",
       "      <td>24160</td>\n",
       "      <td>211.3375</td>\n",
       "      <td>B5</td>\n",
       "      <td>S</td>\n",
       "      <td>2</td>\n",
       "      <td>NaN</td>\n",
       "      <td>St Louis, MO</td>\n",
       "    </tr>\n",
       "    <tr>\n",
       "      <th>1</th>\n",
       "      <td>1.0</td>\n",
       "      <td>1.0</td>\n",
       "      <td>Allison, Master. Hudson Trevor</td>\n",
       "      <td>male</td>\n",
       "      <td>0.9167</td>\n",
       "      <td>1.0</td>\n",
       "      <td>2.0</td>\n",
       "      <td>113781</td>\n",
       "      <td>151.5500</td>\n",
       "      <td>C22 C26</td>\n",
       "      <td>S</td>\n",
       "      <td>11</td>\n",
       "      <td>NaN</td>\n",
       "      <td>Montreal, PQ / Chesterville, ON</td>\n",
       "    </tr>\n",
       "    <tr>\n",
       "      <th>2</th>\n",
       "      <td>1.0</td>\n",
       "      <td>0.0</td>\n",
       "      <td>Allison, Miss. Helen Loraine</td>\n",
       "      <td>female</td>\n",
       "      <td>2.0000</td>\n",
       "      <td>1.0</td>\n",
       "      <td>2.0</td>\n",
       "      <td>113781</td>\n",
       "      <td>151.5500</td>\n",
       "      <td>C22 C26</td>\n",
       "      <td>S</td>\n",
       "      <td>NaN</td>\n",
       "      <td>NaN</td>\n",
       "      <td>Montreal, PQ / Chesterville, ON</td>\n",
       "    </tr>\n",
       "    <tr>\n",
       "      <th>3</th>\n",
       "      <td>1.0</td>\n",
       "      <td>0.0</td>\n",
       "      <td>Allison, Mr. Hudson Joshua Creighton</td>\n",
       "      <td>male</td>\n",
       "      <td>30.0000</td>\n",
       "      <td>1.0</td>\n",
       "      <td>2.0</td>\n",
       "      <td>113781</td>\n",
       "      <td>151.5500</td>\n",
       "      <td>C22 C26</td>\n",
       "      <td>S</td>\n",
       "      <td>NaN</td>\n",
       "      <td>135.0</td>\n",
       "      <td>Montreal, PQ / Chesterville, ON</td>\n",
       "    </tr>\n",
       "    <tr>\n",
       "      <th>4</th>\n",
       "      <td>1.0</td>\n",
       "      <td>0.0</td>\n",
       "      <td>Allison, Mrs. Hudson J C (Bessie Waldo Daniels)</td>\n",
       "      <td>female</td>\n",
       "      <td>25.0000</td>\n",
       "      <td>1.0</td>\n",
       "      <td>2.0</td>\n",
       "      <td>113781</td>\n",
       "      <td>151.5500</td>\n",
       "      <td>C22 C26</td>\n",
       "      <td>S</td>\n",
       "      <td>NaN</td>\n",
       "      <td>NaN</td>\n",
       "      <td>Montreal, PQ / Chesterville, ON</td>\n",
       "    </tr>\n",
       "  </tbody>\n",
       "</table>\n",
       "</div>"
      ],
      "text/plain": [
       "   pclass  survived                                             name     sex  \\\n",
       "0     1.0       1.0                    Allen, Miss. Elisabeth Walton  female   \n",
       "1     1.0       1.0                   Allison, Master. Hudson Trevor    male   \n",
       "2     1.0       0.0                     Allison, Miss. Helen Loraine  female   \n",
       "3     1.0       0.0             Allison, Mr. Hudson Joshua Creighton    male   \n",
       "4     1.0       0.0  Allison, Mrs. Hudson J C (Bessie Waldo Daniels)  female   \n",
       "\n",
       "       age  sibsp  parch  ticket      fare    cabin embarked boat   body  \\\n",
       "0  29.0000    0.0    0.0   24160  211.3375       B5        S    2    NaN   \n",
       "1   0.9167    1.0    2.0  113781  151.5500  C22 C26        S   11    NaN   \n",
       "2   2.0000    1.0    2.0  113781  151.5500  C22 C26        S  NaN    NaN   \n",
       "3  30.0000    1.0    2.0  113781  151.5500  C22 C26        S  NaN  135.0   \n",
       "4  25.0000    1.0    2.0  113781  151.5500  C22 C26        S  NaN    NaN   \n",
       "\n",
       "                         home.dest  \n",
       "0                     St Louis, MO  \n",
       "1  Montreal, PQ / Chesterville, ON  \n",
       "2  Montreal, PQ / Chesterville, ON  \n",
       "3  Montreal, PQ / Chesterville, ON  \n",
       "4  Montreal, PQ / Chesterville, ON  "
      ]
     },
     "execution_count": 14,
     "metadata": {},
     "output_type": "execute_result"
    }
   ],
   "source": [
    "# here we import the Titanic data set\n",
    "#---------------------\n",
    "# Note: your filepath will possibly look different depending on where you placed the \n",
    "# Titanic_pandas.csv file or if you are using colab and uploading files. \n",
    "#---------------------\n",
    "\n",
    "titanic_pandas = pd.read_csv(\"Titanic_pandas.csv\")\n",
    "\n",
    "# If you don't have the file saved locally, you can use the following line instead:\n",
    "# titanic_pandas = pd.read_csv(\"https://raw.githubusercontent.com/awnorowski/BDSiC_2025/refs/heads/main/data/Titanic_pandas.csv\")\n",
    "\n",
    "# The .head() method allows us to peak at the top of the dataframe\n",
    "titanic_pandas.head()\n",
    "\n",
    "#We could also print the dataframe, but the formatting will not be as nice\n",
    "#print(titanic_pandas)"
   ]
  },
  {
   "cell_type": "markdown",
   "id": "6b43b914-27aa-4a54-b9fd-7f29c6c017bc",
   "metadata": {},
   "source": [
    "### DataFrame Methods\n",
    "Pandas dataframes have a number of built-in methods that allow us to quickly examine the data. For a full list of methods, see the [pandas.DataFrame documentation](https://pandas.pydata.org/pandas-docs/version/0.22/generated/pandas.DataFrame.html)."
   ]
  },
  {
   "cell_type": "code",
   "execution_count": 15,
   "id": "b381a643-4e24-435d-8c75-c4356c426965",
   "metadata": {},
   "outputs": [
    {
     "name": "stdout",
     "output_type": "stream",
     "text": [
      "Index(['pclass', 'survived', 'name', 'sex', 'age', 'sibsp', 'parch', 'ticket',\n",
      "       'fare', 'cabin', 'embarked', 'boat', 'body', 'home.dest'],\n",
      "      dtype='object')\n",
      "\n",
      "~~~~~~~~~~~~~~~~~~~~\n",
      "\n",
      "      pclass  survived                              name     sex   age  sibsp  \\\n",
      "984      3.0       1.0  Madigan, Miss. Margaret \"Maggie\"  female   NaN    0.0   \n",
      "1183     3.0       0.0         Salonen, Mr. Johan Werner    male  39.0    0.0   \n",
      "594      2.0       0.0             Wheadon, Mr. Edward H    male  66.0    0.0   \n",
      "\n",
      "      parch      ticket    fare cabin embarked boat  body  \\\n",
      "984     0.0      370370   7.750   NaN        Q   15   NaN   \n",
      "1183    0.0     3101296   7.925   NaN        S  NaN   NaN   \n",
      "594     0.0  C.A. 24579  10.500   NaN        S  NaN   NaN   \n",
      "\n",
      "                             home.dest  \n",
      "984                                NaN  \n",
      "1183                               NaN  \n",
      "594   Guernsey, England / Edgewood, RI  \n",
      "\n",
      "-----------\n",
      "\n",
      "            pclass     survived          age        sibsp        parch  \\\n",
      "count  1309.000000  1309.000000  1046.000000  1309.000000  1309.000000   \n",
      "mean      2.294882     0.381971    29.881135     0.498854     0.385027   \n",
      "std       0.837836     0.486055    14.413500     1.041658     0.865560   \n",
      "min       1.000000     0.000000     0.166700     0.000000     0.000000   \n",
      "25%       2.000000     0.000000    21.000000     0.000000     0.000000   \n",
      "50%       3.000000     0.000000    28.000000     0.000000     0.000000   \n",
      "75%       3.000000     1.000000    39.000000     1.000000     0.000000   \n",
      "max       3.000000     1.000000    80.000000     8.000000     9.000000   \n",
      "\n",
      "              fare        body  \n",
      "count  1308.000000  121.000000  \n",
      "mean     33.295479  160.809917  \n",
      "std      51.758668   97.696922  \n",
      "min       0.000000    1.000000  \n",
      "25%       7.895800   72.000000  \n",
      "50%      14.454200  155.000000  \n",
      "75%      31.275000  256.000000  \n",
      "max     512.329200  328.000000  \n",
      "\n",
      "-----------\n",
      "\n",
      "   pclass  survived                            name     sex      age  sibsp  \\\n",
      "0     1.0       1.0   Allen, Miss. Elisabeth Walton  female  29.0000    0.0   \n",
      "1     1.0       1.0  Allison, Master. Hudson Trevor    male   0.9167    1.0   \n",
      "\n",
      "   parch  ticket      fare    cabin embarked boat  body  \\\n",
      "0    0.0   24160  211.3375       B5        S    2   NaN   \n",
      "1    2.0  113781  151.5500  C22 C26        S   11   NaN   \n",
      "\n",
      "                         home.dest  \n",
      "0                     St Louis, MO  \n",
      "1  Montreal, PQ / Chesterville, ON  \n",
      "\n",
      "-----------\n",
      "\n",
      "(1310, 14)\n"
     ]
    }
   ],
   "source": [
    "# Columns are a *parameter* of dataframes\n",
    "print(titanic_pandas.columns)\n",
    "print(\"\\n~~~~~~~~~~~~~~~~~~~~\\n\")\n",
    "\n",
    "# Some important pandas DataFrame methods.\n",
    "# What do these do?\n",
    "print(titanic_pandas.sample(3))\n",
    "print(\"\\n-----------\\n\")\n",
    "\n",
    "print(titanic_pandas.describe())\n",
    "print(\"\\n-----------\\n\")\n",
    "\n",
    "print(titanic_pandas.head(2))\n",
    "print(\"\\n-----------\\n\")\n",
    "\n",
    "print(titanic_pandas.shape)"
   ]
  },
  {
   "cell_type": "markdown",
   "id": "9d166833-bb95-4c61-8f5a-9376d43d479b",
   "metadata": {},
   "source": [
    "### Working with a DataFrame in Pandas\n",
    "Let's explore some different ways of working with data using pandas.\n",
    "\n",
    "Two things we will investigate:\n",
    "1. How to sort the data set by sex\n",
    "2. How about survival? Survival is coded as: 0 (died), 1 (survived)\n",
    "\n",
    "Let's start with the `.groupby` function."
   ]
  },
  {
   "cell_type": "code",
   "execution_count": null,
   "id": "96175d62-7b8c-417e-86b8-8e48984e688d",
   "metadata": {},
   "outputs": [],
   "source": [
    "# groupby is AMAZING. It emulates a lot of the functionality of SQL!\n",
    "# .groupby(names of the column to group on)[column(s) on which to perform the method].method()\n",
    "# remember the python tutorial example about dog breeds - they used groupby in that query!\n",
    "print(titanic_pandas.groupby('pclass')['age'].mean())\n",
    "#print(titanic_pandas.groupby('survived')['age'].mean())\n",
    "\n",
    "print(\"~~ NOT THE SAME THING AS USING DOUBLE BRACKETS: double brackets is a dataframe, single is a series~~~\")\n",
    "print(titanic_pandas[['pclass','age']].mean())\n",
    "print(\"~~~~~\"*10)\n",
    "print(titanic_pandas[\"pclass\"].value_counts())\n",
    "\n",
    "# How to sort the data by sex:\n",
    "# fill in below with examples during class!\n",
    "#\n",
    "#\n",
    "\n",
    "#mean age of the classes and sex: we can select for more than one column at a time: \n",
    "#print(titanic_pandas.groupby(FILL IN ))\n",
    "#what about .count method?\n",
    "#print(titanic_pandas.groupby(FILL IN ))\n",
    "# how many survived -let's use .sum()\n",
    "# FILL IN \n",
    "print(\"$$$$$$$$$$\")\n",
    "#print(titanic_pandas.groupby(FILL IN ))\n",
    "print(\"------------aggregate function --------------\")\n",
    "#aggregate function!\n",
    "print(titanic_pandas.groupby('age').aggregate('sum'))"
   ]
  },
  {
   "cell_type": "markdown",
   "id": "ce944c5e-7f8a-406a-aaef-d4e05da27e10",
   "metadata": {},
   "source": [
    "#### Methods: `.unique`, `.dropna`, and `.value_counts`"
   ]
  },
  {
   "cell_type": "code",
   "execution_count": null,
   "id": "1afd0e2d-c09d-4ff9-bd32-267a2b83a5f1",
   "metadata": {},
   "outputs": [],
   "source": [
    "# TITANIC data set - introducing some methods\n",
    "# We can see the unique method in use for the titanic data set\n",
    "print(titanic_pandas[\"embarked\"].unique())\n",
    "# We can get rid of the nan strings\n",
    "print(titanic_pandas[\"embarked\"].dropna().unique())\n",
    "print(titanic_pandas[\"embarked\"].value_counts())"
   ]
  },
  {
   "cell_type": "markdown",
   "id": "caccbfbd-adde-4f65-aebf-332d8acb1c0f",
   "metadata": {},
   "source": [
    "#### Additional Examples\n",
    "\n",
    "Survival of passengers $\\leq$ 5 years old:\n",
    "1. How many children survived who were 5 or under years old? \n",
    "2. How many children 5 or under were on the titanic in the first place?\n",
    "3. Print out the class, sex and age of any children 5 or under who survived .\n"
   ]
  },
  {
   "cell_type": "code",
   "execution_count": null,
   "id": "b312ca09-0e0d-4712-abe7-a3b3f0dba108",
   "metadata": {},
   "outputs": [],
   "source": [
    "print(\"How many children, 5 and under, were on the titanic?\")\n",
    "# FILL IN WITH LOGIC\n",
    "print(\"How many children, 5 and under, survived the sinking of the Titanic?\")\n",
    "# FILL IN WITH LOGIC COMMAND"
   ]
  },
  {
   "cell_type": "markdown",
   "id": "f779c1c5-a859-47fb-8e28-3343e6e41725",
   "metadata": {},
   "source": [
    "### Plotting data\n",
    "Here are some examples of plotting data using [DataFrame.plot](https://pandas.pydata.org/pandas-docs/version/0.22/generated/pandas.DataFrame.plot.html) and matplotlib.pyplot."
   ]
  },
  {
   "cell_type": "code",
   "execution_count": null,
   "id": "0474df57-ab9e-4066-88d9-4f57b4d7f2de",
   "metadata": {},
   "outputs": [],
   "source": [
    "# a few basic plots with Titanic: \n",
    "titanic_scatter=titanic_pandas.plot.scatter('age', 'fare', c = \"blue\", s = 5, xlabel=\"Age (years)\", ylabel=\"Fare (pounds, 1912 prices)\")"
   ]
  },
  {
   "cell_type": "code",
   "execution_count": null,
   "id": "e8543d05-2af5-4efe-b3c3-91b0c563c356",
   "metadata": {},
   "outputs": [],
   "source": [
    "titanic_hist = titanic_pandas.fare.plot.hist(bins = 40, color = 'green',xlabel='Fare(pounds, 1912 prices)')"
   ]
  },
  {
   "cell_type": "code",
   "execution_count": null,
   "id": "75994e91-2961-4c8c-aab7-cfec739f5482",
   "metadata": {},
   "outputs": [],
   "source": [
    "# bar plot\n",
    "contingency_titanic = titanic_pandas.groupby(['pclass', 'survived']).size().unstack()\n",
    "titanic_barplot = contingency_titanic.plot.bar(stacked=True, xlabel=\"Passenger class\",ylabel=\"Counts\",color = [\"lightblue\", \"darkblue\"])\n",
    "#titanic_barplot = contingency_titanic.plot.bar(color = [\"lightblue\", \"darkblue\"])\n",
    "#plt.ylabel(\"Counts\")\n",
    "#plt.xlabel('Passenger class')\n",
    "plt.xticks(rotation=0)\n",
    "#plt.show(titanic_barplot)"
   ]
  },
  {
   "cell_type": "code",
   "execution_count": null,
   "id": "5dba225d-66c1-4dfa-b9b8-55d803b6f82c",
   "metadata": {},
   "outputs": [],
   "source": [
    "contingency_titanic = titanic_pandas.groupby(['pclass',\"sex\",\"survived\"]).size().unstack()\n",
    "titanic_barplot = contingency_titanic.plot.bar(stacked=True, \n",
    "                                               color = [\"lightblue\", \"darkblue\"])\n",
    "plt.ylabel(\"Counts\")\n",
    "plt.xlabel('Passenger class')\n",
    "plt.xticks(rotation=0)\n",
    "#---------------------\n",
    "plt.savefig('Titanic_tester.png')\n",
    "plt.show(titanic_barplot)"
   ]
  }
 ],
 "metadata": {
  "kernelspec": {
   "display_name": "BDSC",
   "language": "python",
   "name": "python3"
  },
  "language_info": {
   "codemirror_mode": {
    "name": "ipython",
    "version": 3
   },
   "file_extension": ".py",
   "mimetype": "text/x-python",
   "name": "python",
   "nbconvert_exporter": "python",
   "pygments_lexer": "ipython3",
   "version": "3.13.3"
  }
 },
 "nbformat": 4,
 "nbformat_minor": 5
}
